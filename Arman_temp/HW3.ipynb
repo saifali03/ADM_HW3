{
 "cells": [
  {
   "cell_type": "code",
   "execution_count": 3,
   "metadata": {},
   "outputs": [],
   "source": [
    "import os\n",
    "import time\n",
    "import crawler\n",
    "import requests \n",
    "import pandas as pd\n",
    "from tqdm import tqdm\n",
    "from bs4 import BeautifulSoup\n",
    "from constants import *"
   ]
  },
  {
   "cell_type": "markdown",
   "metadata": {},
   "source": [
    "This notebook contains the third homework assignment for the ADM course. \n",
    "\n",
    "To improve the organization of the project, we created three additional Python files: `constants`, `crawler`, and `search_engine`.\n",
    "\n",
    "- **`constants`**: Contains variables for constant links and paths used throughout the project.  \n",
    "- **`crawler`**: Includes functions necessary for scraping data from the Michelin website.  \n",
    "- **`search_engine`**: Provides key functions to identify the best restaurants based on the given query."
   ]
  },
  {
   "cell_type": "markdown",
   "metadata": {},
   "source": [
    "### Part 1 (Data collection)"
   ]
  },
  {
   "cell_type": "markdown",
   "metadata": {},
   "source": [
    "#### 1.1. Get the list of Michelin restaurants\n"
   ]
  },
  {
   "cell_type": "markdown",
   "metadata": {},
   "source": [
    "`get_restaurants_links` scrapes restaurant links from a website across multiple pages. It constructs URLs for each page, fetches their content, and parses the HTML to extract restaurant links. Each link is stored in a list with a prefix indicating the page number. The function returns the complete list of links."
   ]
  },
  {
   "cell_type": "code",
   "execution_count": 6,
   "metadata": {},
   "outputs": [
    {
     "name": "stderr",
     "output_type": "stream",
     "text": [
      "100%|██████████| 100/100 [00:52<00:00,  1.90it/s]\n"
     ]
    }
   ],
   "source": [
    "restaurants_list = crawler.get_restaurants_links()"
   ]
  },
  {
   "cell_type": "markdown",
   "metadata": {},
   "source": [
    "1. **`write_restaurants_list`**:\n",
    "   - This function takes a list of restaurant links and saves them to a text file, with each link written on a new line."
   ]
  },
  {
   "cell_type": "code",
   "execution_count": 7,
   "metadata": {},
   "outputs": [],
   "source": [
    "def write_restaurants_list(restaurants_list):\n",
    "    with open('restaurants.txt', 'w') as _file:\n",
    "        restaurants_str = '\\n'.join(restaurants_list)  # Convert the list to a single string with newline separators\n",
    "        _file.write(restaurants_str)  # Write the string to the file\n",
    "\n",
    "write_restaurants_list(restaurants_list)"
   ]
  },
  {
   "cell_type": "markdown",
   "metadata": {},
   "source": [
    "2. **`read_restaurants_list`**:\n",
    "   - This function reads the restaurant links from a text file and returns them as a list, where each line in the file corresponds to one link."
   ]
  },
  {
   "cell_type": "code",
   "execution_count": null,
   "metadata": {},
   "outputs": [],
   "source": [
    "def read_restaurants_list():\n",
    "    with open('restaurants.txt', 'r') as _file:\n",
    "        restaurants_list = _file.read().split('\\n')  # Split the file content into a list of lines\n",
    "\n",
    "    return restaurants_list  # Return the list of restaurant links\n",
    "\n",
    "# Read the list from the file and print it\n",
    "restaurants_list = read_restaurants_list()\n",
    "print(restaurants_list)\n"
   ]
  },
  {
   "cell_type": "markdown",
   "metadata": {},
   "source": [
    "#### 1.2. Crawl Michelin restaurant pages"
   ]
  },
  {
   "cell_type": "markdown",
   "metadata": {},
   "source": [
    "**`download_restaurants_pages`**:  \n",
    "This function downloads the HTML content of restaurant pages from a list of URLs. It organizes the saved pages into directories named after the page number from which the links were extracted. Each restaurant's page is saved as an HTML file using the last part of its URL as the file name."
   ]
  },
  {
   "cell_type": "code",
   "execution_count": 44,
   "metadata": {},
   "outputs": [
    {
     "name": "stderr",
     "output_type": "stream",
     "text": [
      "100%|██████████| 1983/1983 [08:58<00:00,  3.68it/s]\n"
     ]
    }
   ],
   "source": [
    "crawler.download_restaurants_pages(restaurants_list)"
   ]
  },
  {
   "cell_type": "markdown",
   "metadata": {},
   "source": [
    "### 1.3. Parse downloaded pages"
   ]
  },
  {
   "cell_type": "markdown",
   "metadata": {},
   "source": [
    "#### To parse each page we need the following functions provided in crawler.py\n",
    "\n",
    "1. **`extract_title`**: Retrieves the restaurant's name from the HTML content.\n",
    "2. **`extract_address`**: Parses and structures the address, city, postal code, and country from the given details.\n",
    "3. **`extract_details`**: Extracts the price range and cuisine type of the restaurant.\n",
    "4. **`extract_description`**: Retrieves the restaurant's description from the HTML content.\n",
    "5. **`extract_facilities`**: Extracts a list of available facilities or services provided by the restaurant.\n",
    "6. **`extract_cards`**: Extracts the names of accepted credit cards from the HTML content.\n",
    "7. **`extract_phone_number`**: Retrieves the restaurant's phone number.\n",
    "8. **`extract_website`**: Extracts the restaurant's website URL, if available.\n",
    "9. **`process_restaurant_file`**: Processes a single restaurant's HTML file, extracting its attributes and appending them to a dictionary.\n",
    "10. **`process_pages`**: Iterates through directories of restaurant HTML files, extracting their details into a consolidated attributes dictionary."
   ]
  },
  {
   "cell_type": "code",
   "execution_count": 3,
   "metadata": {},
   "outputs": [
    {
     "name": "stderr",
     "output_type": "stream",
     "text": [
      "100%|██████████| 100/100 [04:16<00:00,  2.57s/it]\n"
     ]
    }
   ],
   "source": [
    "pages = os.listdir(pages_base_dir)\n",
    "pages.sort(key=lambda x: int(x[4:]))\n",
    "\n",
    "rest_attr_dict = crawler.process_pages(pages, pages_base_dir)"
   ]
  },
  {
   "cell_type": "code",
   "execution_count": 5,
   "metadata": {},
   "outputs": [
    {
     "data": {
      "text/html": [
       "<div>\n",
       "<style scoped>\n",
       "    .dataframe tbody tr th:only-of-type {\n",
       "        vertical-align: middle;\n",
       "    }\n",
       "\n",
       "    .dataframe tbody tr th {\n",
       "        vertical-align: top;\n",
       "    }\n",
       "\n",
       "    .dataframe thead th {\n",
       "        text-align: right;\n",
       "    }\n",
       "</style>\n",
       "<table border=\"1\" class=\"dataframe\">\n",
       "  <thead>\n",
       "    <tr style=\"text-align: right;\">\n",
       "      <th></th>\n",
       "      <th>restaurantName</th>\n",
       "      <th>address</th>\n",
       "      <th>city</th>\n",
       "      <th>postalCode</th>\n",
       "      <th>country</th>\n",
       "      <th>priceRange</th>\n",
       "      <th>cuisineType</th>\n",
       "      <th>description</th>\n",
       "      <th>facilitiesServices</th>\n",
       "      <th>creditCards</th>\n",
       "      <th>phoneNumber</th>\n",
       "      <th>website</th>\n",
       "    </tr>\n",
       "  </thead>\n",
       "  <tbody>\n",
       "    <tr>\n",
       "      <th>0</th>\n",
       "      <td>La Trattoria Enrico Bartolini</td>\n",
       "      <td>Località Badiola</td>\n",
       "      <td>Castiglione della Pescaia</td>\n",
       "      <td>58043</td>\n",
       "      <td>Italy</td>\n",
       "      <td>€€€€</td>\n",
       "      <td>Mediterranean Cuisine, Grills</td>\n",
       "      <td>After a majestic picture-postcard approach via...</td>\n",
       "      <td>[Air conditioning, Car park, Garden or park, I...</td>\n",
       "      <td>[Amex, Mastercard, Visa]</td>\n",
       "      <td>+39 0564 944322</td>\n",
       "      <td>https://www.enricobartolini.net/ristorante-la-...</td>\n",
       "    </tr>\n",
       "    <tr>\n",
       "      <th>1</th>\n",
       "      <td>Donevandro</td>\n",
       "      <td>via Garibaldi 2</td>\n",
       "      <td>Popoli</td>\n",
       "      <td>65026</td>\n",
       "      <td>Italy</td>\n",
       "      <td>€€</td>\n",
       "      <td>Contemporary, Seasonal Cuisine</td>\n",
       "      <td>Up until a few years ago, the owner-chef at th...</td>\n",
       "      <td>[Air conditioning]</td>\n",
       "      <td>[Mastercard, Visa]</td>\n",
       "      <td>+39 388 887 6858</td>\n",
       "      <td>http://www.donevandroristorante.it</td>\n",
       "    </tr>\n",
       "    <tr>\n",
       "      <th>2</th>\n",
       "      <td>O Me O Il Mare</td>\n",
       "      <td>Via Roma 45/47</td>\n",
       "      <td>Gragnano</td>\n",
       "      <td>80054</td>\n",
       "      <td>Italy</td>\n",
       "      <td>€€€€</td>\n",
       "      <td>Italian Contemporary, Modern Cuisine</td>\n",
       "      <td>Known around the world as the town of pasta, G...</td>\n",
       "      <td>[Air conditioning, Interesting wine list, Whee...</td>\n",
       "      <td>[Amex, Dinersclub, Mastercard, Visa]</td>\n",
       "      <td>+39 081 620 0550</td>\n",
       "      <td>None</td>\n",
       "    </tr>\n",
       "    <tr>\n",
       "      <th>3</th>\n",
       "      <td>Sa Domu Sarda</td>\n",
       "      <td>via Sassari 51</td>\n",
       "      <td>Cagliari</td>\n",
       "      <td>09124</td>\n",
       "      <td>Italy</td>\n",
       "      <td>€€</td>\n",
       "      <td>Sardinian</td>\n",
       "      <td>Despite being an island, Sardinia’s traditiona...</td>\n",
       "      <td>[Air conditioning, Terrace]</td>\n",
       "      <td>[Amex, Mastercard, Visa]</td>\n",
       "      <td>+39 070 653400</td>\n",
       "      <td>https://www.osteriasadomusarda.it/</td>\n",
       "    </tr>\n",
       "    <tr>\n",
       "      <th>4</th>\n",
       "      <td>Ape Vino e Cucina</td>\n",
       "      <td>Piazza Risorgimento 3</td>\n",
       "      <td>Alba</td>\n",
       "      <td>12051</td>\n",
       "      <td>Italy</td>\n",
       "      <td>€€</td>\n",
       "      <td>Piedmontese, Contemporary</td>\n",
       "      <td>This attractive restaurant in the heart of Alb...</td>\n",
       "      <td>[Air conditioning, Terrace, Wheelchair access]</td>\n",
       "      <td>[Amex, Dinersclub, Maestrocard, Mastercard, Visa]</td>\n",
       "      <td>+39 0173 363453</td>\n",
       "      <td>https://www.apewinebar.it/alba/</td>\n",
       "    </tr>\n",
       "  </tbody>\n",
       "</table>\n",
       "</div>"
      ],
      "text/plain": [
       "                  restaurantName                address  \\\n",
       "0  La Trattoria Enrico Bartolini       Località Badiola   \n",
       "1                     Donevandro        via Garibaldi 2   \n",
       "2                 O Me O Il Mare         Via Roma 45/47   \n",
       "3                  Sa Domu Sarda         via Sassari 51   \n",
       "4              Ape Vino e Cucina  Piazza Risorgimento 3   \n",
       "\n",
       "                        city postalCode country priceRange  \\\n",
       "0  Castiglione della Pescaia      58043   Italy       €€€€   \n",
       "1                     Popoli      65026   Italy         €€   \n",
       "2                   Gragnano      80054   Italy       €€€€   \n",
       "3                   Cagliari      09124   Italy         €€   \n",
       "4                       Alba      12051   Italy         €€   \n",
       "\n",
       "                            cuisineType  \\\n",
       "0         Mediterranean Cuisine, Grills   \n",
       "1        Contemporary, Seasonal Cuisine   \n",
       "2  Italian Contemporary, Modern Cuisine   \n",
       "3                             Sardinian   \n",
       "4             Piedmontese, Contemporary   \n",
       "\n",
       "                                         description  \\\n",
       "0  After a majestic picture-postcard approach via...   \n",
       "1  Up until a few years ago, the owner-chef at th...   \n",
       "2  Known around the world as the town of pasta, G...   \n",
       "3  Despite being an island, Sardinia’s traditiona...   \n",
       "4  This attractive restaurant in the heart of Alb...   \n",
       "\n",
       "                                  facilitiesServices  \\\n",
       "0  [Air conditioning, Car park, Garden or park, I...   \n",
       "1                                 [Air conditioning]   \n",
       "2  [Air conditioning, Interesting wine list, Whee...   \n",
       "3                        [Air conditioning, Terrace]   \n",
       "4     [Air conditioning, Terrace, Wheelchair access]   \n",
       "\n",
       "                                         creditCards       phoneNumber  \\\n",
       "0                           [Amex, Mastercard, Visa]   +39 0564 944322   \n",
       "1                                 [Mastercard, Visa]  +39 388 887 6858   \n",
       "2               [Amex, Dinersclub, Mastercard, Visa]  +39 081 620 0550   \n",
       "3                           [Amex, Mastercard, Visa]    +39 070 653400   \n",
       "4  [Amex, Dinersclub, Maestrocard, Mastercard, Visa]   +39 0173 363453   \n",
       "\n",
       "                                             website  \n",
       "0  https://www.enricobartolini.net/ristorante-la-...  \n",
       "1                 http://www.donevandroristorante.it  \n",
       "2                                               None  \n",
       "3                 https://www.osteriasadomusarda.it/  \n",
       "4                    https://www.apewinebar.it/alba/  "
      ]
     },
     "execution_count": 5,
     "metadata": {},
     "output_type": "execute_result"
    }
   ],
   "source": [
    "restaurants_df = pd.DataFrame(rest_attr_dict)\n",
    "restaurants_df.to_csv('restaurants.tsv', sep='\\t')\n",
    "restaurants_df.head(5)"
   ]
  },
  {
   "cell_type": "code",
   "execution_count": 87,
   "metadata": {},
   "outputs": [],
   "source": []
  },
  {
   "cell_type": "markdown",
   "metadata": {},
   "source": [
    "### Part 2 (Search Engine)"
   ]
  },
  {
   "cell_type": "code",
   "execution_count": 1,
   "metadata": {},
   "outputs": [
    {
     "name": "stderr",
     "output_type": "stream",
     "text": [
      "/home/ubuntu/.local/lib/python3.10/site-packages/pandas/core/arrays/masked.py:60: UserWarning: Pandas requires version '1.3.6' or newer of 'bottleneck' (version '1.3.5' currently installed).\n",
      "  from pandas.core import (\n",
      "[nltk_data] Downloading package stopwords to /home/ubuntu/nltk_data...\n",
      "[nltk_data]   Package stopwords is already up-to-date!\n",
      "[nltk_data] Downloading package punkt to /home/ubuntu/nltk_data...\n",
      "[nltk_data]   Package punkt is already up-to-date!\n"
     ]
    }
   ],
   "source": [
    "import search_engine\n",
    "\n",
    "import os\n",
    "import time\n",
    "import crawler\n",
    "import requests \n",
    "import numpy as np\n",
    "import pandas as pd\n",
    "from tqdm import tqdm\n",
    "from bs4 import BeautifulSoup\n",
    "from constants import *"
   ]
  },
  {
   "cell_type": "code",
   "execution_count": 2,
   "metadata": {},
   "outputs": [],
   "source": [
    "restaurants_df = pd.read_csv('restaurants.tsv', sep='\\t', index_col=0)"
   ]
  },
  {
   "cell_type": "markdown",
   "metadata": {},
   "source": [
    "### 2.0. Preprocessing"
   ]
  },
  {
   "cell_type": "markdown",
   "metadata": {},
   "source": [
    "**`clean_text`**:  \n",
    "This function preprocesses text for NLP tasks. It performs the following steps:  \n",
    "\n",
    "1. Converts the input text to lowercase.  \n",
    "2. Removes punctuation from the text.  \n",
    "3. Tokenizes the text into words.  \n",
    "4. Filters out stopwords (commonly used words with little semantic value).  \n",
    "5. Applies stemming to reduce words to their root form.  \n",
    "\n",
    "The function can return either a tokenized list of stemmed words or a cleaned string, depending on the `tokenized` parameter."
   ]
  },
  {
   "cell_type": "code",
   "execution_count": 3,
   "metadata": {},
   "outputs": [
    {
     "name": "stderr",
     "output_type": "stream",
     "text": [
      "100%|██████████| 1982/1982 [00:02<00:00, 907.47it/s]\n"
     ]
    }
   ],
   "source": [
    "tqdm.pandas()\n",
    "restaurants_df['cleaned_description'] = restaurants_df['description'].progress_apply(lambda text: search_engine.clean_text(text))"
   ]
  },
  {
   "cell_type": "markdown",
   "metadata": {},
   "source": [
    "### 2.1 Conjunctive Query"
   ]
  },
  {
   "cell_type": "markdown",
   "metadata": {},
   "source": [
    "#### 2.1.1 Create Our Index!"
   ]
  },
  {
   "cell_type": "markdown",
   "metadata": {},
   "source": [
    "**`create_vocab_indexer`**:  \n",
    "This function generates a vocabulary indexer from a specified column in a DataFrame. It tokenizes the text in the column, collects all unique tokens into a set, and converts the set into a DataFrame with a single column named `'token'`. The resulting DataFrame provides a list of all unique tokens in the text corpus."
   ]
  },
  {
   "cell_type": "code",
   "execution_count": 4,
   "metadata": {},
   "outputs": [],
   "source": [
    "vocab_df = search_engine.create_vocab_indexer(restaurants_df, 'cleaned_description')\n",
    "vocab_df.to_csv('vocabulary.csv')"
   ]
  },
  {
   "cell_type": "markdown",
   "metadata": {},
   "source": [
    "**`create_inverted_indexer`**:  \n",
    "This function builds an inverted index to map tokens from a vocabulary to the indices of restaurants whose descriptions contain those tokens. It iterates through each token in the vocabulary and checks where the token appears in the `'cleaned_description'` column of the restaurants DataFrame. The result is a dictionary where each token index is associated with a list of restaurant indices where the token occurs."
   ]
  },
  {
   "cell_type": "code",
   "execution_count": 5,
   "metadata": {},
   "outputs": [
    {
     "name": "stderr",
     "output_type": "stream",
     "text": [
      "7707it [00:14, 529.22it/s]\n"
     ]
    }
   ],
   "source": [
    "vocab_documents_dict = search_engine.create_inverted_indexer(vocab_df, restaurants_df)"
   ]
  },
  {
   "cell_type": "markdown",
   "metadata": {},
   "source": [
    "#### 2.1.2 Execute the Query"
   ]
  },
  {
   "cell_type": "markdown",
   "metadata": {},
   "source": [
    "**`conjunctive_search`**:  \n",
    "This function performs a conjunctive (AND) search on restaurant descriptions. It takes a query string, cleans and tokenizes it, and finds restaurants whose descriptions contain all the tokens in the query. It uses an inverted index to retrieve matching document indices for each token, intersects these indices to find common matches, and returns details (name, address, description, website) of the matching restaurants."
   ]
  },
  {
   "cell_type": "code",
   "execution_count": 7,
   "metadata": {},
   "outputs": [
    {
     "data": {
      "text/html": [
       "<div>\n",
       "<style scoped>\n",
       "    .dataframe tbody tr th:only-of-type {\n",
       "        vertical-align: middle;\n",
       "    }\n",
       "\n",
       "    .dataframe tbody tr th {\n",
       "        vertical-align: top;\n",
       "    }\n",
       "\n",
       "    .dataframe thead th {\n",
       "        text-align: right;\n",
       "    }\n",
       "</style>\n",
       "<table border=\"1\" class=\"dataframe\">\n",
       "  <thead>\n",
       "    <tr style=\"text-align: right;\">\n",
       "      <th></th>\n",
       "      <th>restaurantName</th>\n",
       "      <th>address</th>\n",
       "      <th>description</th>\n",
       "      <th>website</th>\n",
       "    </tr>\n",
       "  </thead>\n",
       "  <tbody>\n",
       "    <tr>\n",
       "      <th>1153</th>\n",
       "      <td>Ronchi Rò</td>\n",
       "      <td>località Cime di Dolegna 12</td>\n",
       "      <td>Ronchi Rò is an estate-cum-agriturismo surroun...</td>\n",
       "      <td>https://www.ronchiro.it</td>\n",
       "    </tr>\n",
       "    <tr>\n",
       "      <th>898</th>\n",
       "      <td>La Bandiera</td>\n",
       "      <td>contrada Pastini 4</td>\n",
       "      <td>Although it takes a while to reach this restau...</td>\n",
       "      <td>https://www.labandiera.it/</td>\n",
       "    </tr>\n",
       "    <tr>\n",
       "      <th>1544</th>\n",
       "      <td>Babette</td>\n",
       "      <td>via Michelangelo 17</td>\n",
       "      <td>Situated just beyond the centre of Albenga in ...</td>\n",
       "      <td>https://www.ristorantebabette.net/</td>\n",
       "    </tr>\n",
       "    <tr>\n",
       "      <th>1289</th>\n",
       "      <td>Flurin</td>\n",
       "      <td>Laubengasse 2</td>\n",
       "      <td>Flurin occupies an old medieval tower in Glore...</td>\n",
       "      <td>https://www.flurin.it</td>\n",
       "    </tr>\n",
       "    <tr>\n",
       "      <th>12</th>\n",
       "      <td>20Tre</td>\n",
       "      <td>via David Chiossone 20 r</td>\n",
       "      <td>Run by three partners, this contemporary-style...</td>\n",
       "      <td>https://www.ristorante20tregenova.it/</td>\n",
       "    </tr>\n",
       "  </tbody>\n",
       "</table>\n",
       "</div>"
      ],
      "text/plain": [
       "     restaurantName                      address  \\\n",
       "1153      Ronchi Rò  località Cime di Dolegna 12   \n",
       "898     La Bandiera           contrada Pastini 4   \n",
       "1544        Babette          via Michelangelo 17   \n",
       "1289         Flurin                Laubengasse 2   \n",
       "12            20Tre     via David Chiossone 20 r   \n",
       "\n",
       "                                            description  \\\n",
       "1153  Ronchi Rò is an estate-cum-agriturismo surroun...   \n",
       "898   Although it takes a while to reach this restau...   \n",
       "1544  Situated just beyond the centre of Albenga in ...   \n",
       "1289  Flurin occupies an old medieval tower in Glore...   \n",
       "12    Run by three partners, this contemporary-style...   \n",
       "\n",
       "                                    website  \n",
       "1153                https://www.ronchiro.it  \n",
       "898              https://www.labandiera.it/  \n",
       "1544     https://www.ristorantebabette.net/  \n",
       "1289                  https://www.flurin.it  \n",
       "12    https://www.ristorante20tregenova.it/  "
      ]
     },
     "execution_count": 7,
     "metadata": {},
     "output_type": "execute_result"
    }
   ],
   "source": [
    "search_engine.conjuctive_search(\"modern seasonal cuisine\", vocab_df, vocab_documents_dict, restaurants_df).head(5)"
   ]
  },
  {
   "cell_type": "markdown",
   "metadata": {},
   "source": [
    "#### 2.2.2 Execute the Ranked Query"
   ]
  },
  {
   "cell_type": "markdown",
   "metadata": {},
   "source": [
    "**`create_inverted_indexer_with_tfidf`**:  \n",
    "This function extends a traditional inverted index by incorporating TF-IDF (Term Frequency-Inverse Document Frequency) scores for each token in a restaurant dataset. It works as follows:  \n",
    "\n",
    "1. Iterates through each token in the vocabulary.\n",
    "2. Identifies which restaurant descriptions contain the token using regex for exact word matching.\n",
    "3. Calculates the **TF-IDF** score for the token in each matching document:  \n",
    "   - **TF**: Frequency of the token in the document divided by the total number of tokens in the document.  \n",
    "   - **IDF**: Logarithm of the total number of documents divided by the number of documents containing the token.  \n",
    "4. Stores the matching document indices along with their respective TF-IDF scores for each token in a dictionary.  \n",
    "\n",
    "The result is a dictionary where each token is mapped to a list of tuples containing document indices and their corresponding TF-IDF scores."
   ]
  },
  {
   "cell_type": "code",
   "execution_count": 8,
   "metadata": {},
   "outputs": [
    {
     "name": "stderr",
     "output_type": "stream",
     "text": [
      "  0%|          | 0/7707 [00:00<?, ?it/s]/home/ubuntu/TempRec/HW3/search_engine.py:102: FutureWarning: Series.__getitem__ treating keys as positions is deprecated. In a future version, integer keys will always be treated as labels (consistent with DataFrame behavior). To access a value by position, use `ser.iloc[pos]`\n",
      "  vocab = row[0]\n",
      "100%|██████████| 7707/7707 [01:31<00:00, 84.34it/s]\n"
     ]
    }
   ],
   "source": [
    "vocab_documents_with_tfidf = search_engine.create_inverted_indexer_with_tfidf(vocab_df, restaurants_df)"
   ]
  },
  {
   "cell_type": "markdown",
   "metadata": {},
   "source": [
    "**`cosine_similarity`**:  \n",
    "This function calculates the cosine similarity between a given vector and all rows in a matrix. Cosine similarity measures the angle between vectors, providing a score to determine how similar they are, irrespective of their magnitudes.  \n",
    "\n",
    "- It computes the norms (magnitudes) of the vector and each row of the matrix.  \n",
    "- It calculates the dot product of the vector with each matrix row.  \n",
    "- The cosine similarity is obtained by dividing the dot product by the product of the norms.  \n"
   ]
  },
  {
   "cell_type": "markdown",
   "metadata": {},
   "source": [
    "**`rank_search_engine`**\n",
    "\n",
    "This function performs ranked search for a query over a set of restaurant descriptions using TF-IDF and cosine similarity:\n",
    "\n",
    "1. **Query Processing:**  \n",
    "   - The input query is cleaned and tokenized.\n",
    "   - A binary vector representation of the query is created, where each position corresponds to a vocabulary term, and a `1` indicates the term is present in the query.\n",
    "\n",
    "2. **Constructing Document Vectors:**  \n",
    "   - Each restaurant is represented by a vector where each position corresponds to a vocabulary term.\n",
    "   - The TF-IDF scores from `vocab_documents_with_tfidf` are used to populate these vectors for each restaurant.\n",
    "\n",
    "3. **Computing Similarity:**  \n",
    "   - Cosine similarity is calculated between the query vector and all restaurant vectors.\n",
    "   - This determines how closely the query matches each restaurant's description.\n",
    "\n",
    "4. **Ranking Results:**  \n",
    "   - The restaurants are ranked by their similarity scores in descending order.\n",
    "   - The top `k` restaurants are selected based on their scores.\n",
    "\n",
    "5. **Returning Results:**  \n",
    "   - A DataFrame of the top `k` restaurants is returned, including their similarity scores, for display or further processing. \n"
   ]
  },
  {
   "cell_type": "code",
   "execution_count": 10,
   "metadata": {},
   "outputs": [
    {
     "name": "stderr",
     "output_type": "stream",
     "text": [
      "/home/ubuntu/TempRec/HW3/search_engine.py:179: SettingWithCopyWarning: \n",
      "A value is trying to be set on a copy of a slice from a DataFrame.\n",
      "Try using .loc[row_indexer,col_indexer] = value instead\n",
      "\n",
      "See the caveats in the documentation: https://pandas.pydata.org/pandas-docs/stable/user_guide/indexing.html#returning-a-view-versus-a-copy\n",
      "  selected_rests['Similarity Score'] = np.sort(similarity_scores)[::-1][:k]\n"
     ]
    }
   ],
   "source": [
    "ranked_results = search_engine.rank_search_engine(query='modern seasonal cuisine', \n",
    "                                                  vocab_df=vocab_df, \n",
    "                                                  vocab_documents_with_tfidf=vocab_documents_with_tfidf,\n",
    "                                                  restaurants_df=restaurants_df, \n",
    "                                                  k=10)"
   ]
  },
  {
   "cell_type": "markdown",
   "metadata": {},
   "source": [
    "### Part 4 (Visualizing the Most Relevant Restaurants)"
   ]
  },
  {
   "cell_type": "markdown",
   "metadata": {},
   "source": [
    "**`get_coordinates_with_details`**\n",
    "\n",
    "This function retrieves geographic coordinates (latitude and longitude) for a given restaurant by querying its detailed address, including postal code, city, and country. If the full address is unavailable, it falls back to using the city and country. It leverages the `geopy` library's `Nominatim` geocoder to perform the lookup."
   ]
  },
  {
   "cell_type": "markdown",
   "metadata": {},
   "source": [
    "**`enrich_with_coordinates`**\n",
    "\n",
    "This function enriches a restaurant DataFrame by adding latitude and longitude columns. It applies the `get_coordinates_with_details` function to each row to fetch coordinates and filters out rows where coordinates could not be determined."
   ]
  },
  {
   "cell_type": "code",
   "execution_count": 12,
   "metadata": {},
   "outputs": [],
   "source": [
    "from geopy.geocoders import Nominatim\n",
    "\n",
    "geolocator = Nominatim(user_agent=\"restaurant_locator\")\n",
    "\n",
    "def get_coordinates_with_details(row):\n",
    "    \"\"\"Get latitude and longitude using address, postal code, city, and country.\"\"\"\n",
    "    query = f\"{row['address']}, {row['postalCode']}, {row['city']}, {row['country']}\"\n",
    "    location = geolocator.geocode(query)\n",
    "    if location:\n",
    "        return location.latitude, location.longitude\n",
    "    elif location is None:\n",
    "        location = geolocator.geocode(f\"{row['city']}, {row['country']}\")\n",
    "        \n",
    "        if location:\n",
    "            return location.latitude, location.longitude\n",
    "\n",
    "    return None, None\n",
    "\n",
    "def enrich_with_coordinates(restaurants_df):\n",
    "    \"\"\"Add latitude and longitude to the DataFrame.\"\"\"\n",
    "    restaurants_df[['latitude', 'longitude']] = restaurants_df.apply(\n",
    "        lambda row: pd.Series(get_coordinates_with_details(row)), axis=1\n",
    "    )\n",
    "    return restaurants_df.dropna(subset=['latitude', 'longitude'])\n"
   ]
  },
  {
   "cell_type": "code",
   "execution_count": 14,
   "metadata": {},
   "outputs": [
    {
     "name": "stderr",
     "output_type": "stream",
     "text": [
      "/tmp/ipykernel_811801/421933408.py:21: SettingWithCopyWarning: \n",
      "A value is trying to be set on a copy of a slice from a DataFrame.\n",
      "Try using .loc[row_indexer,col_indexer] = value instead\n",
      "\n",
      "See the caveats in the documentation: https://pandas.pydata.org/pandas-docs/stable/user_guide/indexing.html#returning-a-view-versus-a-copy\n",
      "  restaurants_df[['latitude', 'longitude']] = restaurants_df.apply(\n"
     ]
    },
    {
     "data": {
      "text/html": [
       "<div style=\"width:100%;\"><div style=\"position:relative;width:100%;height:0;padding-bottom:60%;\"><span style=\"color:#565656\">Make this Notebook Trusted to load map: File -> Trust Notebook</span><iframe srcdoc=\"&lt;!DOCTYPE html&gt;\n",
       "&lt;html&gt;\n",
       "&lt;head&gt;\n",
       "    \n",
       "    &lt;meta http-equiv=&quot;content-type&quot; content=&quot;text/html; charset=UTF-8&quot; /&gt;\n",
       "    \n",
       "        &lt;script&gt;\n",
       "            L_NO_TOUCH = false;\n",
       "            L_DISABLE_3D = false;\n",
       "        &lt;/script&gt;\n",
       "    \n",
       "    &lt;style&gt;html, body {width: 100%;height: 100%;margin: 0;padding: 0;}&lt;/style&gt;\n",
       "    &lt;style&gt;#map {position:absolute;top:0;bottom:0;right:0;left:0;}&lt;/style&gt;\n",
       "    &lt;script src=&quot;https://cdn.jsdelivr.net/npm/leaflet@1.9.3/dist/leaflet.js&quot;&gt;&lt;/script&gt;\n",
       "    &lt;script src=&quot;https://code.jquery.com/jquery-3.7.1.min.js&quot;&gt;&lt;/script&gt;\n",
       "    &lt;script src=&quot;https://cdn.jsdelivr.net/npm/bootstrap@5.2.2/dist/js/bootstrap.bundle.min.js&quot;&gt;&lt;/script&gt;\n",
       "    &lt;script src=&quot;https://cdnjs.cloudflare.com/ajax/libs/Leaflet.awesome-markers/2.0.2/leaflet.awesome-markers.js&quot;&gt;&lt;/script&gt;\n",
       "    &lt;link rel=&quot;stylesheet&quot; href=&quot;https://cdn.jsdelivr.net/npm/leaflet@1.9.3/dist/leaflet.css&quot;/&gt;\n",
       "    &lt;link rel=&quot;stylesheet&quot; href=&quot;https://cdn.jsdelivr.net/npm/bootstrap@5.2.2/dist/css/bootstrap.min.css&quot;/&gt;\n",
       "    &lt;link rel=&quot;stylesheet&quot; href=&quot;https://netdna.bootstrapcdn.com/bootstrap/3.0.0/css/bootstrap-glyphicons.css&quot;/&gt;\n",
       "    &lt;link rel=&quot;stylesheet&quot; href=&quot;https://cdn.jsdelivr.net/npm/@fortawesome/fontawesome-free@6.2.0/css/all.min.css&quot;/&gt;\n",
       "    &lt;link rel=&quot;stylesheet&quot; href=&quot;https://cdnjs.cloudflare.com/ajax/libs/Leaflet.awesome-markers/2.0.2/leaflet.awesome-markers.css&quot;/&gt;\n",
       "    &lt;link rel=&quot;stylesheet&quot; href=&quot;https://cdn.jsdelivr.net/gh/python-visualization/folium/folium/templates/leaflet.awesome.rotate.min.css&quot;/&gt;\n",
       "    \n",
       "            &lt;meta name=&quot;viewport&quot; content=&quot;width=device-width,\n",
       "                initial-scale=1.0, maximum-scale=1.0, user-scalable=no&quot; /&gt;\n",
       "            &lt;style&gt;\n",
       "                #map_b8e54e45c47e19796c92ad88fcdff6d8 {\n",
       "                    position: relative;\n",
       "                    width: 100.0%;\n",
       "                    height: 100.0%;\n",
       "                    left: 0.0%;\n",
       "                    top: 0.0%;\n",
       "                }\n",
       "                .leaflet-container { font-size: 1rem; }\n",
       "            &lt;/style&gt;\n",
       "        \n",
       "&lt;/head&gt;\n",
       "&lt;body&gt;\n",
       "    \n",
       "    \n",
       "            &lt;div class=&quot;folium-map&quot; id=&quot;map_b8e54e45c47e19796c92ad88fcdff6d8&quot; &gt;&lt;/div&gt;\n",
       "        \n",
       "&lt;/body&gt;\n",
       "&lt;script&gt;\n",
       "    \n",
       "    \n",
       "            var map_b8e54e45c47e19796c92ad88fcdff6d8 = L.map(\n",
       "                &quot;map_b8e54e45c47e19796c92ad88fcdff6d8&quot;,\n",
       "                {\n",
       "                    center: [41.8719, 12.5674],\n",
       "                    crs: L.CRS.EPSG3857,\n",
       "                    zoom: 6,\n",
       "                    zoomControl: true,\n",
       "                    preferCanvas: false,\n",
       "                }\n",
       "            );\n",
       "\n",
       "            \n",
       "\n",
       "        \n",
       "    \n",
       "            var tile_layer_3c57650d7e42427cd1a7083de1f54a3b = L.tileLayer(\n",
       "                &quot;https://tile.openstreetmap.org/{z}/{x}/{y}.png&quot;,\n",
       "                {&quot;attribution&quot;: &quot;\\u0026copy; \\u003ca href=\\&quot;https://www.openstreetmap.org/copyright\\&quot;\\u003eOpenStreetMap\\u003c/a\\u003e contributors&quot;, &quot;detectRetina&quot;: false, &quot;maxNativeZoom&quot;: 19, &quot;maxZoom&quot;: 19, &quot;minZoom&quot;: 0, &quot;noWrap&quot;: false, &quot;opacity&quot;: 1, &quot;subdomains&quot;: &quot;abc&quot;, &quot;tms&quot;: false}\n",
       "            );\n",
       "        \n",
       "    \n",
       "            tile_layer_3c57650d7e42427cd1a7083de1f54a3b.addTo(map_b8e54e45c47e19796c92ad88fcdff6d8);\n",
       "        \n",
       "    \n",
       "            var marker_1c31ab8df59306015641b3d11554df17 = L.marker(\n",
       "                [45.3791667, 9.8995332],\n",
       "                {}\n",
       "            ).addTo(map_b8e54e45c47e19796c92ad88fcdff6d8);\n",
       "        \n",
       "    \n",
       "            var icon_c10ab2f0254e624011234cf145b36dda = L.AwesomeMarkers.icon(\n",
       "                {&quot;extraClasses&quot;: &quot;fa-rotate-0&quot;, &quot;icon&quot;: &quot;cutlery&quot;, &quot;iconColor&quot;: &quot;white&quot;, &quot;markerColor&quot;: &quot;blue&quot;, &quot;prefix&quot;: &quot;glyphicon&quot;}\n",
       "            );\n",
       "            marker_1c31ab8df59306015641b3d11554df17.setIcon(icon_c10ab2f0254e624011234cf145b36dda);\n",
       "        \n",
       "    \n",
       "        var popup_e6cccc92fe6f0d6d41bc2ddd7301212a = L.popup({&quot;maxWidth&quot;: &quot;100%&quot;});\n",
       "\n",
       "        \n",
       "            \n",
       "                var html_209dfe178f2aa71431a9de04c6fadadc = $(`&lt;div id=&quot;html_209dfe178f2aa71431a9de04c6fadadc&quot; style=&quot;width: 100.0%; height: 100.0%;&quot;&gt;         &lt;b&gt;Saur&lt;/b&gt;&lt;br&gt;         via Filippo Turati 8&lt;br&gt;         Barco, Italy&lt;br&gt;         Price Range: €€&lt;br&gt;         Cuisine Type: Italian Contemporary         &lt;/div&gt;`)[0];\n",
       "                popup_e6cccc92fe6f0d6d41bc2ddd7301212a.setContent(html_209dfe178f2aa71431a9de04c6fadadc);\n",
       "            \n",
       "        \n",
       "\n",
       "        marker_1c31ab8df59306015641b3d11554df17.bindPopup(popup_e6cccc92fe6f0d6d41bc2ddd7301212a)\n",
       "        ;\n",
       "\n",
       "        \n",
       "    \n",
       "    \n",
       "            var marker_4799acdb83bd327a3adcce71e4ed5897 = L.marker(\n",
       "                [45.0639545, 7.6848472],\n",
       "                {}\n",
       "            ).addTo(map_b8e54e45c47e19796c92ad88fcdff6d8);\n",
       "        \n",
       "    \n",
       "            var icon_0351729fbc1031fa15a09cc82ee4edbb = L.AwesomeMarkers.icon(\n",
       "                {&quot;extraClasses&quot;: &quot;fa-rotate-0&quot;, &quot;icon&quot;: &quot;cutlery&quot;, &quot;iconColor&quot;: &quot;white&quot;, &quot;markerColor&quot;: &quot;blue&quot;, &quot;prefix&quot;: &quot;glyphicon&quot;}\n",
       "            );\n",
       "            marker_4799acdb83bd327a3adcce71e4ed5897.setIcon(icon_0351729fbc1031fa15a09cc82ee4edbb);\n",
       "        \n",
       "    \n",
       "        var popup_40eebb6795ec34aca4dfc93e4c901a3a = L.popup({&quot;maxWidth&quot;: &quot;100%&quot;});\n",
       "\n",
       "        \n",
       "            \n",
       "                var html_d9554f146735d14441d57083c1fafedd = $(`&lt;div id=&quot;html_d9554f146735d14441d57083c1fafedd&quot; style=&quot;width: 100.0%; height: 100.0%;&quot;&gt;         &lt;b&gt;Razzo&lt;/b&gt;&lt;br&gt;         via Andrea Doria 17/f&lt;br&gt;         Turin, Italy&lt;br&gt;         Price Range: €€&lt;br&gt;         Cuisine Type: Modern Cuisine, Mediterranean Cuisine         &lt;/div&gt;`)[0];\n",
       "                popup_40eebb6795ec34aca4dfc93e4c901a3a.setContent(html_d9554f146735d14441d57083c1fafedd);\n",
       "            \n",
       "        \n",
       "\n",
       "        marker_4799acdb83bd327a3adcce71e4ed5897.bindPopup(popup_40eebb6795ec34aca4dfc93e4c901a3a)\n",
       "        ;\n",
       "\n",
       "        \n",
       "    \n",
       "    \n",
       "            var marker_b9911bee34941b09b434af92b4097e89 = L.marker(\n",
       "                [45.88345010240199, 8.541618227915755],\n",
       "                {}\n",
       "            ).addTo(map_b8e54e45c47e19796c92ad88fcdff6d8);\n",
       "        \n",
       "    \n",
       "            var icon_771490a1f1c8e41e14419b3f42c8827e = L.AwesomeMarkers.icon(\n",
       "                {&quot;extraClasses&quot;: &quot;fa-rotate-0&quot;, &quot;icon&quot;: &quot;cutlery&quot;, &quot;iconColor&quot;: &quot;white&quot;, &quot;markerColor&quot;: &quot;blue&quot;, &quot;prefix&quot;: &quot;glyphicon&quot;}\n",
       "            );\n",
       "            marker_b9911bee34941b09b434af92b4097e89.setIcon(icon_771490a1f1c8e41e14419b3f42c8827e);\n",
       "        \n",
       "    \n",
       "        var popup_71f665283944dcbeb3316fc5524739b9 = L.popup({&quot;maxWidth&quot;: &quot;100%&quot;});\n",
       "\n",
       "        \n",
       "            \n",
       "                var html_74be65d9ec3f14c5e8b9eef2417beab4 = $(`&lt;div id=&quot;html_74be65d9ec3f14c5e8b9eef2417beab4&quot; style=&quot;width: 100.0%; height: 100.0%;&quot;&gt;         &lt;b&gt;La Botte&lt;/b&gt;&lt;br&gt;         via Giuseppe Garibaldi 8&lt;br&gt;         Stresa, Italy&lt;br&gt;         Price Range: €€&lt;br&gt;         Cuisine Type: Modern Cuisine         &lt;/div&gt;`)[0];\n",
       "                popup_71f665283944dcbeb3316fc5524739b9.setContent(html_74be65d9ec3f14c5e8b9eef2417beab4);\n",
       "            \n",
       "        \n",
       "\n",
       "        marker_b9911bee34941b09b434af92b4097e89.bindPopup(popup_71f665283944dcbeb3316fc5524739b9)\n",
       "        ;\n",
       "\n",
       "        \n",
       "    \n",
       "    \n",
       "            var marker_14f53b25a0dbde9835a1a20f80c48ecb = L.marker(\n",
       "                [45.0669366, 7.6977088],\n",
       "                {}\n",
       "            ).addTo(map_b8e54e45c47e19796c92ad88fcdff6d8);\n",
       "        \n",
       "    \n",
       "            var icon_431c856cb725962f8137f2467fc53411 = L.AwesomeMarkers.icon(\n",
       "                {&quot;extraClasses&quot;: &quot;fa-rotate-0&quot;, &quot;icon&quot;: &quot;cutlery&quot;, &quot;iconColor&quot;: &quot;white&quot;, &quot;markerColor&quot;: &quot;blue&quot;, &quot;prefix&quot;: &quot;glyphicon&quot;}\n",
       "            );\n",
       "            marker_14f53b25a0dbde9835a1a20f80c48ecb.setIcon(icon_431c856cb725962f8137f2467fc53411);\n",
       "        \n",
       "    \n",
       "        var popup_817b5e1938fde185ce1cc74d391291a9 = L.popup({&quot;maxWidth&quot;: &quot;100%&quot;});\n",
       "\n",
       "        \n",
       "            \n",
       "                var html_8d7256aad2a26f02f2aac4a25c0f9ef0 = $(`&lt;div id=&quot;html_8d7256aad2a26f02f2aac4a25c0f9ef0&quot; style=&quot;width: 100.0%; height: 100.0%;&quot;&gt;         &lt;b&gt;Piccolo Lord&lt;/b&gt;&lt;br&gt;         corso San Maurizio 69 bis/g&lt;br&gt;         Turin, Italy&lt;br&gt;         Price Range: €€&lt;br&gt;         Cuisine Type: Mediterranean Cuisine, Seasonal Cuisine         &lt;/div&gt;`)[0];\n",
       "                popup_817b5e1938fde185ce1cc74d391291a9.setContent(html_8d7256aad2a26f02f2aac4a25c0f9ef0);\n",
       "            \n",
       "        \n",
       "\n",
       "        marker_14f53b25a0dbde9835a1a20f80c48ecb.bindPopup(popup_817b5e1938fde185ce1cc74d391291a9)\n",
       "        ;\n",
       "\n",
       "        \n",
       "    \n",
       "    \n",
       "            var marker_e9c9ba75768c2d65ba63b2a9532818ae = L.marker(\n",
       "                [45.81063282698768, 8.835311284870095],\n",
       "                {}\n",
       "            ).addTo(map_b8e54e45c47e19796c92ad88fcdff6d8);\n",
       "        \n",
       "    \n",
       "            var icon_28618827139bbfc4690506271d33e8ff = L.AwesomeMarkers.icon(\n",
       "                {&quot;extraClasses&quot;: &quot;fa-rotate-0&quot;, &quot;icon&quot;: &quot;cutlery&quot;, &quot;iconColor&quot;: &quot;white&quot;, &quot;markerColor&quot;: &quot;orange&quot;, &quot;prefix&quot;: &quot;glyphicon&quot;}\n",
       "            );\n",
       "            marker_e9c9ba75768c2d65ba63b2a9532818ae.setIcon(icon_28618827139bbfc4690506271d33e8ff);\n",
       "        \n",
       "    \n",
       "        var popup_1222002fac5b6c9f1e2ddf371eef4b71 = L.popup({&quot;maxWidth&quot;: &quot;100%&quot;});\n",
       "\n",
       "        \n",
       "            \n",
       "                var html_b727ae7a4eea6d2a39035102f0e96471 = $(`&lt;div id=&quot;html_b727ae7a4eea6d2a39035102f0e96471&quot; style=&quot;width: 100.0%; height: 100.0%;&quot;&gt;         &lt;b&gt;Al Vecchio Convento&lt;/b&gt;&lt;br&gt;         viale Borri 348&lt;br&gt;         Varese, Italy&lt;br&gt;         Price Range: €€€&lt;br&gt;         Cuisine Type: Tuscan, Grills         &lt;/div&gt;`)[0];\n",
       "                popup_1222002fac5b6c9f1e2ddf371eef4b71.setContent(html_b727ae7a4eea6d2a39035102f0e96471);\n",
       "            \n",
       "        \n",
       "\n",
       "        marker_e9c9ba75768c2d65ba63b2a9532818ae.bindPopup(popup_1222002fac5b6c9f1e2ddf371eef4b71)\n",
       "        ;\n",
       "\n",
       "        \n",
       "    \n",
       "    \n",
       "            var marker_bcc1714c097fc28836cc40320921336f = L.marker(\n",
       "                [45.730442774249745, 9.725618491324484],\n",
       "                {}\n",
       "            ).addTo(map_b8e54e45c47e19796c92ad88fcdff6d8);\n",
       "        \n",
       "    \n",
       "            var icon_d547918d5943d12da97a9d988d59cd07 = L.AwesomeMarkers.icon(\n",
       "                {&quot;extraClasses&quot;: &quot;fa-rotate-0&quot;, &quot;icon&quot;: &quot;cutlery&quot;, &quot;iconColor&quot;: &quot;white&quot;, &quot;markerColor&quot;: &quot;orange&quot;, &quot;prefix&quot;: &quot;glyphicon&quot;}\n",
       "            );\n",
       "            marker_bcc1714c097fc28836cc40320921336f.setIcon(icon_d547918d5943d12da97a9d988d59cd07);\n",
       "        \n",
       "    \n",
       "        var popup_645ecb27982415ce5ed86b02aa9048e8 = L.popup({&quot;maxWidth&quot;: &quot;100%&quot;});\n",
       "\n",
       "        \n",
       "            \n",
       "                var html_c25d9b9fafaff0dbaaa4347e7bec0d5a = $(`&lt;div id=&quot;html_c25d9b9fafaff0dbaaa4347e7bec0d5a&quot; style=&quot;width: 100.0%; height: 100.0%;&quot;&gt;         &lt;b&gt;RistoFante&lt;/b&gt;&lt;br&gt;         via Mazzini 41&lt;br&gt;         Alzano Lombardo, Italy&lt;br&gt;         Price Range: €€€&lt;br&gt;         Cuisine Type: Seafood         &lt;/div&gt;`)[0];\n",
       "                popup_645ecb27982415ce5ed86b02aa9048e8.setContent(html_c25d9b9fafaff0dbaaa4347e7bec0d5a);\n",
       "            \n",
       "        \n",
       "\n",
       "        marker_bcc1714c097fc28836cc40320921336f.bindPopup(popup_645ecb27982415ce5ed86b02aa9048e8)\n",
       "        ;\n",
       "\n",
       "        \n",
       "    \n",
       "    \n",
       "            var marker_b99759cf186bc09ad08ee3d259fc1e98 = L.marker(\n",
       "                [42.7509418, 13.95777745],\n",
       "                {}\n",
       "            ).addTo(map_b8e54e45c47e19796c92ad88fcdff6d8);\n",
       "        \n",
       "    \n",
       "            var icon_e1370abf488a8fb2098ffc5732c9663a = L.AwesomeMarkers.icon(\n",
       "                {&quot;extraClasses&quot;: &quot;fa-rotate-0&quot;, &quot;icon&quot;: &quot;cutlery&quot;, &quot;iconColor&quot;: &quot;white&quot;, &quot;markerColor&quot;: &quot;orange&quot;, &quot;prefix&quot;: &quot;glyphicon&quot;}\n",
       "            );\n",
       "            marker_b99759cf186bc09ad08ee3d259fc1e98.setIcon(icon_e1370abf488a8fb2098ffc5732c9663a);\n",
       "        \n",
       "    \n",
       "        var popup_14e6414d0b43a30fdee81ad188bce9cd = L.popup({&quot;maxWidth&quot;: &quot;100%&quot;});\n",
       "\n",
       "        \n",
       "            \n",
       "                var html_65ebbc3d2a0033ef31a53759b214bc5d = $(`&lt;div id=&quot;html_65ebbc3d2a0033ef31a53759b214bc5d&quot; style=&quot;width: 100.0%; height: 100.0%;&quot;&gt;         &lt;b&gt;Aprudia&lt;/b&gt;&lt;br&gt;         largo del Forno 16&lt;br&gt;         Giulianova, Italy&lt;br&gt;         Price Range: €€€&lt;br&gt;         Cuisine Type: Farm to table, Modern Cuisine         &lt;/div&gt;`)[0];\n",
       "                popup_14e6414d0b43a30fdee81ad188bce9cd.setContent(html_65ebbc3d2a0033ef31a53759b214bc5d);\n",
       "            \n",
       "        \n",
       "\n",
       "        marker_b99759cf186bc09ad08ee3d259fc1e98.bindPopup(popup_14e6414d0b43a30fdee81ad188bce9cd)\n",
       "        ;\n",
       "\n",
       "        \n",
       "    \n",
       "    \n",
       "            var marker_00eac06002e184646f54e61524779dc7 = L.marker(\n",
       "                [40.6623446, 14.4264683],\n",
       "                {}\n",
       "            ).addTo(map_b8e54e45c47e19796c92ad88fcdff6d8);\n",
       "        \n",
       "    \n",
       "            var icon_4d08a4cef0b616d338807bbe4c85b523 = L.AwesomeMarkers.icon(\n",
       "                {&quot;extraClasses&quot;: &quot;fa-rotate-0&quot;, &quot;icon&quot;: &quot;cutlery&quot;, &quot;iconColor&quot;: &quot;white&quot;, &quot;markerColor&quot;: &quot;blue&quot;, &quot;prefix&quot;: &quot;glyphicon&quot;}\n",
       "            );\n",
       "            marker_00eac06002e184646f54e61524779dc7.setIcon(icon_4d08a4cef0b616d338807bbe4c85b523);\n",
       "        \n",
       "    \n",
       "        var popup_fde8055afb262a7281104e32a69abec3 = L.popup({&quot;maxWidth&quot;: &quot;100%&quot;});\n",
       "\n",
       "        \n",
       "            \n",
       "                var html_959928dae433542236991cc6fb82e926 = $(`&lt;div id=&quot;html_959928dae433542236991cc6fb82e926&quot; style=&quot;width: 100.0%; height: 100.0%;&quot;&gt;         &lt;b&gt;Mima&lt;/b&gt;&lt;br&gt;         via Madonnelle 9&lt;br&gt;         Vico Equense, Italy&lt;br&gt;         Price Range: €€&lt;br&gt;         Cuisine Type: Seasonal Cuisine, Mediterranean Cuisine         &lt;/div&gt;`)[0];\n",
       "                popup_fde8055afb262a7281104e32a69abec3.setContent(html_959928dae433542236991cc6fb82e926);\n",
       "            \n",
       "        \n",
       "\n",
       "        marker_00eac06002e184646f54e61524779dc7.bindPopup(popup_fde8055afb262a7281104e32a69abec3)\n",
       "        ;\n",
       "\n",
       "        \n",
       "    \n",
       "    \n",
       "            var marker_6d3aaf516042edd215d1568a1594debd = L.marker(\n",
       "                [39.6978818, 16.1271277],\n",
       "                {}\n",
       "            ).addTo(map_b8e54e45c47e19796c92ad88fcdff6d8);\n",
       "        \n",
       "    \n",
       "            var icon_a276bdbcd98ee0198c5c9740c831cd89 = L.AwesomeMarkers.icon(\n",
       "                {&quot;extraClasses&quot;: &quot;fa-rotate-0&quot;, &quot;icon&quot;: &quot;cutlery&quot;, &quot;iconColor&quot;: &quot;white&quot;, &quot;markerColor&quot;: &quot;blue&quot;, &quot;prefix&quot;: &quot;glyphicon&quot;}\n",
       "            );\n",
       "            marker_6d3aaf516042edd215d1568a1594debd.setIcon(icon_a276bdbcd98ee0198c5c9740c831cd89);\n",
       "        \n",
       "    \n",
       "        var popup_7e45e8874fe95aebdc3f7de10dd706fe = L.popup({&quot;maxWidth&quot;: &quot;100%&quot;});\n",
       "\n",
       "        \n",
       "            \n",
       "                var html_11dbe9432bab1bb54d2060168256d785 = $(`&lt;div id=&quot;html_11dbe9432bab1bb54d2060168256d785&quot; style=&quot;width: 100.0%; height: 100.0%;&quot;&gt;         &lt;b&gt;Barbieri&lt;/b&gt;&lt;br&gt;         via Italo Barbieri&lt;br&gt;         Altomonte, Italy&lt;br&gt;         Price Range: €€&lt;br&gt;         Cuisine Type: Calabrian, Traditional Cuisine         &lt;/div&gt;`)[0];\n",
       "                popup_7e45e8874fe95aebdc3f7de10dd706fe.setContent(html_11dbe9432bab1bb54d2060168256d785);\n",
       "            \n",
       "        \n",
       "\n",
       "        marker_6d3aaf516042edd215d1568a1594debd.bindPopup(popup_7e45e8874fe95aebdc3f7de10dd706fe)\n",
       "        ;\n",
       "\n",
       "        \n",
       "    \n",
       "&lt;/script&gt;\n",
       "&lt;/html&gt;\" style=\"position:absolute;width:100%;height:100%;left:0;top:0;border:none !important;\" allowfullscreen webkitallowfullscreen mozallowfullscreen></iframe></div></div>"
      ],
      "text/plain": [
       "<folium.folium.Map at 0x7df4c7f72380>"
      ]
     },
     "execution_count": 14,
     "metadata": {},
     "output_type": "execute_result"
    }
   ],
   "source": [
    "import folium\n",
    "\n",
    "def plot_top_restaurants(top_k_restaurants):\n",
    "    \n",
    "    # Initialize a map centered on Italy\n",
    "    italy_map = folium.Map(location=[41.8719, 12.5674], zoom_start=6)\n",
    "    \n",
    "    # Define a color scheme for price ranges\n",
    "    price_color = {\n",
    "        \"€\": \"green\",\n",
    "        \"€€\": \"blue\",\n",
    "        \"€€€\": \"orange\",\n",
    "        \"€€€€\": \"red\"\n",
    "    }\n",
    "    \n",
    "    # Add each restaurant to the map\n",
    "    for _, row in top_k_restaurants.iterrows():\n",
    "        popup_info = f\"\"\"\n",
    "        <b>{row['restaurantName']}</b><br>\n",
    "        {row['address']}<br>\n",
    "        {row['city']}, {row['country']}<br>\n",
    "        Price Range: {row['priceRange']}<br>\n",
    "        Cuisine Type: {row['cuisineType']}\n",
    "        \"\"\"\n",
    "        \n",
    "        folium.Marker(\n",
    "            location=[row['latitude'], row['longitude']],\n",
    "            popup=popup_info,\n",
    "            icon=folium.Icon(color=price_color.get(row['priceRange'], \"gray\"), icon=\"cutlery\"),\n",
    "        ).add_to(italy_map)\n",
    "    \n",
    "    return italy_map\n",
    "\n",
    "enriched_restaurants_df = enrich_with_coordinates(ranked_results)  # Add coordinates to the DataFrame\n",
    "map_result = plot_top_restaurants(enriched_restaurants_df)\n",
    "\n",
    "# Display map in Jupyter notebook\n",
    "map_result\n"
   ]
  },
  {
   "cell_type": "code",
   "execution_count": null,
   "metadata": {},
   "outputs": [],
   "source": []
  }
 ],
 "metadata": {
  "kernelspec": {
   "display_name": "Python (toxi3)",
   "language": "python",
   "name": "toxi3"
  },
  "language_info": {
   "codemirror_mode": {
    "name": "ipython",
    "version": 3
   },
   "file_extension": ".py",
   "mimetype": "text/x-python",
   "name": "python",
   "nbconvert_exporter": "python",
   "pygments_lexer": "ipython3",
   "version": "3.10.12"
  }
 },
 "nbformat": 4,
 "nbformat_minor": 2
}
