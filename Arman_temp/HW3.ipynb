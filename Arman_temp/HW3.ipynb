{
 "cells": [
  {
   "cell_type": "code",
   "execution_count": 3,
   "metadata": {},
   "outputs": [],
   "source": [
    "import os\n",
    "import time\n",
    "import crawler\n",
    "import requests \n",
    "import pandas as pd\n",
    "from tqdm import tqdm\n",
    "from bs4 import BeautifulSoup\n",
    "from constants import *"
   ]
  },
  {
   "cell_type": "markdown",
   "metadata": {},
   "source": [
    "This notebook contains the third homework assignment for the ADM course. \n",
    "\n",
    "To improve the organization of the project, we created three additional Python files: `constants`, `crawler`, and `search_engine`.\n",
    "\n",
    "- **`constants`**: Contains variables for constant links and paths used throughout the project.  \n",
    "- **`crawler`**: Includes functions necessary for scraping data from the Michelin website.  \n",
    "- **`search_engine`**: Provides key functions to identify the best restaurants based on the given query."
   ]
  },
  {
   "cell_type": "markdown",
   "metadata": {},
   "source": [
    "### Part 1 (Data collection)"
   ]
  },
  {
   "cell_type": "markdown",
   "metadata": {},
   "source": [
    "#### 1.1. Get the list of Michelin restaurants\n"
   ]
  },
  {
   "cell_type": "markdown",
   "metadata": {},
   "source": [
    "`get_restaurants_links` scrapes restaurant links from a website across multiple pages. It constructs URLs for each page, fetches their content, and parses the HTML to extract restaurant links. Each link is stored in a list with a prefix indicating the page number. The function returns the complete list of links."
   ]
  },
  {
   "cell_type": "code",
   "execution_count": 6,
   "metadata": {},
   "outputs": [
    {
     "name": "stderr",
     "output_type": "stream",
     "text": [
      "100%|██████████| 100/100 [00:52<00:00,  1.90it/s]\n"
     ]
    }
   ],
   "source": [
    "restaurants_list = crawler.get_restaurants_links()"
   ]
  },
  {
   "cell_type": "markdown",
   "metadata": {},
   "source": [
    "1. **`write_restaurants_list`**:\n",
    "   - This function takes a list of restaurant links and saves them to a text file, with each link written on a new line."
   ]
  },
  {
   "cell_type": "code",
   "execution_count": 7,
   "metadata": {},
   "outputs": [],
   "source": [
    "def write_restaurants_list(restaurants_list):\n",
    "    with open('restaurants.txt', 'w') as _file:\n",
    "        restaurants_str = '\\n'.join(restaurants_list)  # Convert the list to a single string with newline separators\n",
    "        _file.write(restaurants_str)  # Write the string to the file\n",
    "\n",
    "write_restaurants_list(restaurants_list)"
   ]
  },
  {
   "cell_type": "markdown",
   "metadata": {},
   "source": [
    "2. **`read_restaurants_list`**:\n",
    "   - This function reads the restaurant links from a text file and returns them as a list, where each line in the file corresponds to one link."
   ]
  },
  {
   "cell_type": "code",
   "execution_count": 2,
   "metadata": {},
   "outputs": [
    {
     "name": "stdout",
     "output_type": "stream",
     "text": [
      "['page1>https://guide.michelin.com/en/campania/gragnano/restaurant/o-me-o-il-mare', 'page1>https://guide.michelin.com/en/abruzzo/popoli_1845563/restaurant/donevandro', 'page1>https://guide.michelin.com/en/piemonte/alba/restaurant/ape-vino-e-cucina', 'page1>https://guide.michelin.com/en/campania/sorrento/restaurant/da-bob-cook-fish', 'page1>https://guide.michelin.com/en/basilicata/matera/restaurant/da-mo', 'page1>https://guide.michelin.com/en/sardegna/cagliari/restaurant/sa-domu-sarda', 'page1>https://guide.michelin.com/en/sicilia/palermo/restaurant/charleston', 'page1>https://guide.michelin.com/en/toscana/bibbiena/restaurant/il-tirabuscio262517', 'page1>https://guide.michelin.com/en/emilia-romagna/cesenatico/restaurant/la-buca130947', 'page1>https://guide.michelin.com/en/campania/marina-di-casal-velino/restaurant/alessandro-feo', 'page1>https://guide.michelin.com/en/lombardia/cervesina/restaurant/dama-1213583', 'page1>https://guide.michelin.com/en/campania/napoli/restaurant/il-ristorante-alain-ducasse-napoli', 'page1>https://guide.michelin.com/en/emilia-romagna/noceto_1827072/restaurant/palazzo-utini', 'page1>https://guide.michelin.com/en/campania/sorrento/restaurant/soul-fish', 'page1>https://guide.michelin.com/en/liguria/genova/restaurant/etra', 'page1>https://guide.michelin.com/en/toscana/castiglione-della-pescaia/restaurant/la-trattoria-enrico-bartolini', 'page1>https://guide.michelin.com/en/lombardia/trescore-balneario/restaurant/loro', 'page1>https://guide.michelin.com/en/liguria/genova/restaurant/20tre', 'page1>https://guide.michelin.com/en/sicilia/catania/restaurant/menage', 'page1>https://guide.michelin.com/en/lombardia/milano/restaurant/procaccini', 'page2>https://guide.michelin.com/en/lombardia/marne_7770347/restaurant/metodo-1213628', 'page2>https://guide.michelin.com/en/emilia-romagna/montegridolfo_1826929/restaurant/osteria-dell-accademia', 'page2>https://guide.michelin.com/en/piemonte/torino/restaurant/fratelli-bruzzone', 'page2>https://guide.michelin.com/en/lombardia/aprica/restaurant/gimmy-s', 'page2>https://guide.michelin.com/en/toscana/fiesole/restaurant/serrae-villa-fiesole', 'page2>https://guide.michelin.com/en/veneto/garda/restaurant/locanda-perbellini-ai-beati', 'page2>https://guide.michelin.com/en/campania/napoli/restaurant/salvo', 'page2>https://guide.michelin.com/en/trentino-alto-adige/pergine-valsugana/restaurant/innesti', 'page2>https://guide.michelin.com/en/toscana/cortona/restaurant/osteria-del-teatro', 'page2>https://guide.michelin.com/en/toscana/colle-di-val-d-elsa/restaurant/arnolfo', 'page2>https://guide.michelin.com/en/veneto/altissimo/restaurant/casin-del-gamba', 'page2>https://guide.michelin.com/en/marche/acqualagna/restaurant/anticofurlo', 'page2>https://guide.michelin.com/en/toscana/torrita-di-siena/restaurant/lupaia', 'page2>https://guide.michelin.com/en/campania/napoli/restaurant/joca', 'page2>https://guide.michelin.com/en/veneto/venezia/restaurant/palais-royal-restaurant', 'page2>https://guide.michelin.com/en/campania/napoli/restaurant/ostaria-pignatelli', 'page2>https://guide.michelin.com/en/lombardia/milano/restaurant/nobuya', 'page2>https://guide.michelin.com/en/piemonte/torino/restaurant/almondo-trattoria', 'page2>https://guide.michelin.com/en/lombardia/bianzone/restaurant/altavilla', 'page2>https://guide.michelin.com/en/campania/aversa/restaurant/truth-restaurant', 'page3>https://guide.michelin.com/en/toscana/prato/restaurant/il-pirana', 'page3>https://guide.michelin.com/en/lombardia/como/restaurant/kitchen-325766', 'page3>https://guide.michelin.com/en/lombardia/milano/restaurant/abba', 'page3>https://guide.michelin.com/en/emilia-romagna/cesenatico/restaurant/ancora-1213776', 'page3>https://guide.michelin.com/en/calabria/lamezia-terme/restaurant/abbruzzino-oltre', 'page3>https://guide.michelin.com/en/campania/napoli/restaurant/caruso-roof-garden', 'page3>https://guide.michelin.com/en/lombardia/revere/restaurant/il-tartufo', 'page3>https://guide.michelin.com/en/liguria/altare/restaurant/quintilio', 'page3>https://guide.michelin.com/en/veneto/annone-veneto/restaurant/il-credenziere', 'page3>https://guide.michelin.com/en/abruzzo/vasto/restaurant/hostaria-del-pavone', 'page3>https://guide.michelin.com/en/emilia-romagna/sant-agostino/restaurant/trattoria-la-rosa', 'page3>https://guide.michelin.com/en/lombardia/varena_7770385/restaurant/frosch-restaurant', 'page3>https://guide.michelin.com/en/emilia-romagna/fiorano-modenese/restaurant/exe-restaurant', 'page3>https://guide.michelin.com/en/sicilia/agrigento/restaurant/carusu', 'page3>https://guide.michelin.com/en/veneto/verona/restaurant/amo-bistrot', 'page3>https://guide.michelin.com/en/puglia/alberobello/restaurant/evo-ristorante', 'page3>https://guide.michelin.com/en/lazio/roma/restaurant/san-baylon', 'page3>https://guide.michelin.com/en/calabria/pizzo/restaurant/locanda-toscano-1198455', 'page3>https://guide.michelin.com/en/lombardia/milano/restaurant/l%E2%80%99alchimia', 'page3>https://guide.michelin.com/en/piemonte/guarene/restaurant/io-e-luna', 'page4>https://guide.michelin.com/en/umbria/perugia/restaurant/il-giurista', 'page4>https://guide.michelin.com/en/valle-d-aosta/cogne/restaurant/bar-a-fromage', 'page4>https://guide.michelin.com/en/lazio/roma/restaurant/da-cesare', 'page4>https://guide.michelin.com/en/veneto/san-dona-di-piave/restaurant/forte-del-48', 'page4>https://guide.michelin.com/en/lazio/roma/restaurant/bistrot-64', 'page4>https://guide.michelin.com/en/emilia-romagna/santarcangelo-di-romagna/restaurant/lazaroun', 'page4>https://guide.michelin.com/en/basilicata/melfi/restaurant/la-villa139895', 'page4>https://guide.michelin.com/en/toscana/firenze/restaurant/degusteria-italiana', 'page4>https://guide.michelin.com/en/piemonte/tortona/restaurant/cavallino', 'page4>https://guide.michelin.com/en/veneto/verona/restaurant/casa-perbellini', 'page4>https://guide.michelin.com/en/liguria/ventimiglia/restaurant/il-giardino-del-gusto', 'page4>https://guide.michelin.com/en/lombardia/monza/restaurant/derby-grill', 'page4>https://guide.michelin.com/en/lombardia/recorfano/restaurant/antica-trattoria-gianna', 'page4>https://guide.michelin.com/en/trentino-alto-adige/madonna-di-senales/restaurant/oberraindlhof', 'page4>https://guide.michelin.com/en/sicilia/ragusa/restaurant/duomo160079', 'page4>https://guide.michelin.com/en/toscana/marina-di-pisa/restaurant/foresta', 'page4>https://guide.michelin.com/en/basilicata/maratea/restaurant/taverna-rovita', 'page4>https://guide.michelin.com/en/friuli-venezia-giulia/udine/restaurant/vitello-d-oro', 'page4>https://guide.michelin.com/en/lombardia/teglio/restaurant/fracia', 'page4>https://guide.michelin.com/en/toscana/firenze/restaurant/del-fagioli', 'page5>https://guide.michelin.com/en/lombardia/suzzara/restaurant/mangiare-bere-uomo-donna', 'page5>https://guide.michelin.com/en/puglia/manduria/restaurant/es-cantina-ristorante', 'page5>https://guide.michelin.com/en/toscana/firenze/restaurant/il-gusto-di-xinge', 'page5>https://guide.michelin.com/en/calabria/catanzaro/restaurant/abbruzzino', 'page5>https://guide.michelin.com/en/liguria/genova/restaurant/san-giorgio562345', 'page5>https://guide.michelin.com/en/puglia/ruffano/restaurant/farmacia-dei-sani', 'page5>https://guide.michelin.com/en/abruzzo/sulmona/restaurant/clemente', 'page5>https://guide.michelin.com/en/lombardia/castel-mella/restaurant/chicco-di-grano', 'page5>https://guide.michelin.com/en/trentino-alto-adige/fornace/restaurant/le-tre-colombe', 'page5>https://guide.michelin.com/en/veneto/san-giorgio-di-valpolicella/restaurant/dalla-rosa-alda', 'page5>https://guide.michelin.com/en/marche/gabicce-monte/restaurant/dalla-gioconda', 'page5>https://guide.michelin.com/en/toscana/perignano/restaurant/locanda-lo-scopiccio', 'page5>https://guide.michelin.com/en/piemonte/mondovi/restaurant/caffe-bertaina-osteria', 'page5>https://guide.michelin.com/en/toscana/lucca/restaurant/nida', 'page5>https://guide.michelin.com/en/trentino-alto-adige/vandoies/restaurant/la-passion', 'page5>https://guide.michelin.com/en/calabria/soverato/restaurant/brezza-fish-and-chill', 'page5>https://guide.michelin.com/en/veneto/caprino-veronese_1812975/restaurant/vert-osteria-contemporanea', 'page5>https://guide.michelin.com/en/piemonte/asti/restaurant/cannavacciuolo-le-cattedrali-asti', 'page5>https://guide.michelin.com/en/toscana/siena/restaurant/gallo-nero-1203031', 'page5>https://guide.michelin.com/en/piemonte/alba/restaurant/lalibera', 'page6>https://guide.michelin.com/en/lombardia/castiglione-delle-stiviere/restaurant/hostaria-viola', 'page6>https://guide.michelin.com/en/marche/san-benedetto-del-tronto/restaurant/arca', 'page6>https://guide.michelin.com/en/lazio/fiumicino/restaurant/pascucci-al-porticciolo', 'page6>https://guide.michelin.com/en/veneto/mestre/restaurant/all-ombra-del-gabbiano', 'page6>https://guide.michelin.com/en/marche/grottammare/restaurant/attico-sul-mare', 'page6>https://guide.michelin.com/en/trentino-alto-adige/fondo/restaurant/alle-ciaspole', 'page6>https://guide.michelin.com/en/campania/forio/restaurant/il-saturnino', 'page6>https://guide.michelin.com/en/puglia/san-marzano-di-san-giuseppe_1853441/restaurant/vez', 'page6>https://guide.michelin.com/en/trentino-alto-adige/trentino-alto-adige-san-michele/restaurant/zur-rose', 'page6>https://guide.michelin.com/en/lazio/sutri_1846913/restaurant/n-uovo-vino-e-cucina', 'page6>https://guide.michelin.com/en/trentino-alto-adige/brennero_1812096/restaurant/artifex', 'page6>https://guide.michelin.com/en/sardegna/riola-sardo_1840769/restaurant/su-murruai', 'page6>https://guide.michelin.com/en/campania/napoli/restaurant/177-toledo', 'page6>https://guide.michelin.com/en/lombardia/lenna_1806857/restaurant/agriturismo-ferdy', 'page6>https://guide.michelin.com/en/campania/forio/restaurant/il-mirto', 'page6>https://guide.michelin.com/en/sicilia/marina-di-ragusa/restaurant/votavota', 'page6>https://guide.michelin.com/en/piemonte/pozzolo-formigaro/restaurant/locanda-dei-narcisi', 'page6>https://guide.michelin.com/en/lombardia/casteggio_1804962/restaurant/hosteria-la-cave-cantu', 'page6>https://guide.michelin.com/en/marche/fano/restaurant/cile-s', 'page6>https://guide.michelin.com/en/toscana/montopoli-in-val-d-arno/restaurant/quattro-gigli', 'page7>https://guide.michelin.com/en/marche/fano/restaurant/alla-lanterna', 'page7>https://guide.michelin.com/en/lombardia/caiolo_1803867/restaurant/soltojo', 'page7>https://guide.michelin.com/en/piemonte/treiso/restaurant/la-ciau-del-tornavento', 'page7>https://guide.michelin.com/en/lazio/roma/restaurant/casa-coppelle', 'page7>https://guide.michelin.com/en/puglia/otranto/restaurant/retrogusto', 'page7>https://guide.michelin.com/en/trentino-alto-adige/nova-levante/restaurant/johannes-stube', 'page7>https://guide.michelin.com/en/emilia-romagna/gaione/restaurant/trattoria-antichi-sapori', 'page7>https://guide.michelin.com/en/lombardia/pieve-di-coriano/restaurant/corte-matilde', 'page7>https://guide.michelin.com/en/sardegna/senorb/restaurant/da-severino-il-vecchio-di-luciano', 'page7>https://guide.michelin.com/en/lombardia/moltrasio/restaurant/la-veranda141701', 'page7>https://guide.michelin.com/en/piemonte/ponte/restaurant/walser-schtuba', 'page7>https://guide.michelin.com/en/friuli-venezia-giulia/trieste/restaurant/harry-s-piccolo', 'page7>https://guide.michelin.com/en/veneto/venezia/restaurant/amo', 'page7>https://guide.michelin.com/en/veneto/venezia/restaurant/cip-s-club', 'page7>https://guide.michelin.com/en/piemonte/torino/restaurant/tuorlo-1198461', 'page7>https://guide.michelin.com/en/toscana/firenze/restaurant/luca-s-by-paulo-airaudo', 'page7>https://guide.michelin.com/en/puglia/apricena_1851277/restaurant/corte-federiciana', 'page7>https://guide.michelin.com/en/sardegna/cagliari/restaurant/old-friend', 'page7>https://guide.michelin.com/en/trentino-alto-adige/canazei/restaurant/alla-locanda', 'page7>https://guide.michelin.com/en/veneto/treviso/restaurant/le-beccherie', 'page8>https://guide.michelin.com/en/campania/anacapri/restaurant/da-gelsomina', 'page8>https://guide.michelin.com/en/toscana/marciana-marina/restaurant/salegrosso', 'page8>https://guide.michelin.com/en/veneto/sandrigo/restaurant/trattoria-da-palmerino', 'page8>https://guide.michelin.com/en/toscana/firenze/restaurant/cestello-ristoclub', 'page8>https://guide.michelin.com/en/piemonte/la-morra/restaurant/coltivare', 'page8>https://guide.michelin.com/en/lombardia/toscolano-maderno/restaurant/il-cortiletto', 'page8>https://guide.michelin.com/en/piemonte/tortona/restaurant/vineria-derthona', 'page8>https://guide.michelin.com/en/sicilia/zafferana-etnea/restaurant/sabir', 'page8>https://guide.michelin.com/en/trentino-alto-adige/canazei/restaurant/wine-dine', 'page8>https://guide.michelin.com/en/umbria/perugia/restaurant/l-officina', 'page8>https://guide.michelin.com/en/piemonte/soriso/restaurant/al-sorriso', 'page8>https://guide.michelin.com/en/lazio/roma/restaurant/colline-emiliane', 'page8>https://guide.michelin.com/en/liguria/finalborgo/restaurant/ai-torchi', 'page8>https://guide.michelin.com/en/toscana/carrara/restaurant/extra', 'page8>https://guide.michelin.com/en/campania/eboli/restaurant/il-papavero', 'page8>https://guide.michelin.com/en/sicilia/taormina/restaurant/kiste', 'page8>https://guide.michelin.com/en/lombardia/bolzone/restaurant/trattoria-via-vai', 'page8>https://guide.michelin.com/en/veneto/puos-d-alpago/restaurant/locanda-san-lorenzo', 'page8>https://guide.michelin.com/en/emilia-romagna/piacenza/restaurant/osteria-del-trentino-da-marco', 'page8>https://guide.michelin.com/en/sicilia/archi/restaurant/zash', 'page9>https://guide.michelin.com/en/emilia-romagna/san-polo-d-enza/restaurant/mamma-rosa', 'page9>https://guide.michelin.com/en/lombardia/delebio/restaurant/osteria-del-benedet', 'page9>https://guide.michelin.com/en/marche/san-severino-marche/restaurant/cavallini', 'page9>https://guide.michelin.com/en/emilia-romagna/montefiorino/restaurant/lucenti', 'page9>https://guide.michelin.com/en/sicilia/palermo/restaurant/l-ottava-nota', 'page9>https://guide.michelin.com/en/marche/pesaro/restaurant/gibas', 'page9>https://guide.michelin.com/en/piemonte/pollone/restaurant/il-faggio', 'page9>https://guide.michelin.com/en/trentino-alto-adige/riva-del-garda/restaurant/antiche-mura', 'page9>https://guide.michelin.com/en/toscana/serravalle-pistoiese/restaurant/trattoria-da-marino', 'page9>https://guide.michelin.com/en/piemonte/torino/restaurant/scannabue-caffe-restaurant', 'page9>https://guide.michelin.com/en/piemonte/torino/restaurant/del-cambio', 'page9>https://guide.michelin.com/en/liguria/ventimiglia/restaurant/balzi-rossi', 'page9>https://guide.michelin.com/en/veneto/feltre/restaurant/aurora546380', 'page9>https://guide.michelin.com/en/veneto/follina/restaurant/osteria-dei-mazzeri', 'page9>https://guide.michelin.com/en/puglia/lecce/restaurant/primo-restaurant', 'page9>https://guide.michelin.com/en/umbria/montefalco/restaurant/camiano-piccolo', 'page9>https://guide.michelin.com/en/campania/furore/restaurant/bluh-furore', 'page9>https://guide.michelin.com/en/valle-d-aosta/courmayeur/restaurant/l-armadillo', 'page9>https://guide.michelin.com/en/lombardia/campagnola-cremasca/restaurant/la-fortuna', 'page9>https://guide.michelin.com/en/toscana/san-miniato/restaurant/pepenero-1198456', 'page10>https://guide.michelin.com/en/campania/napoli/restaurant/luminist-cafe-bistrot', 'page10>https://guide.michelin.com/en/lazio/roma/restaurant/il-ristorante-niko-romito-1209165', 'page10>https://guide.michelin.com/en/liguria/savona/restaurant/quintogusto', 'page10>https://guide.michelin.com/en/trentino-alto-adige/isera/restaurant/locanda-delle-tre-chiavi', 'page10>https://guide.michelin.com/en/sardegna/alghero/restaurant/musciora', 'page10>https://guide.michelin.com/en/toscana/san-casciano-dei-bagni/restaurant/castello-di-fighine', 'page10>https://guide.michelin.com/en/piemonte/stresa/restaurant/osteria-mercato', 'page10>https://guide.michelin.com/en/toscana/lucarelli/restaurant/osteria-le-panzanelle', 'page10>https://guide.michelin.com/en/veneto/fosso/restaurant/bacaro-il-gusto', 'page10>https://guide.michelin.com/en/campania/cava-de-tirreni/restaurant/casa-rispoli', 'page10>https://guide.michelin.com/en/lazio/roma/restaurant/l-arcangelo', 'page10>https://guide.michelin.com/en/liguria/cavi/restaurant/raieu', 'page10>https://guide.michelin.com/en/campania/vico-equense/restaurant/torre-del-saracino', 'page10>https://guide.michelin.com/en/lazio/ponza/restaurant/eea', 'page10>https://guide.michelin.com/en/piemonte/stresa/restaurant/verbano', 'page10>https://guide.michelin.com/en/lombardia/laveno/restaurant/la-tavola', 'page10>https://guide.michelin.com/en/lombardia/milano/restaurant/il-luogo-di-aimo-e-nadia', 'page10>https://guide.michelin.com/en/veneto/pieve-d-alpago/restaurant/dolada', 'page10>https://guide.michelin.com/en/lombardia/senago/restaurant/la-brughiera', 'page10>https://guide.michelin.com/en/trentino-alto-adige/mauls/restaurant/gasthofstube-stafler', 'page11>https://guide.michelin.com/en/emilia-romagna/pieve-di-cento/restaurant/buriani-dal-1967', 'page11>https://guide.michelin.com/en/campania/paestum/restaurant/da-nonna-sceppa', 'page11>https://guide.michelin.com/en/toscana/marina-di-pietrasanta/restaurant/franco-mare', 'page11>https://guide.michelin.com/en/piemonte/novara/restaurant/tantris', 'page11>https://guide.michelin.com/en/lazio/roma/restaurant/enoteca-al-parlamento-achilli', 'page11>https://guide.michelin.com/en/lombardia/san-giuliano-milanese/restaurant/antica-osteria-la-rampina', 'page11>https://guide.michelin.com/en/toscana/lucca/restaurant/buca-di-sant-antonio', 'page11>https://guide.michelin.com/en/toscana/suvereto/restaurant/i-ciocio-osteria-di-suvereto', 'page11>https://guide.michelin.com/en/piemonte/cuneo/restaurant/osteria-vecchio-borgo', 'page11>https://guide.michelin.com/en/toscana/forte-dei-marmi/restaurant/la-magnolia', 'page11>https://guide.michelin.com/en/piemonte/cuneo/restaurant/4-ciance', 'page11>https://guide.michelin.com/en/veneto/venezia/restaurant/ai-mercanti', 'page11>https://guide.michelin.com/en/marche/loreto/restaurant/andreina', 'page11>https://guide.michelin.com/en/veneto/monfumo/restaurant/da-gerry', 'page11>https://guide.michelin.com/en/friuli-venezia-giulia/spilimbergo/restaurant/osteria-da-afro', 'page11>https://guide.michelin.com/en/piemonte/monforte-d-alba/restaurant/le-case-della-saracca', 'page11>https://guide.michelin.com/en/lombardia/moniga-del-garda/restaurant/l-osteria-h20', 'page11>https://guide.michelin.com/en/veneto/dossobuono/restaurant/cavour', 'page11>https://guide.michelin.com/en/piemonte/limone-piemonte/restaurant/osteria-il-bagatto', 'page11>https://guide.michelin.com/en/lombardia/barate/restaurant/antica-osteria-magenes', 'page12>https://guide.michelin.com/en/veneto/venezia/restaurant/alle-corone', 'page12>https://guide.michelin.com/en/veneto/marostica/restaurant/la-rosina', 'page12>https://guide.michelin.com/en/trentino-alto-adige/riva-del-garda/restaurant/villetta-annessa', 'page12>https://guide.michelin.com/en/puglia/san-severo/restaurant/la-fossa-del-grano', 'page12>https://guide.michelin.com/en/friuli-venezia-giulia/sappada/restaurant/laite', 'page12>https://guide.michelin.com/en/campania/napoli/restaurant/50-kalo', 'page12>https://guide.michelin.com/en/piemonte/orbassano/restaurant/casa-format', 'page12>https://guide.michelin.com/en/puglia/marina-di-pulsano/restaurant/la-barca', 'page12>https://guide.michelin.com/en/veneto/rubano/restaurant/le-calandre', 'page12>https://guide.michelin.com/en/toscana/sansepolcro/restaurant/fiorentino-e-locanda-del-giglio', 'page12>https://guide.michelin.com/en/friuli-venezia-giulia/tricesimo/restaurant/miculan', 'page12>https://guide.michelin.com/en/lombardia/ranco/restaurant/il-sole-di-ranco', 'page12>https://guide.michelin.com/en/lombardia/castiglione-delle-stiviere/restaurant/hostaria-del-teatro', 'page12>https://guide.michelin.com/en/veneto/verona/restaurant/locanda-4-cuochi', 'page12>https://guide.michelin.com/en/lombardia/fagnano-olona/restaurant/menzaghi', 'page12>https://guide.michelin.com/en/toscana/lucca/restaurant/giglio', 'page12>https://guide.michelin.com/en/trentino-alto-adige/moena/restaurant/foresta162722', 'page12>https://guide.michelin.com/en/piemonte/santa-vittoria-d-alba/restaurant/castello260046', 'page12>https://guide.michelin.com/en/puglia/putignano/restaurant/angelo-sabatelli', 'page12>https://guide.michelin.com/en/lombardia/milano/restaurant/enrico-bartolini-al-mudec', 'page13>https://guide.michelin.com/en/umbria/spoleto/restaurant/apollinare', 'page13>https://guide.michelin.com/en/lombardia/spirano/restaurant/3-noci-da-camillo', 'page13>https://guide.michelin.com/en/lombardia/milano/restaurant/morelli', 'page13>https://guide.michelin.com/en/trentino-alto-adige/moena/restaurant/malga-roncac', 'page13>https://guide.michelin.com/en/liguria/oneglia/restaurant/salvo-cacciatori', 'page13>https://guide.michelin.com/en/trentino-alto-adige/villandro_1822615/restaurant/ansitz-steinbock', 'page13>https://guide.michelin.com/en/toscana/gaiole-in-chianti/restaurant/il-pievano', 'page13>https://guide.michelin.com/en/trentino-alto-adige/fiera-di-primiero/restaurant/la-pajara', 'page13>https://guide.michelin.com/en/piemonte/la-morra/restaurant/osteria-dell-arborina', 'page13>https://guide.michelin.com/en/lombardia/induno-olona/restaurant/olona-da-venanzio-dal-1922', 'page13>https://guide.michelin.com/en/campania/positano/restaurant/al-palazzo', 'page13>https://guide.michelin.com/en/campania/napoli/restaurant/j-contemporary-japanese-restaurant', 'page13>https://guide.michelin.com/en/lombardia/milano/restaurant/un-posto-a-milano-cascina-cuccagna', 'page13>https://guide.michelin.com/en/marche/pesaro/restaurant/lo-scudiero', 'page13>https://guide.michelin.com/en/campania/telese/restaurant/la-locanda-del-borgo', 'page13>https://guide.michelin.com/en/sardegna/santa-reparata/restaurant/s-andira', 'page13>https://guide.michelin.com/en/puglia/minervino-murge/restaurant/la-tradizione-cucina-casalinga', 'page13>https://guide.michelin.com/en/campania/paestum/restaurant/tre-olivi', 'page13>https://guide.michelin.com/en/campania/paestum/restaurant/osteria-arbustico', 'page13>https://guide.michelin.com/en/trentino-alto-adige/riva-del-garda/restaurant/al-volt', 'page14>https://guide.michelin.com/en/sicilia/santa-marina-salina/restaurant/nni-lausta', 'page14>https://guide.michelin.com/en/veneto/scorz/restaurant/san-martino', 'page14>https://guide.michelin.com/en/campania/sorrento/restaurant/il-buco', 'page14>https://guide.michelin.com/en/veneto/val-liona/restaurant/trequarti', 'page14>https://guide.michelin.com/en/sicilia/taormina/restaurant/st-george-by-heinz-beck', 'page14>https://guide.michelin.com/en/piemonte/suna/restaurant/antica-osteria-il-monte-rosso', 'page14>https://guide.michelin.com/en/toscana/castelnuovo-berardenga/restaurant/il-convito-di-curina', 'page14>https://guide.michelin.com/en/campania/sorrento/restaurant/terrazza-bosquet', 'page14>https://guide.michelin.com/en/emilia-romagna/rimini/restaurant/osteria-de-borg', 'page14>https://guide.michelin.com/en/toscana/montebenichi/restaurant/osteria-l-orciaia', 'page14>https://guide.michelin.com/en/lombardia/sant-omobono-terme/restaurant/posta151748', 'page14>https://guide.michelin.com/en/campania/furore/restaurant/hostaria-di-bacco', 'page14>https://guide.michelin.com/en/campania/melizzano/restaurant/locanda-radici', 'page14>https://guide.michelin.com/en/lombardia/milano/restaurant/daniel417950', 'page14>https://guide.michelin.com/en/emilia-romagna/san-mauro-a-mare/restaurant/onda-blu', 'page14>https://guide.michelin.com/en/lombardia/gallarate/restaurant/ilario-vinciguerra', 'page14>https://guide.michelin.com/en/piemonte/galliate/restaurant/osteria-del-borgo352717', 'page14>https://guide.michelin.com/en/toscana/firenze/restaurant/il-santo-bevitore', 'page14>https://guide.michelin.com/en/friuli-venezia-giulia/godia/restaurant/agli-amici', 'page14>https://guide.michelin.com/en/emilia-romagna/sasso-marconi/restaurant/la-grotta-dal-1918', 'page15>https://guide.michelin.com/en/piemonte/san-marzano-oliveto/restaurant/del-belbo-da-bardon', 'page15>https://guide.michelin.com/en/emilia-romagna/polesine-parmense/restaurant/al-cavallino-bianco', 'page15>https://guide.michelin.com/en/lombardia/pozzolengo/restaurant/moscatello-muliner', 'page15>https://guide.michelin.com/en/calabria/pizzo/restaurant/me-restaurant', 'page15>https://guide.michelin.com/en/trentino-alto-adige/pozza-di-fassa/restaurant/el-filo', 'page15>https://guide.michelin.com/en/sicilia/licata/restaurant/l-oste-e-il-sacrestano', 'page15>https://guide.michelin.com/en/piemonte/masio/restaurant/trattoria-losanna', 'page15>https://guide.michelin.com/en/toscana/san-miniato/restaurant/papaveri-e-papere', 'page15>https://guide.michelin.com/en/umbria/norcia/restaurant/vespasia', 'page15>https://guide.michelin.com/en/lombardia/sondrio/restaurant/trippi', 'page15>https://guide.michelin.com/en/sicilia/siracusa/restaurant/regina-lucia', 'page15>https://guide.michelin.com/en/lombardia/pizzighettone/restaurant/da-giacomo145911', 'page15>https://guide.michelin.com/en/veneto/montecchio-precalcino/restaurant/la-locanda-di-piero', 'page15>https://guide.michelin.com/en/marche/fano/restaurant/il-galeone', 'page15>https://guide.michelin.com/en/emilia-romagna/finale-emilia/restaurant/entra', 'page15>https://guide.michelin.com/en/piemonte/domodossola/restaurant/atelier161790', 'page15>https://guide.michelin.com/en/sicilia/lipari/restaurant/filippino', 'page15>https://guide.michelin.com/en/trentino-alto-adige/isera/restaurant/casa-del-vino-della-vallagarina', 'page15>https://guide.michelin.com/en/piemonte/mont/restaurant/marcelin', 'page15>https://guide.michelin.com/en/veneto/monselice/restaurant/la-torre141903', 'page16>https://guide.michelin.com/en/campania/pisciotta/restaurant/angiolina', 'page16>https://guide.michelin.com/en/veneto/grezzana/restaurant/ca-del-moro', 'page16>https://guide.michelin.com/en/sicilia/noto/restaurant/viva-il-bistrot', 'page16>https://guide.michelin.com/en/liguria/imperia/restaurant/osteria-didu-1201493', 'page16>https://guide.michelin.com/en/emilia-romagna/faenza/restaurant/il-fenicottero-rosa-gourmet', 'page16>https://guide.michelin.com/en/piemonte/olivola_1798020/restaurant/i-due-buoi-1198450', 'page16>https://guide.michelin.com/en/lombardia/milano/restaurant/bites', 'page16>https://guide.michelin.com/en/liguria/lerici/restaurant/il-fico-trentacareghe', 'page16>https://guide.michelin.com/en/toscana/grosseto/restaurant/l-uva-e-il-malto', 'page16>https://guide.michelin.com/en/sicilia/ragusa/restaurant/i-banchi', 'page16>https://guide.michelin.com/en/trentino-alto-adige/commezzadura/restaurant/maso-burba', 'page16>https://guide.michelin.com/en/liguria/genova/restaurant/le-rune', 'page16>https://guide.michelin.com/en/veneto/verona/restaurant/osteria-la-fontanina', 'page16>https://guide.michelin.com/en/campania/positano/restaurant/la-taverna-del-leone', 'page16>https://guide.michelin.com/en/liguria/noli/restaurant/controcorrente518148', 'page16>https://guide.michelin.com/en/sardegna/porto-torres/restaurant/li-lioni', 'page16>https://guide.michelin.com/en/sicilia/marzamemi/restaurant/la-cialoma', 'page16>https://guide.michelin.com/en/liguria/levanto/restaurant/la-sosta-di-ottone-iii', 'page16>https://guide.michelin.com/en/campania/nola/restaurant/le-baccanti', 'page16>https://guide.michelin.com/en/trentino-alto-adige/lagundo/restaurant/oberlechner', 'page17>https://guide.michelin.com/en/piemonte/cuneo/restaurant/osteria-della-chiocciola', 'page17>https://guide.michelin.com/en/lombardia/stradella/restaurant/osteria-numero-2', 'page17>https://guide.michelin.com/en/friuli-venezia-giulia/trieste/restaurant/menarosti', 'page17>https://guide.michelin.com/en/friuli-venezia-giulia/trieste/restaurant/al-bagatto', 'page17>https://guide.michelin.com/en/marche/urbino/restaurant/portanova', 'page17>https://guide.michelin.com/en/molise/cercemaggiore_1842509/restaurant/contrasto', 'page17>https://guide.michelin.com/en/lombardia/lallio/restaurant/bolle', 'page17>https://guide.michelin.com/en/abruzzo/chieti_1842617/restaurant/futura', 'page17>https://guide.michelin.com/en/trentino-alto-adige/lagundo/restaurant/zur-blauen-traube', 'page17>https://guide.michelin.com/en/lombardia/barco/restaurant/saur', 'page17>https://guide.michelin.com/en/piemonte/ceres/restaurant/valli-di-lanzo', 'page17>https://guide.michelin.com/en/toscana/chiusi/restaurant/osteria-la-solita-zuppa', 'page17>https://guide.michelin.com/en/marche/senigallia/restaurant/al-cuoco-di-bordo', 'page17>https://guide.michelin.com/en/marche/senigallia/restaurant/uliassi', 'page17>https://guide.michelin.com/en/pesaro-e-urbino/fossombrone/restaurant/osteria-zanchetti', 'page17>https://guide.michelin.com/en/piemonte/santa-maria-maggiore/restaurant/le-colonne151641', 'page17>https://guide.michelin.com/en/sicilia/ragusa/restaurant/locanda-don-serafino', 'page17>https://guide.michelin.com/en/trentino-alto-adige/selva-di-val-gardena/restaurant/nives', 'page17>https://guide.michelin.com/en/lombardia/milano/restaurant/ratana', 'page17>https://guide.michelin.com/en/molise/agnone_1841303/restaurant/locanda-mammi', 'page18>https://guide.michelin.com/en/trentino-alto-adige/dobbiaco/restaurant/tilia', 'page18>https://guide.michelin.com/en/liguria/genova/restaurant/soho-restaurant-fish-work', 'page18>https://guide.michelin.com/en/puglia/vieste/restaurant/al-dragone', 'page18>https://guide.michelin.com/en/trentino-alto-adige/trento/restaurant/scrigno-del-duomo', 'page18>https://guide.michelin.com/en/lazio/fiumicino/restaurant/l-osteria-dell-orologio', 'page18>https://guide.michelin.com/en/campania/napoli/restaurant/di-martino-sea-front-pasta-bar', 'page18>https://guide.michelin.com/en/puglia/monte-sant-angelo/restaurant/li-jalantuumene', 'page18>https://guide.michelin.com/en/toscana/montalcino/restaurant/sala-dei-grappoli', 'page18>https://guide.michelin.com/en/toscana/vicopisano/restaurant/osteria-vecchia-noce', 'page18>https://guide.michelin.com/en/puglia/maglie/restaurant/bel-ami', 'page18>https://guide.michelin.com/en/veneto/venezia/restaurant/do-leoni', 'page18>https://guide.michelin.com/en/trentino-alto-adige/bressanone/restaurant/alpenrose', 'page18>https://guide.michelin.com/en/sicilia/san-leone/restaurant/il-molo-430027', 'page18>https://guide.michelin.com/en/piemonte/serralunga-d-alba/restaurant/guido361561', 'page18>https://guide.michelin.com/en/trentino-alto-adige/merano/restaurant/prezioso', 'page18>https://guide.michelin.com/en/trentino-alto-adige/sorni/restaurant/trattoria-vecchia-sorni', 'page18>https://guide.michelin.com/en/piemonte/grinzane-cavour/restaurant/alessandro-mecca-al-castello-di-grinzane-cavour', 'page18>https://guide.michelin.com/en/toscana/castellina-in-chianti/restaurant/albergaccio-di-castellina', 'page18>https://guide.michelin.com/en/toscana/firenze/restaurant/borgo-san-jacopo', 'page18>https://guide.michelin.com/en/piemonte/cureggio/restaurant/la-capuccina', 'page19>https://guide.michelin.com/en/veneto/follina/restaurant/la-corte', 'page19>https://guide.michelin.com/en/toscana/firenze/restaurant/c-ucina', 'page19>https://guide.michelin.com/en/sardegna/valledoria_1841206/restaurant/mesadoria', 'page19>https://guide.michelin.com/en/campania/salerno/restaurant/casamare', 'page19>https://guide.michelin.com/en/marche/montemonaco/restaurant/il-tiglio', 'page19>https://guide.michelin.com/en/lombardia/legnano/restaurant/koine', 'page19>https://guide.michelin.com/en/lombardia/gussago/restaurant/dina', 'page19>https://guide.michelin.com/en/lombardia/san-felice-del-benaco/restaurant/sogno', 'page19>https://guide.michelin.com/en/puglia/savelletri/restaurant/due-camini', 'page19>https://guide.michelin.com/en/veneto/verona/restaurant/trattoria-al-pompiere', 'page19>https://guide.michelin.com/en/campania/napoli/restaurant/veritas', 'page19>https://guide.michelin.com/en/veneto/tregnago/restaurant/villa-de-winckels', 'page19>https://guide.michelin.com/en/emilia-romagna/coloreto/restaurant/trattoria-ai-due-platani', 'page19>https://guide.michelin.com/en/lombardia/sorico/restaurant/beccaccino', 'page19>https://guide.michelin.com/en/lombardia/limito/restaurant/antico-albergo', 'page19>https://guide.michelin.com/en/piemonte/serralunga-d-alba/restaurant/la-rei-natura-by-michelangelo-mammoliti', 'page19>https://guide.michelin.com/en/sicilia/linguaglossa/restaurant/dodici-fontane', 'page19>https://guide.michelin.com/en/veneto/forno-di-zoldo/restaurant/tana-de-l-ors', 'page19>https://guide.michelin.com/en/veneto/venezia/restaurant/terrazza-danieli', 'page19>https://guide.michelin.com/en/veneto/venezia/restaurant/il-ridotto', 'page20>https://guide.michelin.com/en/lombardia/livigno/restaurant/camana-veglia', 'page20>https://guide.michelin.com/en/sicilia/linguaglossa/restaurant/shalai', 'page20>https://guide.michelin.com/en/sicilia/riposto/restaurant/la-cucina-di-donna-carmela', 'page20>https://guide.michelin.com/en/lombardia/piadena/restaurant/dell-alba', 'page20>https://guide.michelin.com/en/piemonte/monforte-d-alba/restaurant/trattoria-della-posta', 'page20>https://guide.michelin.com/en/piemonte/quarona/restaurant/italia', 'page20>https://guide.michelin.com/en/veneto/rubano/restaurant/il-calandrino', 'page20>https://guide.michelin.com/en/puglia/manfredonia/restaurant/coppola-rossa', 'page20>https://guide.michelin.com/en/piemonte/isola-sant-antonio/restaurant/da-manuela', 'page20>https://guide.michelin.com/en/friuli-venezia-giulia/udine/restaurant/hostaria-alla-tavernetta', 'page20>https://guide.michelin.com/en/lombardia/fasano-del-garda/restaurant/il-fagiano', 'page20>https://guide.michelin.com/en/emilia-romagna/forli/restaurant/trattoria-petito', 'page20>https://guide.michelin.com/en/molise/termoli/restaurant/federico-ii', 'page20>https://guide.michelin.com/en/piemonte/montemagno/restaurant/la-braja', 'page20>https://guide.michelin.com/en/trentino-alto-adige/settequerce/restaurant/patauner', 'page20>https://guide.michelin.com/en/puglia/lecce/restaurant/bros', 'page20>https://guide.michelin.com/en/lombardia/madesimo/restaurant/il-cantinone-e-sport-hotel-alpina', 'page20>https://guide.michelin.com/en/toscana/cetona/restaurant/il-tiglio-di-piazza-da-nilo', 'page20>https://guide.michelin.com/en/emilia-romagna/rimini/restaurant/quartopiano-suite-restaurant', 'page20>https://guide.michelin.com/en/trentino-alto-adige/san-martino-di-castrozza/restaurant/chalet-pra-delle-nasse-da-anita', 'page21>https://guide.michelin.com/en/piemonte/boves/restaurant/da-politano', 'page21>https://guide.michelin.com/en/lombardia/cassinetta-di-lugagnano_1804947/restaurant/antica-osteria-del-ponte', 'page21>https://guide.michelin.com/en/toscana/marciana-marina/restaurant/scaraboci', 'page21>https://guide.michelin.com/en/lazio/frascati/restaurant/cacciani', 'page21>https://guide.michelin.com/en/campania/ariano-irpino/restaurant/maeba-restaurant', 'page21>https://guide.michelin.com/en/abruzzo/giulianova-lido/restaurant/osteria-dal-moro', 'page21>https://guide.michelin.com/en/trentino-alto-adige/torbole/restaurant/la-terrazza', 'page21>https://guide.michelin.com/en/trentino-alto-adige/falzes/restaurant/sichelburg', 'page21>https://guide.michelin.com/en/friuli-venezia-giulia/dolegna-del-collio/restaurant/l-argine-a-venco', 'page21>https://guide.michelin.com/en/piemonte/dogliani/restaurant/il-verso-del-ghiottone', 'page21>https://guide.michelin.com/en/lombardia/milano/restaurant/trattoria-del-nuovo-macello', 'page21>https://guide.michelin.com/en/lazio/roma/restaurant/antica-pesa', 'page21>https://guide.michelin.com/en/sicilia/palermo/restaurant/osteria-dei-vespri', 'page21>https://guide.michelin.com/en/emilia-romagna/ponte-dell-olio/restaurant/riva', 'page21>https://guide.michelin.com/en/lombardia/vigano/restaurant/antica-trattoria-del-gallo', 'page21>https://guide.michelin.com/en/piemonte/la-morra/restaurant/osteria-veglio', 'page21>https://guide.michelin.com/en/friuli-venezia-giulia/fagagna/restaurant/san-michele', 'page21>https://guide.michelin.com/en/toscana/viareggio/restaurant/romano', 'page21>https://guide.michelin.com/en/lombardia/manerba-del-garda/restaurant/capriccio', 'page21>https://guide.michelin.com/en/veneto/marostica/restaurant/osteria-madonnetta', 'page22>https://guide.michelin.com/en/abruzzo/marina-di-san-vito/restaurant/l-angolino-da-filippo', 'page22>https://guide.michelin.com/en/sicilia/palermo/restaurant/buatta-cucina-popolana', 'page22>https://guide.michelin.com/en/campania/napoli/restaurant/da-michele', 'page22>https://guide.michelin.com/en/sicilia/isola-vulcano/restaurant/il-cappero', 'page22>https://guide.michelin.com/en/valle-d-aosta/courmayeur/restaurant/pierre-alexis-1877', 'page22>https://guide.michelin.com/en/veneto/miane/restaurant/da-gigetto', 'page22>https://guide.michelin.com/en/piemonte/moncalieri/restaurant/la-maison-delfino', 'page22>https://guide.michelin.com/en/sicilia/milazzo/restaurant/doppio-gusto', 'page22>https://guide.michelin.com/en/lombardia/padenghe-sul-garda/restaurant/aquariva', 'page22>https://guide.michelin.com/en/emilia-romagna/monticelli-d-ongina/restaurant/antica-trattoria-cattivelli', 'page22>https://guide.michelin.com/en/trentino-alto-adige/san-vigilio-di-marebbe/restaurant/fana-ladina', 'page22>https://guide.michelin.com/en/campania/vico-equense/restaurant/l-accanto', 'page22>https://guide.michelin.com/en/veneto/asiago/restaurant/la-tana-gourmet', 'page22>https://guide.michelin.com/en/trentino-alto-adige/merano/restaurant/sissi', 'page22>https://guide.michelin.com/en/toscana/lucca/restaurant/all-olivo', 'page22>https://guide.michelin.com/en/lazio/latina/restaurant/il-funghetto', 'page22>https://guide.michelin.com/en/toscana/marina-di-pietrasanta/restaurant/alex', 'page22>https://guide.michelin.com/en/liguria/la-spezia/restaurant/l-osteria-della-corte', 'page22>https://guide.michelin.com/en/toscana/montecarlo/restaurant/antico-ristorante-forassiepi', 'page22>https://guide.michelin.com/en/abruzzo/roccaraso/restaurant/chichibio', 'page23>https://guide.michelin.com/en/emilia-romagna/rubbianino/restaurant/ca-matilde', 'page23>https://guide.michelin.com/en/toscana/marina-di-cecina/restaurant/da-andrea', 'page23>https://guide.michelin.com/en/piemonte/torino/restaurant/contesto-alimentare', 'page23>https://guide.michelin.com/en/liguria/genova/restaurant/ippogrifo', 'page23>https://guide.michelin.com/en/emilia-romagna/bobbio/restaurant/enoteca-san-nicola', 'page23>https://guide.michelin.com/en/veneto/venezia/restaurant/ai-gondolieri', 'page23>https://guide.michelin.com/en/toscana/castellina-in-chianti/restaurant/la-tavola-di-guido', 'page23>https://guide.michelin.com/en/molise/termoli/restaurant/svevia', 'page23>https://guide.michelin.com/en/liguria/genova/restaurant/santa-teresa', 'page23>https://guide.michelin.com/en/lombardia/milano/restaurant/la-veranda-162636', 'page23>https://guide.michelin.com/en/sicilia/palazzolo-acreide/restaurant/andrea-sapori-montani', 'page23>https://guide.michelin.com/en/marche/marotta/restaurant/burro-alici', 'page23>https://guide.michelin.com/en/lombardia/barcuzzi/restaurant/da-oscar', 'page23>https://guide.michelin.com/en/piemonte/isola-d-asti/restaurant/il-cascinalenuovo', 'page23>https://guide.michelin.com/en/lazio/fondi/restaurant/da-fausto478177', 'page23>https://guide.michelin.com/en/friuli-venezia-giulia/tavagnacco/restaurant/al-grop', 'page23>https://guide.michelin.com/en/toscana/grosseto/restaurant/canapone', 'page23>https://guide.michelin.com/en/emilia-romagna/san-giovanni-in-persiceto/restaurant/osteria-del-mirasole', 'page23>https://guide.michelin.com/en/liguria/montoggio/restaurant/roma', 'page23>https://guide.michelin.com/en/piemonte/roletto/restaurant/il-ciabot', 'page24>https://guide.michelin.com/en/lazio/roma/restaurant/il-sanlorenzo', 'page24>https://guide.michelin.com/en/lombardia/origgio/restaurant/el-primero', 'page24>https://guide.michelin.com/en/toscana/orbetello/restaurant/l-oste-dispensa', 'page24>https://guide.michelin.com/en/sicilia/siracusa/restaurant/don-camillo', 'page24>https://guide.michelin.com/en/piemonte/pibesi-d-alba/restaurant/21-9', 'page24>https://guide.michelin.com/en/lombardia/milano/restaurant/dim-sum', 'page24>https://guide.michelin.com/en/lombardia/monticelli-brusati/restaurant/hostaria-uva-rara', 'page24>https://guide.michelin.com/en/piemonte/pollone/restaurant/il-patio', 'page24>https://guide.michelin.com/en/piemonte/pinerolo/restaurant/zappatori', 'page24>https://guide.michelin.com/en/friuli-venezia-giulia/pordenone/restaurant/la-ferrata', 'page24>https://guide.michelin.com/en/toscana/pitigliano/restaurant/il-tufo-allegro', 'page24>https://guide.michelin.com/en/sardegna/portoscuso/restaurant/sa-musciara', 'page24>https://guide.michelin.com/en/trentino-alto-adige/valle-di-casies/restaurant/durnwald', 'page24>https://guide.michelin.com/en/basilicata/terranova-di-pollino/restaurant/luna-rossa', 'page24>https://guide.michelin.com/en/trentino-alto-adige/issengo/restaurant/tanzer', 'page24>https://guide.michelin.com/en/toscana/marina-di-massa/restaurant/la-peniche', 'page24>https://guide.michelin.com/en/toscana/loro-ciuffenna/restaurant/il-cipresso-da-cioni', 'page24>https://guide.michelin.com/en/piemonte/cuneo/restaurant/bove-s', 'page24>https://guide.michelin.com/en/campania/vico-equense/restaurant/antica-osteria-nonna-rosa', 'page24>https://guide.michelin.com/en/friuli-venezia-giulia/mariano-del-friuli/restaurant/al-piave', 'page25>https://guide.michelin.com/en/lombardia/sal/restaurant/qb-duepuntozero', 'page25>https://guide.michelin.com/en/lazio/rivodutri/restaurant/la-trota', 'page25>https://guide.michelin.com/en/piemonte/oviglio/restaurant/bistrot-donatella', 'page25>https://guide.michelin.com/en/lombardia/milano/restaurant/joia', 'page25>https://guide.michelin.com/en/emilia-romagna/modena/restaurant/la-masseria', 'page25>https://guide.michelin.com/en/lombardia/milano/restaurant/innocenti-evasioni', 'page25>https://guide.michelin.com/en/abruzzo/pacentro/restaurant/taverna-dei-caldora', 'page25>https://guide.michelin.com/en/toscana/firenze/restaurant/winter-garden-florence', 'page25>https://guide.michelin.com/en/veneto/verona/restaurant/l-oste-scuro', 'page25>https://guide.michelin.com/en/lombardia/fagnano-olona/restaurant/acquerello197794', 'page25>https://guide.michelin.com/en/lombardia/cremona/restaurant/kandoo-nippon', 'page25>https://guide.michelin.com/en/liguria/finale-ligure/restaurant/rosita', 'page25>https://guide.michelin.com/en/lazio/roma/restaurant/aroma', 'page25>https://guide.michelin.com/en/piemonte/mergozzo/restaurant/la-quartina', 'page25>https://guide.michelin.com/en/veneto/negrar/restaurant/locanda-800', 'page25>https://guide.michelin.com/en/liguria/recco/restaurant/da-o-vittorio', 'page25>https://guide.michelin.com/en/toscana/pietrasanta/restaurant/filippo', 'page25>https://guide.michelin.com/en/piemonte/vercelli/restaurant/bislakko', 'page25>https://guide.michelin.com/en/toscana/grosseto/restaurant/grantosco', 'page25>https://guide.michelin.com/en/liguria/genova/restaurant/il-michelaccio', 'page26>https://guide.michelin.com/en/toscana/firenze/restaurant/saporium-firenze', 'page26>https://guide.michelin.com/en/emilia-romagna/barbiano/restaurant/trattoria-leoni', 'page26>https://guide.michelin.com/en/emilia-romagna/vedole/restaurant/al-vedel', 'page26>https://guide.michelin.com/en/veneto/velo-veronese/restaurant/13-comuni', 'page26>https://guide.michelin.com/en/puglia/ruvo-di-puglia/restaurant/u-p-e-p-i-d-d-e', 'page26>https://guide.michelin.com/en/campania/positano/restaurant/la-serra', 'page26>https://guide.michelin.com/en/toscana/san-vincenzo/restaurant/il-sale', 'page26>https://guide.michelin.com/en/toscana/montalcino/restaurant/taverna-il-grappolo-blu', 'page26>https://guide.michelin.com/en/trentino-alto-adige/madonna-di-campiglio/restaurant/dolomieu', 'page26>https://guide.michelin.com/en/veneto/galliera-veneta/restaurant/al-palazzon', 'page26>https://guide.michelin.com/en/campania/salerno/restaurant/re-mauri', 'page26>https://guide.michelin.com/en/lombardia/milano/restaurant/28-posti', 'page26>https://guide.michelin.com/en/lombardia/milano/restaurant/serendib', 'page26>https://guide.michelin.com/en/piemonte/sant-anna/restaurant/la-pineta148217', 'page26>https://guide.michelin.com/en/lombardia/milano/restaurant/ingalera', 'page26>https://guide.michelin.com/en/basilicata/matera/restaurant/vitantonio-lombardo', 'page26>https://guide.michelin.com/en/lombardia/milano/restaurant/contraste', 'page26>https://guide.michelin.com/en/toscana/firenze/restaurant/cibreo', 'page26>https://guide.michelin.com/en/umbria/casaglia/restaurant/stella', 'page26>https://guide.michelin.com/en/campania/pisciotta/restaurant/perbacco530053', 'page27>https://guide.michelin.com/en/lombardia/moltrasio/restaurant/imperialino', 'page27>https://guide.michelin.com/en/lazio/roma/restaurant/osteria-fernanda', 'page27>https://guide.michelin.com/en/emilia-romagna/parma/restaurant/parma-rotta', 'page27>https://guide.michelin.com/en/lombardia/seregno/restaurant/pomiroeu', 'page27>https://guide.michelin.com/en/basilicata/lavello/restaurant/forentum', 'page27>https://guide.michelin.com/en/liguria/genova/restaurant/spin-ristorante-enoteca-sola', 'page27>https://guide.michelin.com/en/lombardia/garbagnate-milanese/restaurant/la-refezione', 'page27>https://guide.michelin.com/en/emilia-romagna/gaibana/restaurant/trattoria-lanzagallo', 'page27>https://guide.michelin.com/en/emilia-romagna/fidenza/restaurant/podere-san-faustino', 'page27>https://guide.michelin.com/en/lombardia/dovera/restaurant/la-kuccagna', 'page27>https://guide.michelin.com/en/sicilia/messina/restaurant/marina-del-nettuno', 'page27>https://guide.michelin.com/en/lombardia/milano/restaurant/aimo-e-nadia-bistro', 'page27>https://guide.michelin.com/en/puglia/ostuni/restaurant/cielo', 'page27>https://guide.michelin.com/en/toscana/montemerano/restaurant/caino', 'page27>https://guide.michelin.com/en/umbria/orvieto/restaurant/i-sette-consoli', 'page27>https://guide.michelin.com/en/veneto/san-polo-di-piave/restaurant/osteria-enoteca-gambrinus', 'page27>https://guide.michelin.com/en/trentino-alto-adige/rabla/restaurant/hanswirt', 'page27>https://guide.michelin.com/en/sicilia/sclafani-bagni/restaurant/terrazza-costantino', 'page27>https://guide.michelin.com/en/lombardia/milano/restaurant/locanda-perbellini', 'page27>https://guide.michelin.com/en/veneto/revine/restaurant/ai-cadelach', 'page28>https://guide.michelin.com/en/veneto/venezia/restaurant/al-covo', 'page28>https://guide.michelin.com/en/liguria/imperia/restaurant/sarri', 'page28>https://guide.michelin.com/en/sicilia/malfa/restaurant/signum', 'page28>https://guide.michelin.com/en/liguria/genova/restaurant/capo-santa-chiara', 'page28>https://guide.michelin.com/en/emilia-romagna/finale-emilia/restaurant/osteria-la-fefa', 'page28>https://guide.michelin.com/en/lombardia/milano/restaurant/seta-by-antonio-guida', 'page28>https://guide.michelin.com/en/lazio/roma/restaurant/trattoria-del-pesce', 'page28>https://guide.michelin.com/en/lombardia/riva-di-solto/restaurant/miranda148125', 'page28>https://guide.michelin.com/en/liguria/recco/restaurant/manuelina', 'page28>https://guide.michelin.com/en/campania/quarto/restaurant/sud', 'page28>https://guide.michelin.com/en/liguria/loano/restaurant/bagatto', 'page28>https://guide.michelin.com/en/lombardia/valsolda/restaurant/osteria-la-lanterna', 'page28>https://guide.michelin.com/en/sicilia/licata/restaurant/la-madia', 'page28>https://guide.michelin.com/en/toscana/ardenza/restaurant/oscar', 'page28>https://guide.michelin.com/en/puglia/trani/restaurant/osteria-frangipane', 'page28>https://guide.michelin.com/en/abruzzo/mutignano/restaurant/bacucco-d-oro', 'page28>https://guide.michelin.com/en/lombardia/milano/restaurant/acanto69200', 'page28>https://guide.michelin.com/en/toscana/san-vincenzo/restaurant/la-perla-del-mare', 'page28>https://guide.michelin.com/en/sicilia/noto/restaurant/crocifisso', 'page28>https://guide.michelin.com/en/abruzzo/pineto/restaurant/la-conchiglia-d-oro', 'page29>https://guide.michelin.com/en/valle-d-aosta/it-saint-vincent/restaurant/le-grenier', 'page29>https://guide.michelin.com/en/liguria/sestri-levante/restaurant/baia-del-silenzio', 'page29>https://guide.michelin.com/en/lazio/ladispoli/restaurant/the-cesar', 'page29>https://guide.michelin.com/en/campania/vairano-patenora/restaurant/vairo-del-volturno', 'page29>https://guide.michelin.com/en/liguria/riomaggiore/restaurant/rio-bistrot', 'page29>https://guide.michelin.com/en/friuli-venezia-giulia/sappada/restaurant/mondschein-food-experience', 'page29>https://guide.michelin.com/en/marche/pesaro/restaurant/nostrano', 'page29>https://guide.michelin.com/en/emilia-romagna/santarcangelo-di-romagna/restaurant/osteria-la-sangiovesa', 'page29>https://guide.michelin.com/en/campania/paestum/restaurant/le-trabe', 'page29>https://guide.michelin.com/en/lombardia/mornago/restaurant/alla-corte-lombarda', 'page29>https://guide.michelin.com/en/veneto/scorz/restaurant/i-savi', 'page29>https://guide.michelin.com/en/toscana/firenze/restaurant/ora-d-aria', 'page29>https://guide.michelin.com/en/toscana/firenze/restaurant/enoteca-pinchiorri', 'page29>https://guide.michelin.com/en/emilia-romagna/castelvetro-di-modena/restaurant/locanda-del-feudo', 'page29>https://guide.michelin.com/en/sicilia/taormina/restaurant/la-capinera', 'page29>https://guide.michelin.com/en/veneto/venezia/restaurant/dama-restaurant', 'page29>https://guide.michelin.com/en/lazio/roma/restaurant/aede-dining-wines', 'page29>https://guide.michelin.com/en/trentino-alto-adige/trento/restaurant/osteria-a-le-due-spade-1198464', 'page29>https://guide.michelin.com/en/emilia-romagna/castel-maggiore/restaurant/iacobucci', 'page29>https://guide.michelin.com/en/trentino-alto-adige/brunico/restaurant/atelier-moessmer-norbert-niederkofler', 'page30>https://guide.michelin.com/en/lazio/roma/restaurant/poldo-e-gianna-osteria', 'page30>https://guide.michelin.com/en/marche/marzocca/restaurant/madonnina-del-pescatore', 'page30>https://guide.michelin.com/en/emilia-romagna/forli/restaurant/benso', 'page30>https://guide.michelin.com/en/piemonte/torino/restaurant/carignano', 'page30>https://guide.michelin.com/en/veneto/venezia/restaurant/l-osteria-di-santa-marina', 'page30>https://guide.michelin.com/en/toscana/san-donato-in-poggio/restaurant/antica-trattoria-la-toppa', 'page30>https://guide.michelin.com/en/lombardia/palazzolo-sull-oglio/restaurant/la-corte144371', 'page30>https://guide.michelin.com/en/veneto/venezia/restaurant/dopolavoro', 'page30>https://guide.michelin.com/en/veneto/verona/restaurant/ponte-pietra', 'page30>https://guide.michelin.com/en/campania/positano/restaurant/da-vincenzo', 'page30>https://guide.michelin.com/en/campania/napoli/restaurant/la-notizia', 'page30>https://guide.michelin.com/en/trentino-alto-adige/mauls/restaurant/gourmetstube-einhorn', 'page30>https://guide.michelin.com/en/veneto/sernaglia-della-battaglia/restaurant/dalla-libera', 'page30>https://guide.michelin.com/en/lombardia/milano/restaurant/osaka', 'page30>https://guide.michelin.com/en/veneto/zelarino/restaurant/al-segnavento', 'page30>https://guide.michelin.com/en/trentino-alto-adige/nalles/restaurant/apollonia', 'page30>https://guide.michelin.com/en/toscana/tavarnelle-val-di-pesa/restaurant/la-torre166500', 'page30>https://guide.michelin.com/en/umbria/spoleto/restaurant/san-lorenzo', 'page30>https://guide.michelin.com/en/lombardia/capolago/restaurant/da-annetta', 'page30>https://guide.michelin.com/en/piemonte/torino/restaurant/l-acino', 'page31>https://guide.michelin.com/en/campania/massa-lubrense/restaurant/relais-blu', 'page31>https://guide.michelin.com/en/umbria/orvieto/restaurant/la-palomba', 'page31>https://guide.michelin.com/en/trentino-alto-adige/ortisei/restaurant/anna-stuben', 'page31>https://guide.michelin.com/en/lazio/roma/restaurant/moma', 'page31>https://guide.michelin.com/en/toscana/montescudaio/restaurant/saqua-by-il-frantoio', 'page31>https://guide.michelin.com/en/lazio/fiumicino/restaurant/bistrot-quarantunododici', 'page31>https://guide.michelin.com/en/puglia/manfredonia/restaurant/osteria-boccolicchio', 'page31>https://guide.michelin.com/en/lombardia/villa-di-chiavenna/restaurant/lanterna-verde', 'page31>https://guide.michelin.com/en/veneto/venezia/restaurant/arva', 'page31>https://guide.michelin.com/en/emilia-romagna/rivalta-trebbia/restaurant/locanda-del-falco', 'page31>https://guide.michelin.com/en/trentino-alto-adige/sarentino/restaurant/ristorante-alpes-la-fuga', 'page31>https://guide.michelin.com/en/lombardia/milano/restaurant/zero-milano', 'page31>https://guide.michelin.com/en/lazio/roma/restaurant/mater-terrae', 'page31>https://guide.michelin.com/en/piemonte/torino/restaurant/magorabin', 'page31>https://guide.michelin.com/en/toscana/firenze/restaurant/la-leggenda-dei-frati', 'page31>https://guide.michelin.com/en/trentino-alto-adige/levico-terme/restaurant/boivin', 'page31>https://guide.michelin.com/en/toscana/casole-d-elsa/restaurant/tosca435462', 'page31>https://guide.michelin.com/en/piemonte/cuorgn/restaurant/rosselli-77', 'page31>https://guide.michelin.com/en/piemonte/torino/restaurant/condividere', 'page31>https://guide.michelin.com/en/trentino-alto-adige/madonna-di-campiglio/restaurant/stube-hermitage', 'page32>https://guide.michelin.com/en/trentino-alto-adige/aldein/restaurant/krone', 'page32>https://guide.michelin.com/en/piemonte/santo-stefano-belbo/restaurant/il-ristorante-di-guido-da-costigliole', 'page32>https://guide.michelin.com/en/lazio/roma/restaurant/all-oro', 'page32>https://guide.michelin.com/en/lombardia/milano/restaurant/rovello-18', 'page32>https://guide.michelin.com/en/piemonte/pinerolo/restaurant/taverna-degli-acaja', 'page32>https://guide.michelin.com/en/toscana/montalcino/restaurant/campo-del-drago', 'page32>https://guide.michelin.com/en/emilia-romagna/morciano-di-romagna/restaurant/controcorrente', 'page32>https://guide.michelin.com/en/veneto/venezia/restaurant/trattoria-al-passo', 'page32>https://guide.michelin.com/en/lombardia/varzi/restaurant/buscone', 'page32>https://guide.michelin.com/en/lombardia/milano/restaurant/berton', 'page32>https://guide.michelin.com/en/lazio/rieti/restaurant/bistrot147741', 'page32>https://guide.michelin.com/en/emilia-romagna/parma/restaurant/osteria-del-36', 'page32>https://guide.michelin.com/en/lombardia/barzago_1803054/restaurant/osteria-manzoni', 'page32>https://guide.michelin.com/en/trentino-alto-adige/termeno-sulla-strada-del-vino/restaurant/taberna-romani', 'page32>https://guide.michelin.com/en/veneto/jesolo/restaurant/da-guido', 'page32>https://guide.michelin.com/en/abruzzo/guardiagrele/restaurant/villa-maiella', 'page32>https://guide.michelin.com/en/piemonte/trofarello/restaurant/la-valle', 'page32>https://guide.michelin.com/en/lombardia/desenzano-del-garda/restaurant/esplanade', 'page32>https://guide.michelin.com/en/campania/positano/restaurant/la-sponda', 'page32>https://guide.michelin.com/en/trentino-alto-adige/marlengo/restaurant/oberwirt', 'page33>https://guide.michelin.com/en/trentino-alto-adige/san-genesio-atesino/restaurant/antica-locanda-al-cervo-landgasthof-zum-hirschen', 'page33>https://guide.michelin.com/en/piemonte/serravalle-langhe/restaurant/la-coccinella', 'page33>https://guide.michelin.com/en/lombardia/ponte-san-pietro/restaurant/cucina-cereda', 'page33>https://guide.michelin.com/en/lombardia/fasano-del-garda/restaurant/lido-84', 'page33>https://guide.michelin.com/en/puglia/trani/restaurant/le-lampare-al-fortino', 'page33>https://guide.michelin.com/en/piemonte/torino/restaurant/vintage-1997', 'page33>https://guide.michelin.com/en/trentino-alto-adige/sarentino/restaurant/braunwirt', 'page33>https://guide.michelin.com/en/veneto/feltre/restaurant/panevin', 'page33>https://guide.michelin.com/en/sicilia/randazzo/restaurant/veneziano', 'page33>https://guide.michelin.com/en/liguria/pigna/restaurant/terme', 'page33>https://guide.michelin.com/en/veneto/noventa/restaurant/boccadoro', 'page33>https://guide.michelin.com/en/lombardia/pellio-intelvi/restaurant/la-locanda-del-notaio', 'page33>https://guide.michelin.com/en/lombardia/milano/restaurant/bon-wei', 'page33>https://guide.michelin.com/en/trentino-alto-adige/ravina/restaurant/locanda-margon', 'page33>https://guide.michelin.com/en/lombardia/santa-maria-del-monte/restaurant/colonne', 'page33>https://guide.michelin.com/en/emilia-romagna/maranello/restaurant/mikele', 'page33>https://guide.michelin.com/en/trentino-alto-adige/vipiteno/restaurant/kleine-flamme', 'page33>https://guide.michelin.com/en/calabria/vibo-valentia-marina/restaurant/lapprodo', 'page33>https://guide.michelin.com/en/lombardia/trezzano-sul-naviglio/restaurant/bacco-e-arianna', 'page33>https://guide.michelin.com/en/veneto/verona/restaurant/al-bersagliere', 'page34>https://guide.michelin.com/en/veneto/pianiga/restaurant/trattoria-da-paeto', 'page34>https://guide.michelin.com/en/emilia-romagna/quartiere/restaurant/la-chiocciola', 'page34>https://guide.michelin.com/en/emilia-romagna/rastignano/restaurant/osteria-numero-sette', 'page34>https://guide.michelin.com/en/lombardia/vigevano/restaurant/i-castagni', 'page34>https://guide.michelin.com/en/lombardia/erbusco/restaurant/leonefelice', 'page34>https://guide.michelin.com/en/emilia-romagna/cortina-vecchia/restaurant/da-giovanni', 'page34>https://guide.michelin.com/en/piemonte/mercenasco/restaurant/darmagi', 'page34>https://guide.michelin.com/en/campania/pompei/restaurant/president', 'page34>https://guide.michelin.com/en/lombardia/milano/restaurant/cracco', 'page34>https://guide.michelin.com/en/calabria/reggio-di-calabria/restaurant/l-a-gourmet-l-accademia', 'page34>https://guide.michelin.com/en/veneto/vetrego/restaurant/il-sogno', 'page34>https://guide.michelin.com/en/piemonte/mergozzo/restaurant/caffetteria-la-fugascina', 'page34>https://guide.michelin.com/en/lazio/fondi/restaurant/riso-amaro', 'page34>https://guide.michelin.com/en/veneto/verona/restaurant/al-capitan-della-cittadella', 'page34>https://guide.michelin.com/en/veneto/fagnano/restaurant/trattoria-alla-pergola', 'page34>https://guide.michelin.com/en/trentino-alto-adige/selva-di-val-gardena/restaurant/alpenroyal-gourmet', 'page34>https://guide.michelin.com/en/emilia-romagna/modena/restaurant/hosteria-giusti', 'page34>https://guide.michelin.com/en/veneto/verona/restaurant/trattoria-i-masenini', 'page34>https://guide.michelin.com/en/veneto/velo/restaurant/giorgio-e-flora', 'page34>https://guide.michelin.com/en/trentino-alto-adige/tirolo/restaurant/castel-fine-dining', 'page35>https://guide.michelin.com/en/trentino-alto-adige/tesimo/restaurant/zum-lowen', 'page35>https://guide.michelin.com/en/veneto/bigolino/restaurant/tre-noghere', 'page35>https://guide.michelin.com/en/trentino-alto-adige/molini/restaurant/schoneck', 'page35>https://guide.michelin.com/en/trentino-alto-adige/san-martino-in-passiria/restaurant/quellenhof-gourmetstube-1897', 'page35>https://guide.michelin.com/en/veneto/salgareda/restaurant/marcandole', 'page35>https://guide.michelin.com/en/campania/napoli/restaurant/gino-sorbillo', 'page35>https://guide.michelin.com/en/veneto/monastier-di-treviso/restaurant/menegaldo', 'page35>https://guide.michelin.com/en/sicilia/piazza-armerina/restaurant/al-fogher', 'page35>https://guide.michelin.com/en/lombardia/morimondo/restaurant/trattoria-di-coronate', 'page35>https://guide.michelin.com/en/veneto/oderzo/restaurant/gellius', 'page35>https://guide.michelin.com/en/lombardia/milano/restaurant/da-giannino-l-angolo-d-abruzzo', 'page35>https://guide.michelin.com/en/piemonte/torino/restaurant/cannavacciuolo-bistrot', 'page35>https://guide.michelin.com/en/liguria/varigotti/restaurant/muraglia-conchiglia-d-oro', 'page35>https://guide.michelin.com/en/trentino-alto-adige/dobbiaco/restaurant/gratschwirt', 'page35>https://guide.michelin.com/en/piemonte/ovada/restaurant/l-archivolto-osteria-nostrale', 'page35>https://guide.michelin.com/en/abruzzo/manoppello-scalo/restaurant/trita-pepe', 'page35>https://guide.michelin.com/en/emilia-romagna/rimini/restaurant/abocar-due-cucine', 'page35>https://guide.michelin.com/en/toscana/marina-di-bibbona/restaurant/la-pineta', 'page35>https://guide.michelin.com/en/lazio/roma/restaurant/domenico-dal-1968', 'page35>https://guide.michelin.com/en/campania/lacco-ameno/restaurant/indaco', 'page36>https://guide.michelin.com/en/veneto/venezia/restaurant/bistrot-de-venise', 'page36>https://guide.michelin.com/en/emilia-romagna/galeata/restaurant/la-campanara', 'page36>https://guide.michelin.com/en/veneto/venezia/restaurant/oro-restaurant', 'page36>https://guide.michelin.com/en/toscana/firenze/restaurant/io-osteria-personale', 'page36>https://guide.michelin.com/en/trentino-alto-adige/postal/restaurant/hidalgo', 'page36>https://guide.michelin.com/en/sicilia/modica/restaurant/accursio', 'page36>https://guide.michelin.com/en/toscana/pietrasanta/restaurant/la-martinatica', 'page36>https://guide.michelin.com/en/lombardia/milano/restaurant/sadler', 'page36>https://guide.michelin.com/en/liguria/ne/restaurant/la-brinca', 'page36>https://guide.michelin.com/en/liguria/sestri-levante/restaurant/rezzano-cucina-e-vino', 'page36>https://guide.michelin.com/en/puglia/trani/restaurant/il-melograno155156', 'page36>https://guide.michelin.com/en/lombardia/valmadrera/restaurant/villa-giulia-al-terrazzo', 'page36>https://guide.michelin.com/en/sardegna/alghero/restaurant/sa-mandra', 'page36>https://guide.michelin.com/en/campania/forio/restaurant/umberto-a-mare', 'page36>https://guide.michelin.com/en/lombardia/crandola-valsassina/restaurant/da-gigi', 'page36>https://guide.michelin.com/en/piemonte/tigliole/restaurant/ca-vittoria', 'page36>https://guide.michelin.com/en/friuli-venezia-giulia/marano-lagunare/restaurant/alla-laguna-vedova-raddi', 'page36>https://guide.michelin.com/en/lombardia/somma-lombardo/restaurant/corte-visconti', 'page36>https://guide.michelin.com/en/abruzzo/mosciano-sant-angelo/restaurant/borgo-spoltino', 'page36>https://guide.michelin.com/en/lazio/roma/restaurant/la-terrazza68963', 'page37>https://guide.michelin.com/en/veneto/venezia/restaurant/corte-sconta', 'page37>https://guide.michelin.com/en/lombardia/vello/restaurant/trattoria-glisenti', 'page37>https://guide.michelin.com/en/toscana/porto-azzurro/restaurant/sapereta', 'page37>https://guide.michelin.com/en/lombardia/asola/restaurant/la-filanda', 'page37>https://guide.michelin.com/en/trentino-alto-adige/madonna-di-campiglio/restaurant/due-pini', 'page37>https://guide.michelin.com/en/toscana/volterra/restaurant/enoteca-del-duca', 'page37>https://guide.michelin.com/en/toscana/montemarciano/restaurant/la-cantinella154248', 'page37>https://guide.michelin.com/en/emilia-romagna/castelfranco-emilia/restaurant/la-lumira', 'page37>https://guide.michelin.com/en/emilia-romagna/salsomaggiore-terme/restaurant/trattoria-ceriati', 'page37>https://guide.michelin.com/en/lombardia/sal/restaurant/villa-arcadio', 'page37>https://guide.michelin.com/en/lombardia/milano/restaurant/iyo', 'page37>https://guide.michelin.com/en/lombardia/pudiano/restaurant/sedicesimo-secolo', 'page37>https://guide.michelin.com/en/campania/torre-del-greco/restaurant/jose-restaurant-tenuta-villa-guerra', 'page37>https://guide.michelin.com/en/veneto/malcesine/restaurant/vecchia-malcesine', 'page37>https://guide.michelin.com/en/toscana/firenze/restaurant/zeb', 'page37>https://guide.michelin.com/en/lombardia/rognano/restaurant/cascina-vittoria', 'page37>https://guide.michelin.com/en/friuli-venezia-giulia/san-giorgio-della-richinvelda/restaurant/il-favri', 'page37>https://guide.michelin.com/en/veneto/negrar/restaurant/trattoria-alla-ruota', 'page37>https://guide.michelin.com/en/abruzzo/san-salvo-marina/restaurant/al-metro', 'page37>https://guide.michelin.com/en/toscana/firenze/restaurant/da-burde', 'page38>https://guide.michelin.com/en/toscana/massa/restaurant/il-trillo139594', 'page38>https://guide.michelin.com/en/veneto/san-bonifacio/restaurant/i-tigli', 'page38>https://guide.michelin.com/en/umbria/montone/restaurant/la-locanda-del-capitano', 'page38>https://guide.michelin.com/en/veneto/padova/restaurant/tola-rasa', 'page38>https://guide.michelin.com/en/emilia-romagna/novafeltria/restaurant/del-turista-da-marchesi', 'page38>https://guide.michelin.com/en/lombardia/milano/restaurant/pacifico', 'page38>https://guide.michelin.com/en/lombardia/milano/restaurant/la-cantina-di-manuela69273', 'page38>https://guide.michelin.com/en/liguria/genova/restaurant/voltalacarta', 'page38>https://guide.michelin.com/en/emilia-romagna/levizzano-rangone/restaurant/opera-02', 'page38>https://guide.michelin.com/en/toscana/manciano/restaurant/la-filanda258327', 'page38>https://guide.michelin.com/en/emilia-romagna/ferrara/restaurant/da-noemi', 'page38>https://guide.michelin.com/en/toscana/galluzzo/restaurant/trattoria-bibe', 'page38>https://guide.michelin.com/en/lombardia/milano/restaurant/il-liberty', 'page38>https://guide.michelin.com/en/sicilia/stromboli/restaurant/punta-lena', 'page38>https://guide.michelin.com/en/puglia/lesina/restaurant/le-antiche-sere', 'page38>https://guide.michelin.com/en/toscana/lido-di-camaiore/restaurant/il-merlo', 'page38>https://guide.michelin.com/en/piemonte/lesa/restaurant/battipalo', 'page38>https://guide.michelin.com/en/lombardia/milano/restaurant/il-capestrano', 'page38>https://guide.michelin.com/en/emilia-romagna/parma/restaurant/meltemi', 'page38>https://guide.michelin.com/en/puglia/ostuni/restaurant/osteria-piazzetta-cattedrale', 'page39>https://guide.michelin.com/en/abruzzo/montepagano/restaurant/d-one-restaurant-diffuso', 'page39>https://guide.michelin.com/en/sicilia/lipari/restaurant/trattoria-del-vicolo', 'page39>https://guide.michelin.com/en/abruzzo/fara-filiorum-petri/restaurant/casa-d-angelo', 'page39>https://guide.michelin.com/en/piemonte/orta-san-giulio/restaurant/villa-crespi', 'page39>https://guide.michelin.com/en/lazio/roma/restaurant/il-convivio-troiani', 'page39>https://guide.michelin.com/en/trentino-alto-adige/ossana/restaurant/antica-osteria', 'page39>https://guide.michelin.com/en/lombardia/milano/restaurant/ba-asian-mood', 'page39>https://guide.michelin.com/en/veneto/san-zeno-di-montagna/restaurant/taverna-kus', 'page39>https://guide.michelin.com/en/piemonte/revigliasco/restaurant/la-taverna-di-fra-fiusch', 'page39>https://guide.michelin.com/en/lombardia/milano/restaurant/il-ristorante-niko-romito', 'page39>https://guide.michelin.com/en/puglia/monopoli/restaurant/orto', 'page39>https://guide.michelin.com/en/veneto/corrubbio/restaurant/amista-33', 'page39>https://guide.michelin.com/en/sicilia/san-vito-lo-capo/restaurant/profumi-del-cous-cous', 'page39>https://guide.michelin.com/en/sardegna/carloforte/restaurant/da-nicolo', 'page39>https://guide.michelin.com/en/lombardia/mantova/restaurant/lo-scalco-grasso', 'page39>https://guide.michelin.com/en/veneto/romano-d-ezzelino_1819886/restaurant/ca-apollonio-gourmet', 'page39>https://guide.michelin.com/en/emilia-romagna/cervia/restaurant/locanda-dei-salinari', 'page39>https://guide.michelin.com/en/toscana/firenze/restaurant/essenziale', 'page39>https://guide.michelin.com/en/puglia/crispiano/restaurant/la-cuccagna', 'page39>https://guide.michelin.com/en/emilia-romagna/ravalle/restaurant/l-antico-giardino', 'page40>https://guide.michelin.com/en/piemonte/priocca/restaurant/il-centro', 'page40>https://guide.michelin.com/en/lombardia/mantello/restaurant/la-presef', 'page40>https://guide.michelin.com/en/veneto/pastrengo/restaurant/stella-d-italia', 'page40>https://guide.michelin.com/en/lombardia/osio-sotto/restaurant/la-braseria', 'page40>https://guide.michelin.com/en/calabria/palmi/restaurant/de-gustibus-maurizio', 'page40>https://guide.michelin.com/en/basilicata/matera/restaurant/baccanti', 'page40>https://guide.michelin.com/en/piemonte/san-maurizio-canavese/restaurant/la-credenza', 'page40>https://guide.michelin.com/en/lombardia/crema/restaurant/botero', 'page40>https://guide.michelin.com/en/calabria/villa-san-giovanni/restaurant/vecchio-porto', 'page40>https://guide.michelin.com/en/sicilia/lampedusa/restaurant/lipadusa', 'page40>https://guide.michelin.com/en/lombardia/vigano/restaurant/pierino-penati', 'page40>https://guide.michelin.com/en/piemonte/traversella/restaurant/le-miniere', 'page40>https://guide.michelin.com/en/veneto/quarto-d-altino/restaurant/da-odino', 'page40>https://guide.michelin.com/en/emilia-romagna/ponte-dell-olio/restaurant/locanda-cacciatori', 'page40>https://guide.michelin.com/en/sardegna/palau/restaurant/la-gritta', 'page40>https://guide.michelin.com/en/lombardia/palazzolo-sull-oglio/restaurant/osteria-della-villetta', 'page40>https://guide.michelin.com/en/lazio/roma/restaurant/green-t', 'page40>https://guide.michelin.com/en/friuli-venezia-giulia/paradiso-di-pocenia/restaurant/al-paradiso', 'page40>https://guide.michelin.com/en/veneto/mirano/restaurant/da-flavio-e-fabrizio-al-teatro', 'page40>https://guide.michelin.com/en/toscana/firenze/restaurant/trattoria-cibreo-cibreino', 'page41>https://guide.michelin.com/en/campania/vallo-della-lucania/restaurant/la-chioccia-d-oro', 'page41>https://guide.michelin.com/en/lombardia/gargnano/restaurant/la-tortuga', 'page41>https://guide.michelin.com/en/toscana/ghirlanda/restaurant/bracali', 'page41>https://guide.michelin.com/en/lazio/tivoli/restaurant/sibilla', 'page41>https://guide.michelin.com/en/trentino-alto-adige/madonna-di-campiglio/restaurant/il-gallo-cedrone', 'page41>https://guide.michelin.com/en/toscana/marlia/restaurant/butterfly', 'page41>https://guide.michelin.com/en/trentino-alto-adige/giustino/restaurant/mildas', 'page41>https://guide.michelin.com/en/marche/san-benedetto-del-tronto/restaurant/degusteria-del-gigante', 'page41>https://guide.michelin.com/en/campania/positano/restaurant/next2', 'page41>https://guide.michelin.com/en/lombardia/villa-d-alm/restaurant/osteria-della-brughiera', 'page41>https://guide.michelin.com/en/emilia-romagna/bersano/restaurant/la-fiaschetteria', 'page41>https://guide.michelin.com/en/liguria/sestri-levante/restaurant/balin-sestri-levante', 'page41>https://guide.michelin.com/en/lazio/labico/restaurant/antonello-colonna-labico', 'page41>https://guide.michelin.com/en/campania/vallesaccarda/restaurant/oasis-sapori-antichi', 'page41>https://guide.michelin.com/en/marche/fano/restaurant/osteria-dalla-peppa', 'page41>https://guide.michelin.com/en/calabria/roccella-ionica/restaurant/la-cascina-1899', 'page41>https://guide.michelin.com/en/piemonte/monteu-roero/restaurant/cantina-dei-cacciatori', 'page41>https://guide.michelin.com/en/sardegna/marina-di-arbus/restaurant/corsaro-nero', 'page41>https://guide.michelin.com/en/campania/sant--agata-sui-due-golfi/restaurant/lo-stuzzichino', 'page41>https://guide.michelin.com/en/veneto/mazzorbo/restaurant/venissa', 'page42>https://guide.michelin.com/en/lombardia/malnate/restaurant/crotto-valtellina', 'page42>https://guide.michelin.com/en/toscana/vinci_1839587/restaurant/atman', 'page42>https://guide.michelin.com/en/sicilia/lampedusa/restaurant/cavalluccio-marino', 'page42>https://guide.michelin.com/en/lombardia/lecco/restaurant/nicolin', 'page42>https://guide.michelin.com/en/piemonte/torino/restaurant/tre-galline', 'page42>https://guide.michelin.com/en/umbria/todi/restaurant/fiorfiore', 'page42>https://guide.michelin.com/en/abruzzo/pescara/restaurant/taverna-58', 'page42>https://guide.michelin.com/en/lazio/roma/restaurant/marco-martini-restaurant', 'page42>https://guide.michelin.com/en/toscana/poggibonsi/restaurant/osteria-1126', 'page42>https://guide.michelin.com/en/campania/mercato-san-severino/restaurant/casa-del-nonno-13', 'page42>https://guide.michelin.com/en/veneto/venezia/restaurant/estro-vino-e-cucina', 'page42>https://guide.michelin.com/en/toscana/trequanda/restaurant/il-conte-matto', 'page42>https://guide.michelin.com/en/piemonte/vercelli/restaurant/cinzia-da-christian-e-manuel', 'page42>https://guide.michelin.com/en/lombardia/gargnano/restaurant/villa-feltrinelli', 'page42>https://guide.michelin.com/en/puglia/lecce/restaurant/duo-ristorante', 'page42>https://guide.michelin.com/en/puglia/taranto/restaurant/al-gatto-rosso', 'page42>https://guide.michelin.com/en/lombardia/san-paolo-d-argon/restaurant/florian-maison', 'page42>https://guide.michelin.com/en/trentino-alto-adige/selva-di-val-gardena/restaurant/suinsom', 'page42>https://guide.michelin.com/en/trentino-alto-adige/san-pellegrino/restaurant/rifugio-fuciade', 'page42>https://guide.michelin.com/en/veneto/vodo-di-cadore/restaurant/al-capriolo', 'page43>https://guide.michelin.com/en/lombardia/soiano-del-lago/restaurant/villa-aurora', 'page43>https://guide.michelin.com/en/emilia-romagna/ferrara/restaurant/cucina-bacilieri', 'page43>https://guide.michelin.com/en/veneto/burano/restaurant/al-gatto-nero-da-ruggero', 'page43>https://guide.michelin.com/en/piemonte/domodossola/restaurant/la-meridiana', 'page43>https://guide.michelin.com/en/puglia/manduria/restaurant/casamatta', 'page43>https://guide.michelin.com/en/emilia-romagna/milano-marittima/restaurant/sale-grosso', 'page43>https://guide.michelin.com/en/campania/nocera-superiore/restaurant/la-fratanza', 'page43>https://guide.michelin.com/en/lazio/le-ferriere/restaurant/satricvm', 'page43>https://guide.michelin.com/en/liguria/san-desiderio/restaurant/bruxaboschi', 'page43>https://guide.michelin.com/en/toscana/cutigliano/restaurant/trattoria-da-fagiolino', 'page43>https://guide.michelin.com/en/emilia-romagna/parma/restaurant/cocchi', 'page43>https://guide.michelin.com/en/trentino-alto-adige/moena/restaurant/malga-panna', 'page43>https://guide.michelin.com/en/toscana/forte-dei-marmi/restaurant/bistrot', 'page43>https://guide.michelin.com/en/emilia-romagna/parma/restaurant/parizzi', 'page43>https://guide.michelin.com/en/lazio/roma/restaurant/per-me-giulio-terrinoni', 'page43>https://guide.michelin.com/en/lombardia/nerviano/restaurant/antica-locanda-del-villoresi', 'page43>https://guide.michelin.com/en/campania/positano/restaurant/zass', 'page43>https://guide.michelin.com/en/emilia-romagna/castelnovo-di-baganzola/restaurant/le-viole', 'page43>https://guide.michelin.com/en/lazio/roma/restaurant/glass-hostaria', 'page43>https://guide.michelin.com/en/veneto/treviso/restaurant/il-basilisco', 'page44>https://guide.michelin.com/en/emilia-romagna/vicomero/restaurant/romani', 'page44>https://guide.michelin.com/en/emilia-romagna/san-pancrazio/restaurant/la-cucoma', 'page44>https://guide.michelin.com/en/piemonte/pettenasco/restaurant/cannavacciuolo-by-the-lake', 'page44>https://guide.michelin.com/en/campania/napoli/restaurant/da-concettina-ai-tre-santi', 'page44>https://guide.michelin.com/en/lombardia/olgiate-olona/restaurant/ma-ri-na', 'page44>https://guide.michelin.com/en/emilia-romagna/modena/restaurant/franceschetta-58', 'page44>https://guide.michelin.com/en/sardegna/oliena/restaurant/sa-corte', 'page44>https://guide.michelin.com/en/veneto/garda/restaurant/regio-patio', 'page44>https://guide.michelin.com/en/liguria/pegli/restaurant/teresa', 'page44>https://guide.michelin.com/en/toscana/lucca/restaurant/osteria-verciani-il-mecenate-a-lucca', 'page44>https://guide.michelin.com/en/veneto/bagnolo/restaurant/osteria-del-gua', 'page44>https://guide.michelin.com/en/lombardia/san-vigilio/restaurant/1500', 'page44>https://guide.michelin.com/en/lombardia/grumello-del-monte/restaurant/vino-buono', 'page44>https://guide.michelin.com/en/lombardia/milano/restaurant/finger-s-garden', 'page44>https://guide.michelin.com/en/marche/fermo/restaurant/emilio', 'page44>https://guide.michelin.com/en/veneto/lido-di-jesolo/restaurant/cucina-da-omar', 'page44>https://guide.michelin.com/en/veneto/padova/restaurant/belle-parti', 'page44>https://guide.michelin.com/en/friuli-venezia-giulia/san-giovanni-al-natisone/restaurant/campiello', 'page44>https://guide.michelin.com/en/puglia/racale/restaurant/l-acchiatura', 'page44>https://guide.michelin.com/en/lazio/magliano-sabina/restaurant/degli-angeli', 'page45>https://guide.michelin.com/en/lombardia/milano/restaurant/trippa', 'page45>https://guide.michelin.com/en/veneto/lusia/restaurant/trattoria-al-ponte138786', 'page45>https://guide.michelin.com/en/campania/napoli/restaurant/palazzo-petrucci', 'page45>https://guide.michelin.com/en/emilia-romagna/it-reggio-nell-emilia/restaurant/il-pozzo', 'page45>https://guide.michelin.com/en/sardegna/alghero/restaurant/la-saletta', 'page45>https://guide.michelin.com/en/liguria/savona/restaurant/a-spurcacciun-a', 'page45>https://guide.michelin.com/en/campania/vallo-della-lucania/restaurant/aquadulcis', 'page45>https://guide.michelin.com/en/emilia-romagna/argelato/restaurant/l-800', 'page45>https://guide.michelin.com/en/campania/cetara/restaurant/al-convento', 'page45>https://guide.michelin.com/en/toscana/forte-dei-marmi/restaurant/lux-lucis', 'page45>https://guide.michelin.com/en/abruzzo/civitella-casanova/restaurant/la-bandiera', 'page45>https://guide.michelin.com/en/lombardia/milano/restaurant/langosteria', 'page45>https://guide.michelin.com/en/lombardia/milano/restaurant/dongio', 'page45>https://guide.michelin.com/en/emilia-romagna/polesine-parmense/restaurant/antica-corte-pallavicina', 'page45>https://guide.michelin.com/en/lombardia/varese/restaurant/la-perla', 'page45>https://guide.michelin.com/en/campania/vico-equense/restaurant/maxi', 'page45>https://guide.michelin.com/en/lazio/roma/restaurant/il-pagliaccio', 'page45>https://guide.michelin.com/en/lombardia/milano/restaurant/anima-fine-dining', 'page45>https://guide.michelin.com/en/campania/sant--agata-sui-due-golfi/restaurant/don-alfonso-1890-151521', 'page45>https://guide.michelin.com/en/sicilia/taormina/restaurant/vineria-modi', 'page46>https://guide.michelin.com/en/lombardia/monza/restaurant/punto-g', 'page46>https://guide.michelin.com/en/lombardia/quistello/restaurant/l-ambasciata', 'page46>https://guide.michelin.com/en/campania/nola/restaurant/re-santi-e-leoni', 'page46>https://guide.michelin.com/en/liguria/ventimiglia/restaurant/marixx', 'page46>https://guide.michelin.com/en/marche/senigallia/restaurant/nana-piccolo-bistro', 'page46>https://guide.michelin.com/en/sardegna/porto-cervo/restaurant/confusion', 'page46>https://guide.michelin.com/en/liguria/pietra-ligure/restaurant/locanda-nelli', 'page46>https://guide.michelin.com/en/sicilia/pantelleria/restaurant/i-giardini-dei-rodo', 'page46>https://guide.michelin.com/en/lazio/roma/restaurant/hosteria-grappolo-d-oro', 'page46>https://guide.michelin.com/en/lombardia/milano/restaurant/la-cucina-dei-frigoriferi-milanesi', 'page46>https://guide.michelin.com/en/toscana/porto-ercole/restaurant/il-pellicano', 'page46>https://guide.michelin.com/en/friuli-venezia-giulia/fontanafredda/restaurant/osteria-borgo-ronche', 'page46>https://guide.michelin.com/en/veneto/col-san-martino/restaurant/locanda-da-condo', 'page46>https://guide.michelin.com/en/lazio/roma/restaurant/pipero', 'page46>https://guide.michelin.com/en/friuli-venezia-giulia/sauris_1820948/restaurant/alla-pace', 'page46>https://guide.michelin.com/en/friuli-venezia-giulia/mortegliano/restaurant/da-nando', 'page46>https://guide.michelin.com/en/piemonte/cioccaro/restaurant/locanda-del-sant-uffizio-enrico-bartolini', 'page46>https://guide.michelin.com/en/veneto/paderno-del-grappa/restaurant/osteria-bellavista', 'page46>https://guide.michelin.com/en/sicilia/pantelleria/restaurant/osteria-il-principe-e-il-pirata', 'page46>https://guide.michelin.com/en/lombardia/milano/restaurant/gong', 'page47>https://guide.michelin.com/en/calabria/isola-di-capo-rizzuto/restaurant/ruris', 'page47>https://guide.michelin.com/en/piemonte/nizza-monferrato/restaurant/le-due-lanterne', 'page47>https://guide.michelin.com/en/friuli-venezia-giulia/monfalcone/restaurant/ai-campi-di-marcello', 'page47>https://guide.michelin.com/en/lombardia/milano/restaurant/armani', 'page47>https://guide.michelin.com/en/campania/santa-maria-annunziata/restaurant/la-torre139632', 'page47>https://guide.michelin.com/en/veneto/san-michele-al-tagliamento/restaurant/al-cjasal', 'page47>https://guide.michelin.com/en/campania/massa-lubrense/restaurant/terrazza-fiorella', 'page47>https://guide.michelin.com/en/piemonte/torino/restaurant/taverna-dell-oca', 'page47>https://guide.michelin.com/en/sardegna/carloforte/restaurant/al-tonno-di-corsa', 'page47>https://guide.michelin.com/en/sicilia/palermo/restaurant/a-cuncuma', 'page47>https://guide.michelin.com/en/veneto/santa-maria-di-sala_1820856/restaurant/soprattutto', 'page47>https://guide.michelin.com/en/toscana/firenze/restaurant/il-latini', 'page47>https://guide.michelin.com/en/lombardia/desenzano-del-garda/restaurant/mos-1199050', 'page47>https://guide.michelin.com/en/valle-d-aosta/aosta/restaurant/gina', 'page47>https://guide.michelin.com/en/sicilia/termini-imerese/restaurant/secondo-tempo', 'page47>https://guide.michelin.com/en/lombardia/milano/restaurant/motelombroso', 'page47>https://guide.michelin.com/en/piemonte/tortona/restaurant/osteria-billis', 'page47>https://guide.michelin.com/en/liguria/portofino/restaurant/dav-mare', 'page47>https://guide.michelin.com/en/toscana/viareggio/restaurant/mame-restaurant', 'page47>https://guide.michelin.com/en/lazio/pomezia/restaurant/locanda-marchesani', 'page48>https://guide.michelin.com/en/toscana/firenze/restaurant/santa-elisabetta', 'page48>https://guide.michelin.com/en/liguria/lavagna/restaurant/aria-1206715', 'page48>https://guide.michelin.com/en/lombardia/milano/restaurant/felix-lo-basso-home-restaurant', 'page48>https://guide.michelin.com/en/umbria/perugia/restaurant/l-acciuga-1190130', 'page48>https://guide.michelin.com/en/campania/positano/restaurant/rada', 'page48>https://guide.michelin.com/en/piemonte/gavi/restaurant/locanda-la-raia', 'page48>https://guide.michelin.com/en/friuli-venezia-giulia/savogna-d-isonzo/restaurant/lokanda-devetak', 'page48>https://guide.michelin.com/en/campania/marina-del-cantone/restaurant/quattro-passi', 'page48>https://guide.michelin.com/en/lazio/valmontone_1847397/restaurant/specus', 'page48>https://guide.michelin.com/en/piemonte/gattinara/restaurant/cucine-nervi', 'page48>https://guide.michelin.com/en/lombardia/origgio/restaurant/olio', 'page48>https://guide.michelin.com/en/lombardia/gambol/restaurant/da-carla', 'page48>https://guide.michelin.com/en/trentino-alto-adige/sarche/restaurant/hosteria-toblino', 'page48>https://guide.michelin.com/en/puglia/polignano-a-mare/restaurant/jamante', 'page48>https://guide.michelin.com/en/puglia/lecce/restaurant/gimmi-restaurant', 'page48>https://guide.michelin.com/en/piemonte/torino/restaurant/antiche-sere', 'page48>https://guide.michelin.com/en/lombardia/lezzeno/restaurant/filo', 'page48>https://guide.michelin.com/en/lombardia/milano/restaurant/dry-aged', 'page48>https://guide.michelin.com/en/campania/salerno/restaurant/hydra', 'page48>https://guide.michelin.com/en/umbria/perugia/restaurant/ada', 'page49>https://guide.michelin.com/en/lazio/civitavecchia/restaurant/forma', 'page49>https://guide.michelin.com/en/abruzzo/san-vito-chietino/restaurant/bottega-culinaria', 'page49>https://guide.michelin.com/en/liguria/levanto/restaurant/antica-trattoria-centro', 'page49>https://guide.michelin.com/en/sicilia/palermo/restaurant/bebop', 'page49>https://guide.michelin.com/en/emilia-romagna/bologna/restaurant/corbezzoli', 'page49>https://guide.michelin.com/en/trentino-alto-adige/trento/restaurant/augurio', 'page49>https://guide.michelin.com/en/sicilia/palermo/restaurant/mec-restaurant', 'page49>https://guide.michelin.com/en/sicilia/modica/restaurant/radici-1190542', 'page49>https://guide.michelin.com/en/lombardia/blevio/restaurant/l-aria', 'page49>https://guide.michelin.com/en/calabria/pizzo-calabro/restaurant/san-domenico-1204856', 'page49>https://guide.michelin.com/en/emilia-romagna/sarturano/restaurant/antica-trattoria-giovanelli', 'page49>https://guide.michelin.com/en/calabria/lamezia-terme/restaurant/luigi-lepore', 'page49>https://guide.michelin.com/en/sicilia/viagrande_1856445/restaurant/ipalici', 'page49>https://guide.michelin.com/en/trentino-alto-adige/brentonico/restaurant/maso-palu', 'page49>https://guide.michelin.com/en/sicilia/torregrotta/restaurant/modi', 'page49>https://guide.michelin.com/en/sardegna/sanluri/restaurant/coxinendi', 'page49>https://guide.michelin.com/en/toscana/marina-di-grosseto/restaurant/gabbiano-3-0', 'page49>https://guide.michelin.com/en/piemonte/torino/restaurant/opera-1184623', 'page49>https://guide.michelin.com/en/lombardia/milano/restaurant/autem', 'page49>https://guide.michelin.com/en/veneto/venezia/restaurant/canova-by-sadler', 'page50>https://guide.michelin.com/en/toscana/firenze/restaurant/l-insolita-trattoria-tre-soldi', 'page50>https://guide.michelin.com/en/trentino-alto-adige/moena/restaurant/agritur-el-mas', 'page50>https://guide.michelin.com/en/campania/nola/restaurant/rear-restaurant', 'page50>https://guide.michelin.com/en/liguria/genova/restaurant/il-marin-eataly', 'page50>https://guide.michelin.com/en/emilia-romagna/ferrara/restaurant/quel-fantastico-giovedi', 'page50>https://guide.michelin.com/en/toscana/follonica/restaurant/il-sottomarino', 'page50>https://guide.michelin.com/en/liguria/genova/restaurant/le-cicale-in-citta', 'page50>https://guide.michelin.com/en/liguria/ventimiglia/restaurant/casa-buono', 'page50>https://guide.michelin.com/en/trentino-alto-adige/trento/restaurant/la-maison-de-filip', 'page50>https://guide.michelin.com/en/liguria/chiavari/restaurant/duo-1192304', 'page50>https://guide.michelin.com/en/lombardia/milano/restaurant/hazama', 'page50>https://guide.michelin.com/en/lombardia/milano/restaurant/il-marchese-osteria-mercato-liquori-1204539', 'page50>https://guide.michelin.com/en/veneto/lancenigo_1816541/restaurant/vite-1205287', 'page50>https://guide.michelin.com/en/lombardia/sorisole/restaurant/osteria-degli-assonica', 'page50>https://guide.michelin.com/en/lombardia/stradella/restaurant/gioele', 'page50>https://guide.michelin.com/en/lombardia/gallarate/restaurant/radici-osteria-contemporanea-1196408', 'page50>https://guide.michelin.com/en/abruzzo/giulianova/restaurant/aprudia', 'page50>https://guide.michelin.com/en/friuli-venezia-giulia/lignano-sabbiadoro/restaurant/rueda-gaucha', 'page50>https://guide.michelin.com/en/toscana/panzano/restaurant/antica-macelleria-cecchini-solociccia', 'page50>https://guide.michelin.com/en/lombardia/cusago/restaurant/brindo-by-orlando', 'page51>https://guide.michelin.com/en/piemonte/viceno/restaurant/edelweiss', 'page51>https://guide.michelin.com/en/lombardia/milano/restaurant/ceresio-7', 'page51>https://guide.michelin.com/en/liguria/cavi/restaurant/impronta-d-acqua', 'page51>https://guide.michelin.com/en/lazio/roma/restaurant/imago', 'page51>https://guide.michelin.com/en/basilicata/trecchina/restaurant/l-aia-dei-cappellani', 'page51>https://guide.michelin.com/en/emilia-romagna/parma/restaurant/inkiostro', 'page51>https://guide.michelin.com/en/toscana/ponte-a-moriano/restaurant/antica-locanda-di-sesto', 'page51>https://guide.michelin.com/en/emilia-romagna/rivergaro/restaurant/caffe-grande', 'page51>https://guide.michelin.com/en/puglia/peschici/restaurant/porta-di-basso', 'page51>https://guide.michelin.com/en/toscana/capannori/restaurant/serendepico', 'page51>https://guide.michelin.com/en/veneto/verona/restaurant/caffe-dante-bistrot', 'page51>https://guide.michelin.com/en/lombardia/sirmione/restaurant/tancredi', 'page51>https://guide.michelin.com/en/piemonte/venaria-reale/restaurant/dolce-stil-novo-alla-reggia', 'page51>https://guide.michelin.com/en/emilia-romagna/rivergaro/restaurant/locanda-sensi', 'page51>https://guide.michelin.com/en/toscana/firenze/restaurant/gucci-osteria-da-massimo-bottura', 'page51>https://guide.michelin.com/en/emilia-romagna/faenza/restaurant/la-baita', 'page51>https://guide.michelin.com/en/veneto/illasi/restaurant/le-cedrare', 'page51>https://guide.michelin.com/en/trentino-alto-adige/pergine-valsugana/restaurant/osteria-storica-morelli', 'page51>https://guide.michelin.com/en/lombardia/castiglione-delle-stiviere/restaurant/osteria-da-pietro', 'page51>https://guide.michelin.com/en/sicilia/modica/restaurant/la-locanda-del-colonnello', 'page52>https://guide.michelin.com/en/piemonte/venaria-reale/restaurant/il-convito-della-venaria', 'page52>https://guide.michelin.com/en/lombardia/milano/restaurant/wicky-s-wicuisine', 'page52>https://guide.michelin.com/en/lombardia/sirmione/restaurant/la-speranzina-restaurant-relais', 'page52>https://guide.michelin.com/en/piemonte/torino/restaurant/piazza-dei-mestieri', 'page52>https://guide.michelin.com/en/lazio/roma/restaurant/cipasso-bistrot', 'page52>https://guide.michelin.com/en/veneto/venezia/restaurant/osteria-alle-testiere', 'page52>https://guide.michelin.com/en/liguria/san-remo/restaurant/paolo-e-barbara', 'page52>https://guide.michelin.com/en/emilia-romagna/lama/restaurant/vecchia-lama', 'page52>https://guide.michelin.com/en/emilia-romagna/longiano/restaurant/dei-cantoni', 'page52>https://guide.michelin.com/en/sardegna/olbia/restaurant/bacchus', 'page52>https://guide.michelin.com/en/toscana/cortona/restaurant/la-bucaccia', 'page52>https://guide.michelin.com/en/marche/appignano/restaurant/osteria-dei-segreti', 'page52>https://guide.michelin.com/en/trentino-alto-adige/pedraces/restaurant/maso-runch-hof', 'page52>https://guide.michelin.com/en/toscana/passignano/restaurant/osteria-di-passignano', 'page52>https://guide.michelin.com/en/lombardia/manerba-del-garda/restaurant/dalie-e-fagioli', 'page52>https://guide.michelin.com/en/trentino-alto-adige/san-lorenzo-di-sebato/restaurant/lerchner-s-in-runggen', 'page52>https://guide.michelin.com/en/lombardia/milano/restaurant/horto-1204821', 'page52>https://guide.michelin.com/en/lombardia/albairate/restaurant/impronta-1202752', 'page52>https://guide.michelin.com/en/lombardia/moirago/restaurant/antica-osteria-moirago', 'page52>https://guide.michelin.com/en/emilia-romagna/bologna/restaurant/i-portici', 'page53>https://guide.michelin.com/en/toscana/firenze/restaurant/cuculia', 'page53>https://guide.michelin.com/en/lombardia/pagazzano/restaurant/locanda-viola', 'page53>https://guide.michelin.com/en/emilia-romagna/fiorano-modenese/restaurant/alto', 'page53>https://guide.michelin.com/en/trentino-alto-adige/brunico/restaurant/alpinn', 'page53>https://guide.michelin.com/en/lombardia/san-felice-del-benaco/restaurant/duo-1196308', 'page53>https://guide.michelin.com/en/lombardia/limone-sul-garda/restaurant/senso-alfio-ghezzi-lake-garda', 'page53>https://guide.michelin.com/en/friuli-venezia-giulia/trieste/restaurant/al-petes', 'page53>https://guide.michelin.com/en/sicilia/menfi/restaurant/la-foresteria', 'page53>https://guide.michelin.com/en/campania/somma-vesuviana/restaurant/contaminazioni-restaurant', 'page53>https://guide.michelin.com/en/piemonte/montaldo-scarampi/restaurant/ca-del-profeta', 'page53>https://guide.michelin.com/en/campania/cetara/restaurant/la-dispensa-di-armatore', 'page53>https://guide.michelin.com/en/emilia-romagna/rimini/restaurant/i-fame', 'page53>https://guide.michelin.com/en/trentino-alto-adige/foiana/restaurant/kirchsteiger', 'page53>https://guide.michelin.com/en/lombardia/cusago/restaurant/da-orlando', 'page53>https://guide.michelin.com/en/calabria/crotone/restaurant/da-ercole', 'page53>https://guide.michelin.com/en/lombardia/milano/restaurant/la-rosa-dei-venti', 'page53>https://guide.michelin.com/en/toscana/saturnia/restaurant/i-due-cippi-da-michele', 'page53>https://guide.michelin.com/en/abruzzo/rivisondoli/restaurant/da-giocondo', 'page53>https://guide.michelin.com/en/basilicata/matera/restaurant/ego', 'page53>https://guide.michelin.com/en/liguria/monterosso-al-mare/restaurant/l-ancora-della-tortuga', 'page54>https://guide.michelin.com/en/lazio/grottaferrata/restaurant/taverna-dello-spuntino', 'page54>https://guide.michelin.com/en/emilia-romagna/bobbio/restaurant/piacentino', 'page54>https://guide.michelin.com/en/emilia-romagna/sasso-marconi/restaurant/nuova-roma', 'page54>https://guide.michelin.com/en/toscana/montepulciano/restaurant/le-logge-del-vignola', 'page54>https://guide.michelin.com/en/trentino-alto-adige/ortisei/restaurant/tubladel', 'page54>https://guide.michelin.com/en/abruzzo/pescocostanzo/restaurant/la-corniola', 'page54>https://guide.michelin.com/en/veneto/pontelongo/restaurant/lazzaro-1915', 'page54>https://guide.michelin.com/en/campania/ospedaletto-d-alpinolo/restaurant/osteria-del-gallo-e-della-volpe', 'page54>https://guide.michelin.com/en/emilia-romagna/longiano/restaurant/terre-alte', 'page54>https://guide.michelin.com/en/veneto/treviso/restaurant/antico-morer', 'page54>https://guide.michelin.com/en/lombardia/alserio/restaurant/ca-mia', 'page54>https://guide.michelin.com/en/piemonte/sizzano/restaurant/impero', 'page54>https://guide.michelin.com/en/sardegna/olbia/restaurant/dulchemente', 'page54>https://guide.michelin.com/en/friuli-venezia-giulia/ruda/restaurant/osteria-altran', 'page54>https://guide.michelin.com/en/piemonte/torino/restaurant/piccolo-lord', 'page54>https://guide.michelin.com/en/toscana/seggiano/restaurant/silene', 'page54>https://guide.michelin.com/en/lombardia/gardone-riviera/restaurant/villa-fiordaliso', 'page54>https://guide.michelin.com/en/lombardia/gardone-riviera/restaurant/osteria-antico-brolo', 'page54>https://guide.michelin.com/en/toscana/san-giustino-valdarno/restaurant/osteria-del-borro', 'page54>https://guide.michelin.com/en/sicilia/augusta_1854056/restaurant/capriccio-1200379', 'page55>https://guide.michelin.com/en/lazio/olevano-romano/restaurant/sora-maria-e-arcangelo', 'page55>https://guide.michelin.com/en/piemonte/valdieri/restaurant/la-locanda-del-falco', 'page55>https://guide.michelin.com/en/lombardia/varese/restaurant/al-vecchio-convento', 'page55>https://guide.michelin.com/en/marche/treia_1832420/restaurant/il-casolare-dei-segreti', 'page55>https://guide.michelin.com/en/liguria/rapallo/restaurant/le-cupole', 'page55>https://guide.michelin.com/en/veneto/verona/restaurant/filia-ristorante', 'page55>https://guide.michelin.com/en/abruzzo/spoltore/restaurant/tamo', 'page55>https://guide.michelin.com/en/emilia-romagna/imola/restaurant/san-domenico', 'page55>https://guide.michelin.com/en/trentino-alto-adige/trentino-alto-adige-san-michele/restaurant/osteria-acquarol', 'page55>https://guide.michelin.com/en/toscana/firenze/restaurant/gune-san-frediano', 'page55>https://guide.michelin.com/en/piemonte/pallanza/restaurant/milano', 'page55>https://guide.michelin.com/en/veneto/treviso/restaurant/mar-divino', 'page55>https://guide.michelin.com/en/campania/sorrento/restaurant/lorelei', 'page55>https://guide.michelin.com/en/lombardia/livigno/restaurant/kosmo-taste-the-mountain', 'page55>https://guide.michelin.com/en/lazio/roma/restaurant/pulejo', 'page55>https://guide.michelin.com/en/trentino-alto-adige/trentino-alto-adige-san-michele/restaurant/osteria-platzegg', 'page55>https://guide.michelin.com/en/lazio/roma/restaurant/gainn', 'page55>https://guide.michelin.com/en/campania/pompei/restaurant/cosmo-restaurant', 'page55>https://guide.michelin.com/en/toscana/greve-in-chianti/restaurant/vitique', 'page55>https://guide.michelin.com/en/campania/ticciano/restaurant/cannavacciuolo-countryside', 'page56>https://guide.michelin.com/en/lombardia/mortara/restaurant/guallina', 'page56>https://guide.michelin.com/en/emilia-romagna/maranello/restaurant/il-cavallino', 'page56>https://guide.michelin.com/en/toscana/bolgheri/restaurant/osteria-del-tasso', 'page56>https://guide.michelin.com/en/veneto/lonigo/restaurant/la-peca', 'page56>https://guide.michelin.com/en/lazio/ponza/restaurant/acqua-pazza-1192022', 'page56>https://guide.michelin.com/en/campania/marina-del-cantone/restaurant/taverna-del-capitano', 'page56>https://guide.michelin.com/en/piemonte/guarene/restaurant/la-madernassa', 'page56>https://guide.michelin.com/en/lombardia/brescia/restaurant/vivace', 'page56>https://guide.michelin.com/en/campania/squille/restaurant/marotta', 'page56>https://guide.michelin.com/en/lazio/formello/restaurant/mogano', 'page56>https://guide.michelin.com/en/sicilia/caltanissetta/restaurant/zaghara-restaurant', 'page56>https://guide.michelin.com/en/abruzzo/castel-di-sangro/restaurant/materia-prima', 'page56>https://guide.michelin.com/en/veneto/verona/restaurant/vecio-macello', 'page56>https://guide.michelin.com/en/sicilia/terrasini/restaurant/salotto-sul-mare', 'page56>https://guide.michelin.com/en/piemonte/torino/restaurant/scatto', 'page56>https://guide.michelin.com/en/lombardia/milano/restaurant/antica-osteria-il-ronchettino', 'page56>https://guide.michelin.com/en/lombardia/milano/restaurant/ichikawa', 'page56>https://guide.michelin.com/en/veneto/vittorio-veneto/restaurant/le-macine', 'page56>https://guide.michelin.com/en/veneto/roncade/restaurant/le-cementine', 'page56>https://guide.michelin.com/en/piemonte/torino/restaurant/casa-vicina', 'page57>https://guide.michelin.com/en/lombardia/milano/restaurant/la-societa-milano', 'page57>https://guide.michelin.com/en/lazio/roma/restaurant/campocori', 'page57>https://guide.michelin.com/en/lombardia/iseo/restaurant/radici-1077246', 'page57>https://guide.michelin.com/en/lazio/contigliano_1843189/restaurant/delicato', 'page57>https://guide.michelin.com/en/lazio/roma/restaurant/moi', 'page57>https://guide.michelin.com/en/toscana/firenze/restaurant/nugolo', 'page57>https://guide.michelin.com/en/lombardia/lodi_1806947/restaurant/la-coldana', 'page57>https://guide.michelin.com/en/puglia/ostuni/restaurant/osteria-ricanatti', 'page57>https://guide.michelin.com/en/lazio/nettuno/restaurant/terramadre', 'page57>https://guide.michelin.com/en/lombardia/milano/restaurant/altatto-bistrot', 'page57>https://guide.michelin.com/en/lombardia/milano/restaurant/altrimenti', 'page57>https://guide.michelin.com/en/piemonte/monforte-d-alba/restaurant/fre', 'page57>https://guide.michelin.com/en/trentino-alto-adige/arco/restaurant/peter-brunel-ristorante-gourmet', 'page57>https://guide.michelin.com/en/friuli-venezia-giulia/spilimbergo/restaurant/la-torre153575', 'page57>https://guide.michelin.com/en/lazio/monterotondo/restaurant/trattoria-della-fortuna', 'page57>https://guide.michelin.com/en/lombardia/como/restaurant/comi-107', 'page57>https://guide.michelin.com/en/puglia/noci/restaurant/fe', 'page57>https://guide.michelin.com/en/piemonte/villar-dora/restaurant/cucina-rambaldi', 'page57>https://guide.michelin.com/en/lombardia/milano/restaurant/moebius-sperimentale', 'page57>https://guide.michelin.com/en/piemonte/torino/restaurant/madama-piola', 'page58>https://guide.michelin.com/en/veneto/peschiera-del-garda_1818693/restaurant/osteria-bakare', 'page58>https://guide.michelin.com/en/piemonte/torino/restaurant/carlo-e-camillo', 'page58>https://guide.michelin.com/en/veneto/vicenza/restaurant/remo-villa-cariolato', 'page58>https://guide.michelin.com/en/toscana/cerreto-guidi/restaurant/ps-ristorante-1192505', 'page58>https://guide.michelin.com/en/friuli-venezia-giulia/dolegna-del-collio/restaurant/ronchi-ro', 'page58>https://guide.michelin.com/en/toscana/castelnuovo-berardenga/restaurant/il-visibilio', 'page58>https://guide.michelin.com/en/veneto/schio/restaurant/spinechile', 'page58>https://guide.michelin.com/en/liguria/noli/restaurant/il-vescovado', 'page58>https://guide.michelin.com/en/lazio/roma/restaurant/diana-s-place', 'page58>https://guide.michelin.com/en/liguria/genova/restaurant/the-cook', 'page58>https://guide.michelin.com/en/emilia-romagna/parma/restaurant/i-tri-siochett', 'page58>https://guide.michelin.com/en/piemonte/orta-san-giulio/restaurant/locanda-di-orta', 'page58>https://guide.michelin.com/en/veneto/padova/restaurant/enotavola', 'page58>https://guide.michelin.com/en/puglia/lucera/restaurant/il-presidente', 'page58>https://guide.michelin.com/en/veneto/asiago/restaurant/osteria-della-tana', 'page58>https://guide.michelin.com/en/emilia-romagna/bologna/restaurant/trattoria-da-me', 'page58>https://guide.michelin.com/en/emilia-romagna/bologna/restaurant/seta-sushi-restaurant', 'page58>https://guide.michelin.com/en/valle-d-aosta/it-breuil-cervinia/restaurant/la-chandelle1154957', 'page58>https://guide.michelin.com/en/sicilia/milazzo/restaurant/balice', 'page58>https://guide.michelin.com/en/campania/amalfi/restaurant/glicine', 'page59>https://guide.michelin.com/en/trentino-alto-adige/corvara-in-badia/restaurant/l-osti', 'page59>https://guide.michelin.com/en/lombardia/montu-beccaria/restaurant/la-locanda-dei-beccaria', 'page59>https://guide.michelin.com/en/campania/napoli/restaurant/palazzo-petrucci-pizzeria', 'page59>https://guide.michelin.com/en/sicilia/marzamemi/restaurant/cortile-arabo', 'page59>https://guide.michelin.com/en/lombardia/stradella/restaurant/villa-naj', 'page59>https://guide.michelin.com/en/lazio/roma/restaurant/acciuga', 'page59>https://guide.michelin.com/en/lombardia/milano/restaurant/giannino-dal-1899', 'page59>https://guide.michelin.com/en/lombardia/milano/restaurant/bottega-lucia', 'page59>https://guide.michelin.com/en/sicilia/catania/restaurant/concezione-restaurant', 'page59>https://guide.michelin.com/en/puglia/polignano-a-mare/restaurant/meraviglioso-osteria-moderna', 'page59>https://guide.michelin.com/en/veneto/vicenza/restaurant/matteo-grandi', 'page59>https://guide.michelin.com/en/campania/amalfi/restaurant/alici', 'page59>https://guide.michelin.com/en/campania/capri/restaurant/gennaro-amitrano-1190752', 'page59>https://guide.michelin.com/en/sicilia/montallegro/restaurant/locanda-perbellini-al-mare', 'page59>https://guide.michelin.com/en/lombardia/mandello-del-lario/restaurant/il-giardinetto', 'page59>https://guide.michelin.com/en/toscana/firenze/restaurant/locale', 'page59>https://guide.michelin.com/en/lombardia/voghera_1810742/restaurant/rimulas', 'page59>https://guide.michelin.com/en/campania/amalfi/restaurant/la-caravella-dal-1959', 'page59>https://guide.michelin.com/en/lombardia/treviglio/restaurant/san-martino155366', 'page59>https://guide.michelin.com/en/piemonte/cerretto-langhe/restaurant/faula', 'page60>https://guide.michelin.com/en/emilia-romagna/ferrara/restaurant/ca-d-frara', 'page60>https://guide.michelin.com/en/sardegna/cagliari/restaurant/chiaroscuro', 'page60>https://guide.michelin.com/en/lombardia/peschiera-borromeo/restaurant/asina-luna', 'page60>https://guide.michelin.com/en/emilia-romagna/carpi/restaurant/il-barolino', 'page60>https://guide.michelin.com/en/emilia-romagna/pennabilli/restaurant/il-piastrino', 'page60>https://guide.michelin.com/en/lombardia/padenghe-sul-garda/restaurant/il-rivale-l-osteria-di-palazzo', 'page60>https://guide.michelin.com/en/umbria/panicale/restaurant/lillo-tatini', 'page60>https://guide.michelin.com/en/toscana/montalcino/restaurant/boccon-divino', 'page60>https://guide.michelin.com/en/emilia-romagna/rimini/restaurant/guido', 'page60>https://guide.michelin.com/en/piemonte/monforte-d-alba/restaurant/giardino-da-felicin', 'page60>https://guide.michelin.com/en/piemonte/rivarolo-canavese/restaurant/antica-locanda-dell-orco', 'page60>https://guide.michelin.com/en/emilia-romagna/misano-adriatico/restaurant/le-vele', 'page60>https://guide.michelin.com/en/lombardia/sirmione/restaurant/risorgimento', 'page60>https://guide.michelin.com/en/piemonte/pettenasco/restaurant/giardinetto', 'page60>https://guide.michelin.com/en/lombardia/ponte-di-legno/restaurant/kro', 'page60>https://guide.michelin.com/en/valle-d-aosta/sarre/restaurant/trattoria-di-campagna', 'page60>https://guide.michelin.com/en/emilia-romagna/ferrara/restaurant/makore', 'page60>https://guide.michelin.com/en/piemonte/stresa/restaurant/lo-stornello', 'page60>https://guide.michelin.com/en/emilia-romagna/torriana/restaurant/il-chiosco-di-bacco', 'page60>https://guide.michelin.com/en/piemonte/la-morra/restaurant/massimo-camia', 'page61>https://guide.michelin.com/en/campania/ravello/restaurant/il-flauto-di-pan', 'page61>https://guide.michelin.com/en/emilia-romagna/modena/restaurant/antica-moka', 'page61>https://guide.michelin.com/en/lazio/roma/restaurant/almato', 'page61>https://guide.michelin.com/en/piemonte/torino/restaurant/razzo', 'page61>https://guide.michelin.com/en/campania/napoli/restaurant/3-0-ciro-cascella', 'page61>https://guide.michelin.com/en/veneto/trebaseleghe/restaurant/baracca-storica-hostaria', 'page61>https://guide.michelin.com/en/lazio/roma/restaurant/la-pergola69016', 'page61>https://guide.michelin.com/en/trentino-alto-adige/lagundo/restaurant/luisl-stube', 'page61>https://guide.michelin.com/en/umbria/terni/restaurant/nascostoposto', 'page61>https://guide.michelin.com/en/sardegna/cagliari/restaurant/duanima', 'page61>https://guide.michelin.com/en/lazio/roma/restaurant/adelaide', 'page61>https://guide.michelin.com/en/veneto/cortina-d-ampezzo/restaurant/sanbrite', 'page61>https://guide.michelin.com/en/lombardia/rho/restaurant/mezzolitro-vini-e-cucina', 'page61>https://guide.michelin.com/en/lombardia/esine/restaurant/da-sapi', 'page61>https://guide.michelin.com/en/lombardia/livigno/restaurant/al-persef', 'page61>https://guide.michelin.com/en/toscana/prato/restaurant/paca', 'page61>https://guide.michelin.com/en/campania/pompei/restaurant/cenere-museum-bistrot', 'page61>https://guide.michelin.com/en/lazio/roma/restaurant/livello-1', 'page61>https://guide.michelin.com/en/sicilia/noto/restaurant/w-villadorata-country-restaurant', 'page61>https://guide.michelin.com/en/puglia/trani/restaurant/quintessenza-1195965', 'page62>https://guide.michelin.com/en/sardegna/cagliari/restaurant/josto', 'page62>https://guide.michelin.com/en/basilicata/palazzo-san-gervasio/restaurant/bramea', 'page62>https://guide.michelin.com/en/liguria/sestri-ponente/restaurant/toe-drue', 'page62>https://guide.michelin.com/en/veneto/malo/restaurant/la-favellina', 'page62>https://guide.michelin.com/en/basilicata/matera/restaurant/dimora-ulmo', 'page62>https://guide.michelin.com/en/sicilia/modica/restaurant/fattoria-delle-torri', 'page62>https://guide.michelin.com/en/lombardia/grazie/restaurant/locanda-delle-grazie', 'page62>https://guide.michelin.com/en/emilia-romagna/carpi/restaurant/il-25', 'page62>https://guide.michelin.com/en/liguria/pietra-ligure/restaurant/buca-di-bacco', 'page62>https://guide.michelin.com/en/liguria/monterosso-al-mare/restaurant/da-miky', 'page62>https://guide.michelin.com/en/toscana/monsummano-terme/restaurant/osteria-il-maialetto', 'page62>https://guide.michelin.com/en/marche/gabicce-monte/restaurant/posillipo', 'page62>https://guide.michelin.com/en/campania/ischia/restaurant/dani-maison', 'page62>https://guide.michelin.com/en/liguria/genova/restaurant/la-pineta136054', 'page62>https://guide.michelin.com/en/toscana/forte-dei-marmi/restaurant/lorenzo', 'page62>https://guide.michelin.com/en/emilia-romagna/rubiera/restaurant/arnaldo-clinica-gastronomica', 'page62>https://guide.michelin.com/en/emilia-romagna/modena/restaurant/l-erba-del-re', 'page62>https://guide.michelin.com/en/friuli-venezia-giulia/san-quirino/restaurant/la-primula', 'page62>https://guide.michelin.com/en/piemonte/magliano-alfieri/restaurant/stefano-paganini-alla-corte-degli-alfieri', 'page62>https://guide.michelin.com/en/veneto/venezia/restaurant/vini-da-gigio', 'page63>https://guide.michelin.com/en/liguria/andora/restaurant/vignamare', 'page63>https://guide.michelin.com/en/trentino-alto-adige/badia_3684715/restaurant/porcino', 'page63>https://guide.michelin.com/en/sardegna/olbia/restaurant/l-essenza-bistrot', 'page63>https://guide.michelin.com/en/piemonte/gavi/restaurant/la-gallina', 'page63>https://guide.michelin.com/en/puglia/vieste/restaurant/acqua-562821', 'page63>https://guide.michelin.com/en/sicilia/palermo/restaurant/gagini-social-restaurant', 'page63>https://guide.michelin.com/en/marche/porto-san-giorgio/restaurant/retroscena', 'page63>https://guide.michelin.com/en/campania/positano/restaurant/li-galli', 'page63>https://guide.michelin.com/en/toscana/firenze/restaurant/l-ortone', 'page63>https://guide.michelin.com/en/lombardia/monza/restaurant/il-circolino', 'page63>https://guide.michelin.com/en/lazio/roma/restaurant/osteria-della-trippa', 'page63>https://guide.michelin.com/en/lazio/roma/restaurant/menabo-vino-e-cucina', 'page63>https://guide.michelin.com/en/trentino-alto-adige/sarentino/restaurant/terra151934', 'page63>https://guide.michelin.com/en/lombardia/poggiridenti/restaurant/il-poggio', 'page63>https://guide.michelin.com/en/toscana/viareggio/restaurant/lunasia500267', 'page63>https://guide.michelin.com/en/trentino-alto-adige/colle/restaurant/tenne-1191201', 'page63>https://guide.michelin.com/en/trentino-alto-adige/trento/restaurant/osteria-il-cappello', 'page63>https://guide.michelin.com/en/lombardia/milano/restaurant/bentoteca', 'page63>https://guide.michelin.com/en/marche/macerata/restaurant/signore-te-ne-ringrazi-1202527', 'page63>https://guide.michelin.com/en/trentino-alto-adige/corvara-in-badia/restaurant/burje-1968', 'page64>https://guide.michelin.com/en/lazio/roma/restaurant/la-ciambella', 'page64>https://guide.michelin.com/en/veneto/este/restaurant/incalmo', 'page64>https://guide.michelin.com/en/liguria/savona/restaurant/bino-ricchebuono', 'page64>https://guide.michelin.com/en/sicilia/cefal/restaurant/cortile-pepe', 'page64>https://guide.michelin.com/en/sicilia/giarre_1854983/restaurant/casu-osteria-contemporanea', 'page64>https://guide.michelin.com/en/lombardia/oggiono/restaurant/bianca-sul-lago', 'page64>https://guide.michelin.com/en/lazio/roma/restaurant/mirabelle-1190136', 'page64>https://guide.michelin.com/en/lazio/roma/restaurant/enoteca-la-torre', 'page64>https://guide.michelin.com/en/sardegna/porto-san-paolo/restaurant/il-portolano', 'page64>https://guide.michelin.com/en/campania/vico-equense/restaurant/il-bikini', 'page64>https://guide.michelin.com/en/sardegna/oliena/restaurant/su-gologone', 'page64>https://guide.michelin.com/en/abruzzo/roseto-degli-abruzzi/restaurant/vecchia-marina', 'page64>https://guide.michelin.com/en/campania/pozzuoli/restaurant/abraxas-osteria', 'page64>https://guide.michelin.com/en/toscana/viareggio/restaurant/henri-restaurant', 'page64>https://guide.michelin.com/en/sardegna/porto-rotondo/restaurant/deste', 'page64>https://guide.michelin.com/en/calabria/tropea/restaurant/de-minimi', 'page64>https://guide.michelin.com/en/piemonte/chieri/restaurant/de-gustibus', 'page64>https://guide.michelin.com/en/lombardia/brescia/restaurant/il-rivale-in-citta', 'page64>https://guide.michelin.com/en/lazio/roma/restaurant/kohaku-1206448', 'page64>https://guide.michelin.com/en/emilia-romagna/lido-di-savio/restaurant/salsedine367', 'page65>https://guide.michelin.com/en/veneto/oppeano/restaurant/famiglia-rana', 'page65>https://guide.michelin.com/en/trentino-alto-adige/glurns/restaurant/flurin', 'page65>https://guide.michelin.com/en/campania/napoli/restaurant/locanda-gesu-vecchio', 'page65>https://guide.michelin.com/en/lombardia/rovato_1809080/restaurant/al-malo-cucina-e-miscelazione', 'page65>https://guide.michelin.com/en/piemonte/torino/restaurant/consorzio', 'page65>https://guide.michelin.com/en/piemonte/asti/restaurant/il-cavallo-scosso', 'page65>https://guide.michelin.com/en/piemonte/pollenzo/restaurant/carpe-noctem-et-diem', 'page65>https://guide.michelin.com/en/campania/brusciano/restaurant/taverna-estia', 'page65>https://guide.michelin.com/en/campania/ravello/restaurant/rossellinis', 'page65>https://guide.michelin.com/en/toscana/san-casciano-in-val-di-pesa/restaurant/nello', 'page65>https://guide.michelin.com/en/lombardia/milano/restaurant/terrazza-gallia', 'page65>https://guide.michelin.com/en/toscana/viareggio/restaurant/teresita-by-giardino-di-mari', 'page65>https://guide.michelin.com/en/piemonte/castagnito-d-alba_7770391/restaurant/marc-lanteri', 'page65>https://guide.michelin.com/en/veneto/chies-d-alpago_1814192/restaurant/locanda-san-martino', 'page65>https://guide.michelin.com/en/toscana/firenze/restaurant/atto-di-vito-mollica', 'page65>https://guide.michelin.com/en/piemonte/torino/restaurant/andrea-larossa', 'page65>https://guide.michelin.com/en/piemonte/torino/restaurant/magazzino-52', 'page65>https://guide.michelin.com/en/campania/pompei/restaurant/il-principe', 'page65>https://guide.michelin.com/en/sicilia/taormina/restaurant/otto-geleng', 'page65>https://guide.michelin.com/en/lombardia/milano/restaurant/cafe-cracco', 'page66>https://guide.michelin.com/en/lazio/roma/restaurant/luciano-cucina-italiana', 'page66>https://guide.michelin.com/en/toscana/lucca/restaurant/l-imbuto', 'page66>https://guide.michelin.com/en/trentino-alto-adige/madonna-di-senales/restaurant/josef-stube', 'page66>https://guide.michelin.com/en/lombardia/rho/restaurant/la-barca-147567', 'page66>https://guide.michelin.com/en/lombardia/cernobbio/restaurant/casa-perrotta-restaurant', 'page66>https://guide.michelin.com/en/lombardia/milano/restaurant/aalto', 'page66>https://guide.michelin.com/en/abruzzo/teramo/restaurant/oishi-teramo', 'page66>https://guide.michelin.com/en/lombardia/puegnago-sul-garda/restaurant/casa-leali', 'page66>https://guide.michelin.com/en/veneto/bassano-del-grappa/restaurant/impronta', 'page66>https://guide.michelin.com/en/piemonte/casale-monferrato/restaurant/faletta-1881', 'page66>https://guide.michelin.com/en/toscana/arezzo/restaurant/osteria-grande', 'page66>https://guide.michelin.com/en/lazio/roma/restaurant/da-armando-al-pantheon', 'page66>https://guide.michelin.com/en/emilia-romagna/coriano/restaurant/vite', 'page66>https://guide.michelin.com/en/lombardia/milano/restaurant/quadri-bistrot', 'page66>https://guide.michelin.com/en/veneto/mira/restaurant/trattoria-dall-antonia', 'page66>https://guide.michelin.com/en/emilia-romagna/bologna/restaurant/ling-s-ravioleria-migrante', 'page66>https://guide.michelin.com/en/basilicata/lavello/restaurant/don-alfonso-1890-san-barbato', 'page66>https://guide.michelin.com/en/umbria/corciano_1835233/restaurant/aldivino', 'page66>https://guide.michelin.com/en/lombardia/rivanazzano-terme/restaurant/selvatico', 'page66>https://guide.michelin.com/en/lazio/roma/restaurant/il-marchese-osteria-mercato-liquori', 'page67>https://guide.michelin.com/en/piemonte/cavour/restaurant/la-posta161422', 'page67>https://guide.michelin.com/en/lombardia/montecalvo-versiggia/restaurant/prato-gaio', 'page67>https://guide.michelin.com/en/umbria/deruta_1835451/restaurant/i-rodella', 'page67>https://guide.michelin.com/en/sicilia/catania/restaurant/materia-1203255', 'page67>https://guide.michelin.com/en/valle-d-aosta/aosta/restaurant/stefenelli-desk', 'page67>https://guide.michelin.com/en/veneto/verona/restaurant/vescovo-moro', 'page67>https://guide.michelin.com/en/marche/porto-san-giorgio/restaurant/l-arcade-1196110', 'page67>https://guide.michelin.com/en/toscana/carrara/restaurant/il-narciso', 'page67>https://guide.michelin.com/en/campania/santa-maria-di-castellabate/restaurant/osteria-1861', 'page67>https://guide.michelin.com/en/lombardia/cima/restaurant/la-musa', 'page67>https://guide.michelin.com/en/liguria/genova/restaurant/santamonica', 'page67>https://guide.michelin.com/en/friuli-venezia-giulia/buttrio/restaurant/enoteca-di-buttrio', 'page67>https://guide.michelin.com/en/emilia-romagna/saludecio/restaurant/locanda-belvedere', 'page67>https://guide.michelin.com/en/emilia-romagna/ravenna/restaurant/antica-trattoria-al-gallo-1909', 'page67>https://guide.michelin.com/en/toscana/rapolano-terme/restaurant/osteria-il-granaio', 'page67>https://guide.michelin.com/en/lombardia/seregno/restaurant/osteria-l-abbicci', 'page67>https://guide.michelin.com/en/abruzzo/teramo/restaurant/spoon', 'page67>https://guide.michelin.com/en/lombardia/milano/restaurant/voce-aimo-e-nadia', 'page67>https://guide.michelin.com/en/lombardia/como/restaurant/sottovoce', 'page67>https://guide.michelin.com/en/lombardia/sal/restaurant/felter-alle-rose', 'page68>https://guide.michelin.com/en/campania/san-giorgio-del-sannio/restaurant/locanda-della-luna', 'page68>https://guide.michelin.com/en/piemonte/varallo/restaurant/hostaria-di-bricai', 'page68>https://guide.michelin.com/en/lombardia/robbiate_1808919/restaurant/osteria-dello-strecciolo', 'page68>https://guide.michelin.com/en/toscana/colle-di-val-d-elsa/restaurant/il-frantoio-453239', 'page68>https://guide.michelin.com/en/emilia-romagna/castel-san-pietro-terme_1824717/restaurant/il-grifone', 'page68>https://guide.michelin.com/en/toscana/montepulciano/restaurant/indigeno', 'page68>https://guide.michelin.com/en/campania/bacoli/restaurant/riccio-restaurant', 'page68>https://guide.michelin.com/en/lombardia/milano/restaurant/mu-dimsum', 'page68>https://guide.michelin.com/en/puglia/trani/restaurant/casa-sgarra', 'page68>https://guide.michelin.com/en/piemonte/torino/restaurant/la-limonaia', 'page68>https://guide.michelin.com/en/lombardia/varenna/restaurant/hosteria-del-platano', 'page68>https://guide.michelin.com/en/umbria/passignano-sul-trasimeno/restaurant/il-molo', 'page68>https://guide.michelin.com/en/campania/telese/restaurant/kresios', 'page68>https://guide.michelin.com/en/campania/it-montoro/restaurant/casa-federici', 'page68>https://guide.michelin.com/en/toscana/nibbiaia/restaurant/locanda-martinelli', 'page68>https://guide.michelin.com/en/campania/baronissi/restaurant/cetaria', 'page68>https://guide.michelin.com/en/trentino-alto-adige/romeno/restaurant/nerina', 'page68>https://guide.michelin.com/en/campania/amalfi/restaurant/sensi536205', 'page68>https://guide.michelin.com/en/veneto/venezia/restaurant/chat-qui-rit', 'page68>https://guide.michelin.com/en/veneto/cortina-d-ampezzo/restaurant/el-brite-di-larieto', 'page69>https://guide.michelin.com/en/lombardia/milano/restaurant/borgia-milano', 'page69>https://guide.michelin.com/en/lombardia/milano/restaurant/bu-r', 'page69>https://guide.michelin.com/en/emilia-romagna/rubiera/restaurant/osteria-del-viandante', 'page69>https://guide.michelin.com/en/trentino-alto-adige/moena/restaurant/ostaria-tyrol', 'page69>https://guide.michelin.com/en/lombardia/sirmione/restaurant/la-rucola-2-0', 'page69>https://guide.michelin.com/en/lombardia/bergamo/restaurant/impronte', 'page69>https://guide.michelin.com/en/lombardia/milano/restaurant/la-cucina-de-mibabbo', 'page69>https://guide.michelin.com/en/toscana/piombino/restaurant/al-baccanale', 'page69>https://guide.michelin.com/en/campania/napoli/restaurant/da-attilio', 'page69>https://guide.michelin.com/en/umbria/passignano-sul-trasimeno/restaurant/da-luciano', 'page69>https://guide.michelin.com/en/veneto/padova/restaurant/stefano-mocellin-al-padovanino', 'page69>https://guide.michelin.com/en/abruzzo/pescara/restaurant/estro', 'page69>https://guide.michelin.com/en/umbria/assisi/restaurant/il-frantoio-1090839', 'page69>https://guide.michelin.com/en/sicilia/palermo/restaurant/palazzo-branciforte', 'page69>https://guide.michelin.com/en/lazio/roma/restaurant/carter-oblio', 'page69>https://guide.michelin.com/en/trentino-alto-adige/soprabolzano/restaurant/1908', 'page69>https://guide.michelin.com/en/lombardia/milano/restaurant/la-risacca-blu', 'page69>https://guide.michelin.com/en/friuli-venezia-giulia/pordenone/restaurant/sostansa', 'page69>https://guide.michelin.com/en/emilia-romagna/rimini/restaurant/trattoria-da-lucio', 'page69>https://guide.michelin.com/en/abruzzo/castel-di-sangro/restaurant/reale', 'page70>https://guide.michelin.com/en/calabria/santa-cristina-d-aspromonte/restaurant/qafiz', 'page70>https://guide.michelin.com/en/toscana/colle-di-val-d-elsa/restaurant/bis-osteria-italiana-contemporanea', 'page70>https://guide.michelin.com/en/friuli-venezia-giulia/sauris_1820948/restaurant/oro-nero', 'page70>https://guide.michelin.com/en/emilia-romagna/rimini/restaurant/dallo-zio', 'page70>https://guide.michelin.com/en/calabria/marina-di-gioiosa-ionica/restaurant/gambero-rosso', 'page70>https://guide.michelin.com/en/piemonte/rivoli/restaurant/between', 'page70>https://guide.michelin.com/en/lombardia/rodengo-saiano/restaurant/il-colmetto', 'page70>https://guide.michelin.com/en/lombardia/albiate/restaurant/grow-restaurant', 'page70>https://guide.michelin.com/en/sicilia/bagheria/restaurant/limu', 'page70>https://guide.michelin.com/en/friuli-venezia-giulia/lavariano/restaurant/ab-osteria-contemporanea', 'page70>https://guide.michelin.com/en/veneto/venezia/restaurant/quadri', 'page70>https://guide.michelin.com/en/lazio/roma/restaurant/sushisen', 'page70>https://guide.michelin.com/en/lazio/roma/restaurant/giano', 'page70>https://guide.michelin.com/en/sardegna/cala-gonone/restaurant/il-pescatore', 'page70>https://guide.michelin.com/en/emilia-romagna/crevalcore/restaurant/bottega-aleotti', 'page70>https://guide.michelin.com/en/lombardia/treviglio/restaurant/marelet', 'page70>https://guide.michelin.com/en/liguria/paraggi/restaurant/langosteria-paraggi', 'page70>https://guide.michelin.com/en/puglia/scorrano/restaurant/roots-trattoria', 'page70>https://guide.michelin.com/en/abruzzo/avezzano/restaurant/mammarossa', 'page70>https://guide.michelin.com/en/trentino-alto-adige/merano/restaurant/in-viaggio-claudio-melis1154911', 'page71>https://guide.michelin.com/en/campania/sant-antonio-abate/restaurant/gerani-1192240', 'page71>https://guide.michelin.com/en/campania/vietri-sul-mare/restaurant/volta-del-fuenti', 'page71>https://guide.michelin.com/en/sicilia/sciacca/restaurant/hostaria-del-vicolo', 'page71>https://guide.michelin.com/en/toscana/empoli/restaurant/20-posti', 'page71>https://guide.michelin.com/en/friuli-venezia-giulia/porcia/restaurant/la-ciotola', 'page71>https://guide.michelin.com/en/toscana/san-gimignano/restaurant/linfa', 'page71>https://guide.michelin.com/en/piemonte/torino/restaurant/la-pista', 'page71>https://guide.michelin.com/en/liguria/genova/restaurant/hostaria-ducale', 'page71>https://guide.michelin.com/en/piemonte/gattinara/restaurant/osteria-contemporanea', 'page71>https://guide.michelin.com/en/sicilia/siracusa/restaurant/cortile-spirito-santo', 'page71>https://guide.michelin.com/en/campania/conca-dei-marini/restaurant/il-refettorio', 'page71>https://guide.michelin.com/en/marche/recanati/restaurant/casa-bertini', 'page71>https://guide.michelin.com/en/trentino-alto-adige/bolzano/restaurant/marechiaro', 'page71>https://guide.michelin.com/en/lazio/pontinia/restaurant/mater1apr1ma', 'page71>https://guide.michelin.com/en/lombardia/milano/restaurant/sine', 'page71>https://guide.michelin.com/en/piemonte/barbaresco/restaurant/campamac-osteria-gourmet', 'page71>https://guide.michelin.com/en/toscana/firenze/restaurant/podere-39', 'page71>https://guide.michelin.com/en/piemonte/torino/restaurant/unforgettable', 'page71>https://guide.michelin.com/en/emilia-romagna/modena/restaurant/trattoria-pomposa-al-re-gras', 'page71>https://guide.michelin.com/en/veneto/venezia/restaurant/lineadombra', 'page72>https://guide.michelin.com/en/campania/napoli/restaurant/sustanza', 'page72>https://guide.michelin.com/en/toscana/viareggio/restaurant/il-piccolo-principe', 'page72>https://guide.michelin.com/en/umbria/morrano-nuovo/restaurant/da-gregorio', 'page72>https://guide.michelin.com/en/umbria/castel-giorgio/restaurant/radici1090885', 'page72>https://guide.michelin.com/en/puglia/minervino-di-lecce_1852995/restaurant/osteria-origano', 'page72>https://guide.michelin.com/en/toscana/poggibonsi/restaurant/innocenti-wine-experiences', 'page72>https://guide.michelin.com/en/campania/scala/restaurant/da-lorenzo', 'page72>https://guide.michelin.com/en/puglia/lucera/restaurant/coquus', 'page72>https://guide.michelin.com/en/piemonte/cremolino/restaurant/mirepua-food-lab', 'page72>https://guide.michelin.com/en/lombardia/lainate_1806778/restaurant/la-corte-gourmet', 'page72>https://guide.michelin.com/en/abruzzo/giulianova-lido/restaurant/lucia-136215', 'page72>https://guide.michelin.com/en/lombardia/milano/restaurant/antica-osteria-del-mare', 'page72>https://guide.michelin.com/en/veneto/treviso/restaurant/med', 'page72>https://guide.michelin.com/en/lombardia/brescia/restaurant/forme-restaurant', 'page72>https://guide.michelin.com/en/sardegna/sassari_1840958/restaurant/osteria-de-mercati', 'page72>https://guide.michelin.com/en/lombardia/milano/restaurant/verso-capitaneo', 'page72>https://guide.michelin.com/en/liguria/genova/restaurant/rosmarino', 'page72>https://guide.michelin.com/en/campania/it-sant-agnello/restaurant/don-geppi', 'page72>https://guide.michelin.com/en/umbria/sellano_1831718/restaurant/la-tavola-rossa-di-vincenzo-guarino', 'page72>https://guide.michelin.com/en/puglia/troia_1853841/restaurant/gallery-bistrot-contemporaneo', 'page73>https://guide.michelin.com/en/emilia-romagna/cesenatico/restaurant/veranda-1206200', 'page73>https://guide.michelin.com/en/emilia-romagna/selva-malvezzi_1828749/restaurant/locanda-pincelli', 'page73>https://guide.michelin.com/en/puglia/ceglie-messapica/restaurant/cibus', 'page73>https://guide.michelin.com/en/piemonte/cavour/restaurant/la-nicchia', 'page73>https://guide.michelin.com/en/friuli-venezia-giulia/buttrio/restaurant/trattoria-al-parco', 'page73>https://guide.michelin.com/en/friuli-venezia-giulia/cividale-del-friuli/restaurant/al-monastero', 'page73>https://guide.michelin.com/en/trentino-alto-adige/corvara-in-badia/restaurant/bistrot-la-perla', 'page73>https://guide.michelin.com/en/campania/san-nicola-manfredi/restaurant/pascalucci', 'page73>https://guide.michelin.com/en/veneto/cavaion-veronese/restaurant/oseleta', 'page73>https://guide.michelin.com/en/trentino-alto-adige/gudon/restaurant/unterwirt', 'page73>https://guide.michelin.com/en/umbria/macchie/restaurant/tenuta-del-gallo', 'page73>https://guide.michelin.com/en/emilia-romagna/bologna/restaurant/al-cambio', 'page73>https://guide.michelin.com/en/lombardia/mese/restaurant/crotasc', 'page73>https://guide.michelin.com/en/veneto/albignasego/restaurant/il-baretto', 'page73>https://guide.michelin.com/en/valle-d-aosta/it-breuil-cervinia/restaurant/la-luge', 'page73>https://guide.michelin.com/en/veneto/lughetto/restaurant/antica-osteria-cera', 'page73>https://guide.michelin.com/en/campania/capri/restaurant/le-monzu', 'page73>https://guide.michelin.com/en/piemonte/borgo-vercelli/restaurant/osteria-cascina-dei-fiori', 'page73>https://guide.michelin.com/en/emilia-romagna/bagno-di-romagna/restaurant/paolo-teverini', 'page73>https://guide.michelin.com/en/lombardia/ambivere/restaurant/antica-osteria-dei-cameli', 'page74>https://guide.michelin.com/en/veneto/verona/restaurant/osteria-mondo-d-oro', 'page74>https://guide.michelin.com/en/lazio/roma/restaurant/roscioli', 'page74>https://guide.michelin.com/en/lombardia/malnate/restaurant/osteria-degli-angeli', 'page74>https://guide.michelin.com/en/piemonte/pella_1798343/restaurant/casa-fantini-lake-time', 'page74>https://guide.michelin.com/en/lazio/nettuno/restaurant/la-taverna-di-bacco', 'page74>https://guide.michelin.com/en/emilia-romagna/borgonovo-val-tidone/restaurant/novo-osteria', 'page74>https://guide.michelin.com/en/trentino-alto-adige/torbole/restaurant/aqua-560894', 'page74>https://guide.michelin.com/en/toscana/firenze/restaurant/konnubio', 'page74>https://guide.michelin.com/en/liguria/genova/restaurant/osteria-della-foce', 'page74>https://guide.michelin.com/en/lazio/frascati/restaurant/contatto', 'page74>https://guide.michelin.com/en/emilia-romagna/ravarino/restaurant/il-grano-di-pepe', 'page74>https://guide.michelin.com/en/sicilia/catania/restaurant/angio-macelleria-di-mare', 'page74>https://guide.michelin.com/en/molise/campobasso/restaurant/emozioni', 'page74>https://guide.michelin.com/en/lazio/caprarola/restaurant/trattoria-del-cimino-dal-1895', 'page74>https://guide.michelin.com/en/campania/caserta/restaurant/le-colonne', 'page74>https://guide.michelin.com/en/veneto/lapio/restaurant/trattoria-da-zamboni', 'page74>https://guide.michelin.com/en/emilia-romagna/bologna/restaurant/acqua-pazza', 'page74>https://guide.michelin.com/en/emilia-romagna/bologna/restaurant/sale-grosso384785', 'page74>https://guide.michelin.com/en/emilia-romagna/bologna/restaurant/trattoria-di-via-serra', 'page74>https://guide.michelin.com/en/emilia-romagna/bologna/restaurant/trattoria-battibecco', 'page75>https://guide.michelin.com/en/piemonte/baveno/restaurant/sottosopra', 'page75>https://guide.michelin.com/en/piemonte/baldichieri-d-asti/restaurant/madama-vigna', 'page75>https://guide.michelin.com/en/emilia-romagna/codigoro/restaurant/la-capanna-di-eraclio', 'page75>https://guide.michelin.com/en/piemonte/canelli/restaurant/san-marco', 'page75>https://guide.michelin.com/en/puglia/barletta/restaurant/bacco', 'page75>https://guide.michelin.com/en/lombardia/brescia/restaurant/carne-spirito', 'page75>https://guide.michelin.com/en/abruzzo/civitella-casanova/restaurant/il-ritrovo-d-abruzzo', 'page75>https://guide.michelin.com/en/sicilia/catania/restaurant/me-cumpari-turiddu', 'page75>https://guide.michelin.com/en/lombardia/bergamo/restaurant/osteria-al-gigianca', 'page75>https://guide.michelin.com/en/emilia-romagna/bologna/restaurant/vicolo-colombina', 'page75>https://guide.michelin.com/en/calabria/bagnara-calabra/restaurant/taverna-kerkira', 'page75>https://guide.michelin.com/en/umbria/assisi/restaurant/benedikto', 'page75>https://guide.michelin.com/en/toscana/castelnuovo-berardenga/restaurant/poggio-rosso', 'page75>https://guide.michelin.com/en/abruzzo/civitella-del-tronto/restaurant/zunica-1880', 'page75>https://guide.michelin.com/en/emilia-romagna/coloreto/restaurant/la-maison-du-gourmet', 'page75>https://guide.michelin.com/en/sicilia/capri-leone/restaurant/antica-filanda', 'page75>https://guide.michelin.com/en/veneto/abano-terme/restaurant/aubergine123787', 'page75>https://guide.michelin.com/en/umbria/bevagna/restaurant/serpillo', 'page75>https://guide.michelin.com/en/emilia-romagna/anzola-dell-emilia/restaurant/il-ristorantino-da-dino', 'page75>https://guide.michelin.com/en/piemonte/cartosio/restaurant/cacciatori', 'page76>https://guide.michelin.com/en/abruzzo/carsoli/restaurant/l-angolo-d-abruzzo', 'page76>https://guide.michelin.com/en/lombardia/cavernago/restaurant/il-saraceno', 'page76>https://guide.michelin.com/en/veneto/venezia/restaurant/vero-venetian-roots', 'page76>https://guide.michelin.com/en/veneto/cortina-d-ampezzo/restaurant/alajmo-cortina', 'page76>https://guide.michelin.com/en/sicilia/castellammare-del-golfo/restaurant/mirko-s', 'page76>https://guide.michelin.com/en/toscana/castelnuovo-berardenga/restaurant/la-bottega-del-30', 'page76>https://guide.michelin.com/en/marche/civitanova-marche/restaurant/galileo', 'page76>https://guide.michelin.com/en/trentino-alto-adige/bolzano/restaurant/vogele', 'page76>https://guide.michelin.com/en/toscana/castel-del-piano/restaurant/antica-fattoria-del-grottaione', 'page76>https://guide.michelin.com/en/puglia/bari/restaurant/la-bul', 'page76>https://guide.michelin.com/en/campania/ariano-irpino/restaurant/la-pignata', 'page76>https://guide.michelin.com/en/toscana/san-quirico-d-orcia/restaurant/trattoria-toscana-al-vecchio-forno', 'page76>https://guide.michelin.com/en/veneto/cortina-d-ampezzo/restaurant/tivoli', 'page76>https://guide.michelin.com/en/piemonte/verbania/restaurant/caffe-delle-rose-bistrot', 'page76>https://guide.michelin.com/en/emilia-romagna/bologna/restaurant/i-carracci', 'page76>https://guide.michelin.com/en/lombardia/brusaporto/restaurant/da-vittorio', 'page76>https://guide.michelin.com/en/veneto/canale-d-agordo/restaurant/alle-codole', 'page76>https://guide.michelin.com/en/lombardia/bergamo/restaurant/al-carroponte', 'page76>https://guide.michelin.com/en/calabria/altomonte/restaurant/barbieri', 'page76>https://guide.michelin.com/en/piemonte/biella/restaurant/matteo-caffe-e-cucina', 'page77>https://guide.michelin.com/en/valle-d-aosta/aosta/restaurant/vecchio-ristoro', 'page77>https://guide.michelin.com/en/puglia/andria/restaurant/il-turacciolo', 'page77>https://guide.michelin.com/en/piemonte/canale/restaurant/villa-tiboldi', 'page77>https://guide.michelin.com/en/emilia-romagna/rottofreno/restaurant/trattoria-la-colonna', 'page77>https://guide.michelin.com/en/liguria/chiavari/restaurant/lord-nelson', 'page77>https://guide.michelin.com/en/toscana/firenze/restaurant/il-palagio', 'page77>https://guide.michelin.com/en/liguria/chiavari/restaurant/da-felice', 'page77>https://guide.michelin.com/en/lazio/trevinano/restaurant/la-parolina', 'page77>https://guide.michelin.com/en/veneto/borgoricco/restaurant/storie-d-amore', 'page77>https://guide.michelin.com/en/emilia-romagna/bagnolo-in-piano/restaurant/trattoria-da-probo', 'page77>https://guide.michelin.com/en/lombardia/bellinzago-lombardo/restaurant/macelleria-motta', 'page77>https://guide.michelin.com/en/lombardia/alm/restaurant/frosio', 'page77>https://guide.michelin.com/en/lombardia/clusone/restaurant/commercio-e-mas-ci', 'page77>https://guide.michelin.com/en/puglia/brindisi/restaurant/pantagruele', 'page77>https://guide.michelin.com/en/sicilia/chiaramonte-gulfi/restaurant/locanda-gulfi', 'page77>https://guide.michelin.com/en/piemonte/cervere/restaurant/antica-corona-reale', 'page77>https://guide.michelin.com/en/lombardia/brione/restaurant/la-madia175149', 'page77>https://guide.michelin.com/en/lombardia/collebeato_1805415/restaurant/carlo-magno', 'page77>https://guide.michelin.com/en/toscana/casanova-di-terricciola/restaurant/cannavacciuolo-vineyard', 'page77>https://guide.michelin.com/en/umbria/torgiano/restaurant/elementi', 'page78>https://guide.michelin.com/en/liguria/dolcedo/restaurant/equilibrio', 'page78>https://guide.michelin.com/en/emilia-romagna/vignola_1829383/restaurant/oblige', 'page78>https://guide.michelin.com/en/veneto/treviso/restaurant/pierre-trattoria-sartoriale', 'page78>https://guide.michelin.com/en/toscana/pontassieve/restaurant/podere-belvedere-tuscany', 'page78>https://guide.michelin.com/en/toscana/palaia/restaurant/antica-farmacia', 'page78>https://guide.michelin.com/en/abruzzo/montorio-al-vomano_1844769/restaurant/locanda-san-michele', 'page78>https://guide.michelin.com/en/lombardia/san-fermo-della-battaglia/restaurant/abitat', 'page78>https://guide.michelin.com/en/lombardia/brescia/restaurant/la-porta-antica', 'page78>https://guide.michelin.com/en/lazio/roma/restaurant/idylio-by-apreda', 'page78>https://guide.michelin.com/en/veneto/san-polo-di-piave/restaurant/parco-gambrinus', 'page78>https://guide.michelin.com/en/toscana/san-quirico-d-orcia/restaurant/taverna-da-ciacco', 'page78>https://guide.michelin.com/en/toscana/castiglione-della-pescaia/restaurant/osteria-del-mare-gia-il-votapentole', 'page78>https://guide.michelin.com/en/veneto/cavallino/restaurant/ai-do-campanili', 'page78>https://guide.michelin.com/en/veneto/albare-di-costermano/restaurant/osteria-dai-coghi', 'page78>https://guide.michelin.com/en/veneto/coriano-veronese/restaurant/locanda-dell-arcimboldo', 'page78>https://guide.michelin.com/en/liguria/albenga/restaurant/babette394187', 'page78>https://guide.michelin.com/en/sardegna/arzachena/restaurant/lu-pisantinu', 'page78>https://guide.michelin.com/en/toscana/semproniano/restaurant/agriturismo-il-cavallino', 'page78>https://guide.michelin.com/en/trentino-alto-adige/bolzano/restaurant/zur-kaiserkron', 'page78>https://guide.michelin.com/en/puglia/foggia/restaurant/la-kucina', 'page79>https://guide.michelin.com/en/campania/napoli/restaurant/aria-1197785', 'page79>https://guide.michelin.com/en/veneto/treviso/restaurant/feria', 'page79>https://guide.michelin.com/en/emilia-romagna/modena/restaurant/osteria-francescana', 'page79>https://guide.michelin.com/en/sardegna/san-teodoro/restaurant/gusto-by-sadler', 'page79>https://guide.michelin.com/en/valle-d-aosta/cogne/restaurant/coeur-de-bois', 'page79>https://guide.michelin.com/en/emilia-romagna/san-piero-in-bagno/restaurant/da-gorini', 'page79>https://guide.michelin.com/en/campania/napoli/restaurant/michelasso', 'page79>https://guide.michelin.com/en/trentino-alto-adige/bressanone/restaurant/apostelstube', 'page79>https://guide.michelin.com/en/trentino-alto-adige/pinzolo/restaurant/grual', 'page79>https://guide.michelin.com/en/veneto/marano-di-valpolicella_1817125/restaurant/locanda-di-nonna-ida', 'page79>https://guide.michelin.com/en/lombardia/cologne/restaurant/cappuccini-cucina-san-francesco', 'page79>https://guide.michelin.com/en/emilia-romagna/codigoro/restaurant/la-zanzara', 'page79>https://guide.michelin.com/en/lombardia/carona/restaurant/locanda-dei-cantu', 'page79>https://guide.michelin.com/en/emilia-romagna/bologna/restaurant/oltre', 'page79>https://guide.michelin.com/en/toscana/volterra/restaurant/villa-pignano', 'page79>https://guide.michelin.com/en/veneto/dosson/restaurant/alla-pasina', 'page79>https://guide.michelin.com/en/lombardia/milano/restaurant/mater-bistrot', 'page79>https://guide.michelin.com/en/emilia-romagna/soragna/restaurant/locanda-stella-d-oro', 'page79>https://guide.michelin.com/en/sardegna/cagliari/restaurant/cucina-eat', 'page79>https://guide.michelin.com/en/veneto/venezia/restaurant/local', 'page80>https://guide.michelin.com/en/toscana/arezzo/restaurant/octavin', 'page80>https://guide.michelin.com/en/campania/bacoli/restaurant/caracol', 'page80>https://guide.michelin.com/en/piemonte/alba/restaurant/osteria-dell-arco', 'page80>https://guide.michelin.com/en/liguria/la-spezia/restaurant/andree', 'page80>https://guide.michelin.com/en/piemonte/novara/restaurant/tre-scalini', 'page80>https://guide.michelin.com/en/umbria/castiglione-del-lago/restaurant/l-acquario', 'page80>https://guide.michelin.com/en/umbria/umbertide/restaurant/san-giorgio1077324', 'page80>https://guide.michelin.com/en/lombardia/milano/restaurant/le-nove-scodelle', 'page80>https://guide.michelin.com/en/lombardia/oltressenda-alta/restaurant/contrada-bricconi', 'page80>https://guide.michelin.com/en/lombardia/offanengo/restaurant/la-locanda-di-fabio-e-vale', 'page80>https://guide.michelin.com/en/campania/paestum/restaurant/casa-coloni', 'page80>https://guide.michelin.com/en/lombardia/santa-maria-della-versa/restaurant/ad-astra', 'page80>https://guide.michelin.com/en/campania/sorrento/restaurant/zest-1212030', 'page80>https://guide.michelin.com/en/lombardia/pralboino/restaurant/leon-d-oro146788', 'page80>https://guide.michelin.com/en/piemonte/torino/restaurant/azotea', 'page80>https://guide.michelin.com/en/abruzzo/pescara/restaurant/nole', 'page80>https://guide.michelin.com/en/emilia-romagna/modena/restaurant/al-gatto-verde', 'page80>https://guide.michelin.com/en/campania/capri/restaurant/terrazza-tiberio', 'page80>https://guide.michelin.com/en/toscana/capolona/restaurant/terramira', 'page80>https://guide.michelin.com/en/emilia-romagna/podenzano/restaurant/l-ostreria-fratelli-pavesi', 'page81>https://guide.michelin.com/en/liguria/portofino/restaurant/cracco-portofino', 'page81>https://guide.michelin.com/en/trentino-alto-adige/corvara-in-badia/restaurant/kelina-fine-dine', 'page81>https://guide.michelin.com/en/trentino-alto-adige/selva-di-val-gardena/restaurant/chalet-gerard', 'page81>https://guide.michelin.com/en/toscana/montepulciano/restaurant/osmosi', 'page81>https://guide.michelin.com/en/liguria/dolcedo/restaurant/casa-della-rocca', 'page81>https://guide.michelin.com/en/valle-d-aosta/aosta/restaurant/paolo-griffa-al-caffe-nazionale', 'page81>https://guide.michelin.com/en/lombardia/milano/restaurant/pellico-3', 'page81>https://guide.michelin.com/en/puglia/ostuni/restaurant/masseria-moroseta', 'page81>https://guide.michelin.com/en/sardegna/pula/restaurant/fradis-minoris', 'page81>https://guide.michelin.com/en/sardegna/arborea/restaurant/trattoria-margherita', 'page81>https://guide.michelin.com/en/sardegna/porto-cervo/restaurant/belvedere-1203863', 'page81>https://guide.michelin.com/en/sardegna/santa-teresa-gallura/restaurant/millo-ristorante', 'page81>https://guide.michelin.com/en/lombardia/cornaredo/restaurant/olmo', 'page81>https://guide.michelin.com/en/sardegna/cagliari/restaurant/amano-1211513', 'page81>https://guide.michelin.com/en/abruzzo/torano-nuovo_1847049/restaurant/osteria-dei-maltagliati', 'page81>https://guide.michelin.com/en/valle-d-aosta/courmayeur/restaurant/le-bistrot-321392', 'page81>https://guide.michelin.com/en/veneto/padova/restaurant/ai-porteghi-bistrot', 'page81>https://guide.michelin.com/en/veneto/colognola-ai-colli_1814479/restaurant/stilla', 'page81>https://guide.michelin.com/en/trentino-alto-adige/san-cassiano/restaurant/cocun-cellar-restaurant', 'page81>https://guide.michelin.com/en/lazio/ariccia/restaurant/sintesi', 'page82>https://guide.michelin.com/en/lazio/genazzano/restaurant/aminta-resort', 'page82>https://guide.michelin.com/en/veneto/venezia/restaurant/glam-enrico-bartolini', 'page82>https://guide.michelin.com/en/marche/offida/restaurant/osteria-ophis', 'page82>https://guide.michelin.com/en/campania/maiori/restaurant/oltremare', 'page82>https://guide.michelin.com/en/lombardia/milano/restaurant/remulass', 'page82>https://guide.michelin.com/en/lombardia/milano/restaurant/andrea-aprea', 'page82>https://guide.michelin.com/en/puglia/fasano_1851814/restaurant/pentole-e-provette', 'page82>https://guide.michelin.com/en/toscana/fosdinovo/restaurant/locanda-dei-banchieri', 'page82>https://guide.michelin.com/en/campania/napoli/restaurant/urubamba-1199094', 'page82>https://guide.michelin.com/en/liguria/framura_1795556/restaurant/l-agave', 'page82>https://guide.michelin.com/en/piemonte/torino/restaurant/san-tommaso-10', 'page82>https://guide.michelin.com/en/puglia/ugento/restaurant/il-tempo-nuovo', 'page82>https://guide.michelin.com/en/veneto/venezia/restaurant/zanze-xvi', 'page82>https://guide.michelin.com/en/sicilia/noto/restaurant/principe-di-belludia', 'page82>https://guide.michelin.com/en/abruzzo/pescara/restaurant/soms', 'page82>https://guide.michelin.com/en/lombardia/caravaggio/restaurant/cut-ristorante', 'page82>https://guide.michelin.com/en/calabria/strongoli/restaurant/dattilo', 'page82>https://guide.michelin.com/en/lombardia/montichiari/restaurant/maragoncello', 'page82>https://guide.michelin.com/en/calabria/san-giovanni-in-fiore/restaurant/hyle', 'page82>https://guide.michelin.com/en/marche/civitanova-marche/restaurant/anastasia-1199091', 'page83>https://guide.michelin.com/en/sicilia/cefal/restaurant/qualia', 'page83>https://guide.michelin.com/en/toscana/marina-di-campo/restaurant/al-moro', 'page83>https://guide.michelin.com/en/umbria/capodacqua/restaurant/une', 'page83>https://guide.michelin.com/en/lazio/tivoli/restaurant/li-somari', 'page83>https://guide.michelin.com/en/sicilia/cefal/restaurant/cala-luna', 'page83>https://guide.michelin.com/en/veneto/venezia/restaurant/antiche-carampane', 'page83>https://guide.michelin.com/en/veneto/venezia/restaurant/wisteria', 'page83>https://guide.michelin.com/en/sicilia/catania/restaurant/coria', 'page83>https://guide.michelin.com/en/sardegna/baia-sardinia/restaurant/phi-restaurant-giancarlo-morelli', 'page83>https://guide.michelin.com/en/lombardia/brescia/restaurant/lanzani-bottega-bistrot', 'page83>https://guide.michelin.com/en/lazio/acuto/restaurant/colline-ciociare', 'page83>https://guide.michelin.com/en/marche/portonovo/restaurant/clandestino-susci-bar', 'page83>https://guide.michelin.com/en/veneto/belluno/restaurant/al-borgo126456', 'page83>https://guide.michelin.com/en/liguria/arma-di-taggia/restaurant/la-conchiglia', 'page83>https://guide.michelin.com/en/valle-d-aosta/cogne/restaurant/le-petit-restaurant', 'page83>https://guide.michelin.com/en/valle-d-aosta/it-breuil-cervinia/restaurant/wood460913', 'page83>https://guide.michelin.com/en/trentino-alto-adige/chienes/restaurant/gassenwirt', 'page83>https://guide.michelin.com/en/piemonte/castiglione-falletto/restaurant/l-argaj', 'page83>https://guide.michelin.com/en/lombardia/concesio/restaurant/miramonti-l-altro', 'page83>https://guide.michelin.com/en/trentino-alto-adige/bressanone/restaurant/oste-scuro-finsterwirt', 'page84>https://guide.michelin.com/en/piemonte/caluso/restaurant/gardenia', 'page84>https://guide.michelin.com/en/lombardia/appiano-gentile/restaurant/ll-portico', 'page84>https://guide.michelin.com/en/marche/cagli/restaurant/la-gioconda', 'page84>https://guide.michelin.com/en/lombardia/sesto-san-giovanni/restaurant/85-bistrot', 'page84>https://guide.michelin.com/en/lazio/roma/restaurant/acquolina', 'page84>https://guide.michelin.com/en/piemonte/montrigiasco/restaurant/strattoria', 'page84>https://guide.michelin.com/en/piemonte/cherasco/restaurant/osteria-la-torre', 'page84>https://guide.michelin.com/en/lombardia/milano/restaurant/bele', 'page84>https://guide.michelin.com/en/calabria/isola-di-capo-rizzuto/restaurant/pietramare-natural-food', 'page84>https://guide.michelin.com/en/lombardia/montichiari/restaurant/dal-dosso-salamensa', 'page84>https://guide.michelin.com/en/valle-d-aosta/morgex/restaurant/cafe-quinson', 'page84>https://guide.michelin.com/en/piemonte/stresa/restaurant/la-botte-1198676', 'page84>https://guide.michelin.com/en/piemonte/monforte-d-alba/restaurant/gennaro-di-pace', 'page84>https://guide.michelin.com/en/emilia-romagna/castrocaro-terme/restaurant/essentia', 'page84>https://guide.michelin.com/en/emilia-romagna/savigno/restaurant/trattoria-da-amerigo', 'page84>https://guide.michelin.com/en/toscana/san-gimignano/restaurant/san-martino-26', 'page84>https://guide.michelin.com/en/toscana/torre-del-lago-puccini/restaurant/da-cecco', 'page84>https://guide.michelin.com/en/umbria/civitella-del-lago/restaurant/trippini', 'page84>https://guide.michelin.com/en/toscana/bientina/restaurant/osteria-taviani', 'page84>https://guide.michelin.com/en/umbria/cannara/restaurant/perbacco-vini-e-cucina', 'page85>https://guide.michelin.com/en/lombardia/brescia/restaurant/il-labirinto', 'page85>https://guide.michelin.com/en/valle-d-aosta/cogne/restaurant/lou-ressignon', 'page85>https://guide.michelin.com/en/toscana/san-casciano-dei-bagni/restaurant/daniela', 'page85>https://guide.michelin.com/en/lombardia/brescia/restaurant/trattoria-porteri', 'page85>https://guide.michelin.com/en/trentino-alto-adige/cavalese/restaurant/el-molin', 'page85>https://guide.michelin.com/en/emilia-romagna/salsomaggiore-terme/restaurant/l-osteria-del-castellazzo', 'page85>https://guide.michelin.com/en/liguria/montemarcello/restaurant/pescarino-sapori-di-terra-e-di-mare', 'page85>https://guide.michelin.com/en/basilicata/castelmezzano/restaurant/al-becco-della-civetta', 'page85>https://guide.michelin.com/en/piemonte/cavatore/restaurant/da-fausto', 'page85>https://guide.michelin.com/en/emilia-romagna/casalgrande/restaurant/badessa', 'page85>https://guide.michelin.com/en/lombardia/runate/restaurant/dal-pescatore', 'page85>https://guide.michelin.com/en/friuli-venezia-giulia/cavazzo-carnico/restaurant/borgo-poscolle', 'page85>https://guide.michelin.com/en/emilia-romagna/bologna/restaurant/la-porta-restaurant', 'page85>https://guide.michelin.com/en/veneto/bardolino/restaurant/la-veranda160871', 'page85>https://guide.michelin.com/en/trentino-alto-adige/bolzano/restaurant/loewengrube', 'page85>https://guide.michelin.com/en/lazio/roma/restaurant/retrobottega', 'page85>https://guide.michelin.com/en/puglia/carovigno/restaurant/gia-sotto-l-arco', 'page85>https://guide.michelin.com/en/toscana/arezzo/restaurant/saffron252973', 'page85>https://guide.michelin.com/en/veneto/asolo/restaurant/la-terrazza160806', 'page85>https://guide.michelin.com/en/umbria/assisi/restaurant/la-locanda-del-cardinale', 'page86>https://guide.michelin.com/en/piemonte/montrigiasco/restaurant/castagneto', 'page86>https://guide.michelin.com/en/lazio/aprilia/restaurant/il-focarile', 'page86>https://guide.michelin.com/en/piemonte/badia-di-dulzago/restaurant/osteria-san-giulio', 'page86>https://guide.michelin.com/en/piemonte/spinetta-marengo/restaurant/la-fermata', 'page86>https://guide.michelin.com/en/campania/afragola_1847764/restaurant/john-restaurant-casamadre', 'page86>https://guide.michelin.com/en/piemonte/chieri/restaurant/cascina-lautier', 'page86>https://guide.michelin.com/en/lombardia/capriate-san-gervasio/restaurant/kanton-restaurant', 'page86>https://guide.michelin.com/en/campania/napoli/restaurant/januarius', 'page86>https://guide.michelin.com/en/emilia-romagna/torrechiara/restaurant/taverna-del-castello', 'page86>https://guide.michelin.com/en/piemonte/torino/restaurant/piano-35', 'page86>https://guide.michelin.com/en/marche/ancona/restaurant/sot-ajarchi', 'page86>https://guide.michelin.com/en/campania/amalfi/restaurant/marina-grande', 'page86>https://guide.michelin.com/en/veneto/arcugnano/restaurant/antica-osteria-da-penacio', 'page86>https://guide.michelin.com/en/friuli-venezia-giulia/cormons/restaurant/trattoria-al-cacciatore-della-subida', 'page86>https://guide.michelin.com/en/piemonte/barbaresco/restaurant/antine', 'page86>https://guide.michelin.com/en/calabria/acri/restaurant/il-carpaccio', 'page86>https://guide.michelin.com/en/veneto/barbarano-vicentino/restaurant/aqua-crua', 'page86>https://guide.michelin.com/en/lombardia/como/restaurant/feel', 'page86>https://guide.michelin.com/en/toscana/bettolle/restaurant/walter-redaelli', 'page86>https://guide.michelin.com/en/sardegna/alghero/restaurant/il-pavone', 'page87>https://guide.michelin.com/en/piemonte/capriata-d-orba/restaurant/il-moro', 'page87>https://guide.michelin.com/en/lombardia/cornaredo/restaurant/d-o', 'page87>https://guide.michelin.com/en/toscana/siena/restaurant/osteria-le-logge', 'page87>https://guide.michelin.com/en/emilia-romagna/milano-marittima/restaurant/osteria-del-gran-fritto334900', 'page87>https://guide.michelin.com/en/veneto/arzignano/restaurant/damini-macelleria-affini', 'page87>https://guide.michelin.com/en/lombardia/alzano-lombardo/restaurant/ristofante', 'page87>https://guide.michelin.com/en/piemonte/canale/restaurant/all-enoteca', 'page87>https://guide.michelin.com/en/sardegna/cagliari/restaurant/sarti-del-gusto', 'page87>https://guide.michelin.com/en/veneto/arabba/restaurant/stube-ladina', 'page87>https://guide.michelin.com/en/lombardia/cicognolo/restaurant/osteria-de-l-umbreleer', 'page87>https://guide.michelin.com/en/basilicata/rotonda/restaurant/da-peppe', 'page87>https://guide.michelin.com/en/piemonte/casale-monferrato/restaurant/accademia-ristorante', 'page87>https://guide.michelin.com/en/piemonte/alba/restaurant/ventuno-1', 'page87>https://guide.michelin.com/en/emilia-romagna/diolo/restaurant/osteria-ardenga', 'page87>https://guide.michelin.com/en/lombardia/bergamo/restaurant/roof-garden', 'page87>https://guide.michelin.com/en/lombardia/bodio/restaurant/villa-baroni', 'page87>https://guide.michelin.com/en/umbria/baschi/restaurant/casa-vissani', 'page87>https://guide.michelin.com/en/veneto/bardolino/restaurant/il-giardino-delle-esperidi', 'page87>https://guide.michelin.com/en/veneto/adria/restaurant/molteni', 'page87>https://guide.michelin.com/en/lazio/roma/restaurant/trattoria-pennestri', 'page88>https://guide.michelin.com/en/liguria/borgio-verezzi/restaurant/doc', 'page88>https://guide.michelin.com/en/piemonte/cavagli/restaurant/osteria-dell-oca-bianca', 'page88>https://guide.michelin.com/en/sicilia/catania/restaurant/sapio', 'page88>https://guide.michelin.com/en/campania/napoli/restaurant/essencia-restaurant', 'page88>https://guide.michelin.com/en/toscana/cortona/restaurant/locanda-del-molino', 'page88>https://guide.michelin.com/en/emilia-romagna/cesenatico/restaurant/mare', 'page88>https://guide.michelin.com/en/lombardia/torno/restaurant/il-sereno-al-lago', 'page88>https://guide.michelin.com/en/friuli-venezia-giulia/raveo/restaurant/indinio', 'page88>https://guide.michelin.com/en/emilia-romagna/sasso-marconi/restaurant/casa-mazzucchelli', 'page88>https://guide.michelin.com/en/emilia-romagna/bagno-di-romagna/restaurant/del-lago', 'page88>https://guide.michelin.com/en/campania/anacapri/restaurant/l-olivo', 'page88>https://guide.michelin.com/en/lombardia/isola-dovarese/restaurant/caffe-la-crepa', 'page88>https://guide.michelin.com/en/veneto/verona/restaurant/la-canonica-1186584', 'page88>https://guide.michelin.com/en/umbria/brufa/restaurant/quattro-sensi', 'page88>https://guide.michelin.com/en/puglia/altamura/restaurant/calvi-ristorante', 'page88>https://guide.michelin.com/en/piemonte/alba/restaurant/hostaria-dai-musi', 'page88>https://guide.michelin.com/en/veneto/noventa-padovana_1818158/restaurant/opificio', 'page88>https://guide.michelin.com/en/sicilia/taormina/restaurant/principe-cerami', 'page88>https://guide.michelin.com/en/umbria/corciano_1835233/restaurant/osteria-del-posto', 'page88>https://guide.michelin.com/en/piemonte/alba/restaurant/enoclub', 'page89>https://guide.michelin.com/en/sicilia/cefal/restaurant/locanda-del-marinaio', 'page89>https://guide.michelin.com/en/lombardia/cernobbio/restaurant/la-veranda161442', 'page89>https://guide.michelin.com/en/piemonte/cerretto-langhe/restaurant/trattoria-del-bivio', 'page89>https://guide.michelin.com/en/veneto/costermano/restaurant/la-casa-degli-spiriti', 'page89>https://guide.michelin.com/en/liguria/alassio/restaurant/nove', 'page89>https://guide.michelin.com/en/toscana/chiusi/restaurant/i-salotti', 'page89>https://guide.michelin.com/en/toscana/cecina/restaurant/il-doretto', 'page89>https://guide.michelin.com/en/emilia-romagna/cesenatico/restaurant/osteria-del-gran-fritto', 'page89>https://guide.michelin.com/en/trentino-alto-adige/anterivo/restaurant/kurbishof', 'page89>https://guide.michelin.com/en/lombardia/bracca/restaurant/dentella', 'page89>https://guide.michelin.com/en/sicilia/aci-castello_1853985/restaurant/faraglioni-restaurant', 'page89>https://guide.michelin.com/en/lombardia/corte-de-cortesi/restaurant/il-gabbiano', 'page89>https://guide.michelin.com/en/emilia-romagna/bologna/restaurant/all-osteria-bottega', 'page89>https://guide.michelin.com/en/lombardia/lomazzo/restaurant/trattoria-contemporanea', 'page89>https://guide.michelin.com/en/lombardia/milano/restaurant/tano-passami-l-olio-1184698', 'page89>https://guide.michelin.com/en/lombardia/saronno_1809624/restaurant/sui-generis', 'page89>https://guide.michelin.com/en/sardegna/san-pantaleo/restaurant/il-fuoco-sacro', 'page89>https://guide.michelin.com/en/emilia-romagna/sala-bolognese/restaurant/ensama-pesce', 'page89>https://guide.michelin.com/en/toscana/monteriggioni/restaurant/futura-osteria', 'page89>https://guide.michelin.com/en/puglia/ostuni/restaurant/700', 'page90>https://guide.michelin.com/en/veneto/monfumo/restaurant/osteria-alla-chiesa', 'page90>https://guide.michelin.com/en/lombardia/milano/restaurant/uovodiseppia-milano', 'page90>https://guide.michelin.com/en/abruzzo/l-aquila/restaurant/forma-contemporary-restaurant', 'page90>https://guide.michelin.com/en/toscana/siena/restaurant/campo-cedro', 'page90>https://guide.michelin.com/en/toscana/cortona/restaurant/enoteca-meucci', 'page90>https://guide.michelin.com/en/piemonte/castagnole-piemonte_1793747/restaurant/granoturco-bistrot', 'page90>https://guide.michelin.com/en/lombardia/robbio_1808920/restaurant/anto-e-robi', 'page90>https://guide.michelin.com/en/marche/numana/restaurant/casa-rapisarda', 'page90>https://guide.michelin.com/en/toscana/castelnuovo-berardenga/restaurant/contrada', 'page90>https://guide.michelin.com/en/puglia/monopoli/restaurant/radimare', 'page90>https://guide.michelin.com/en/lombardia/albavilla/restaurant/il-cantuccio', 'page90>https://guide.michelin.com/en/emilia-romagna/borgonovo-val-tidone/restaurant/la-palta', 'page90>https://guide.michelin.com/en/veneto/verona/restaurant/la-loggia-bistro', 'page90>https://guide.michelin.com/en/lombardia/mantova/restaurant/sucar-brusc', 'page90>https://guide.michelin.com/en/piemonte/cuneo/restaurant/i-5-sensi', 'page90>https://guide.michelin.com/en/emilia-romagna/bologna/restaurant/ahime', 'page90>https://guide.michelin.com/en/sardegna/cagliari/restaurant/da-marino-al-st-remy', 'page90>https://guide.michelin.com/en/toscana/san-martino/restaurant/il-falconiere', 'page90>https://guide.michelin.com/en/piemonte/monforte-d-alba/restaurant/repubblica-di-perno', 'page90>https://guide.michelin.com/en/marche/sirolo/restaurant/lofficina', 'page91>https://guide.michelin.com/en/marche/torre-di-palme/restaurant/villa-lattanzi', 'page91>https://guide.michelin.com/en/piemonte/novara/restaurant/la-rima', 'page91>https://guide.michelin.com/en/sardegna/porto-cervo/restaurant/frades-la-terrazza', 'page91>https://guide.michelin.com/en/campania/salerno/restaurant/pescheria', 'page91>https://guide.michelin.com/en/marche/numana/restaurant/riva-1211834', 'page91>https://guide.michelin.com/en/lazio/roma/restaurant/dogma', 'page91>https://guide.michelin.com/en/veneto/verona/restaurant/il-desco', 'page91>https://guide.michelin.com/en/piemonte/carru/restaurant/vascello-d-oro', 'page91>https://guide.michelin.com/en/lazio/roma/restaurant/romane', 'page91>https://guide.michelin.com/en/sicilia/trapani/restaurant/osteria-il-moro', 'page91>https://guide.michelin.com/en/trentino-alto-adige/drena_1815200/restaurant/la-casina', 'page91>https://guide.michelin.com/en/trentino-alto-adige/moena/restaurant/inalto-alfio-ghezzi-dolomites', 'page91>https://guide.michelin.com/en/veneto/venezia/restaurant/hostaria-da-franz', 'page91>https://guide.michelin.com/en/veneto/quero/restaurant/locanda-solagna', 'page91>https://guide.michelin.com/en/lombardia/pieve-san-giacomo/restaurant/osteria-del-miglio-2-10', 'page91>https://guide.michelin.com/en/lazio/terracina/restaurant/locanda-altobelli', 'page91>https://guide.michelin.com/en/liguria/laigueglia/restaurant/savo', 'page91>https://guide.michelin.com/en/umbria/gualdo-cattaneo_1836295/restaurant/il-grottino-1204740', 'page91>https://guide.michelin.com/en/sicilia/terrasini/restaurant/il-bavaglino-1206991', 'page91>https://guide.michelin.com/en/veneto/venezia/restaurant/osteria-da-fiore', 'page92>https://guide.michelin.com/en/trentino-alto-adige/castel-toblino/restaurant/castel-toblino', 'page92>https://guide.michelin.com/en/puglia/cerignola/restaurant/u-vulesce', 'page92>https://guide.michelin.com/en/piemonte/caltignaga/restaurant/cravero', 'page92>https://guide.michelin.com/en/molise/campobasso/restaurant/miseria-e-nobilta', 'page92>https://guide.michelin.com/en/marche/ancona/restaurant/ginevra', 'page92>https://guide.michelin.com/en/emilia-romagna/bologna/restaurant/osteria-bartolini', 'page92>https://guide.michelin.com/en/veneto/cortina-d-ampezzo/restaurant/al-camin', 'page92>https://guide.michelin.com/en/piemonte/busca/restaurant/san-quintino-resort', 'page92>https://guide.michelin.com/en/puglia/montegrosso/restaurant/antichi-sapori', 'page92>https://guide.michelin.com/en/lombardia/chiesa-in-valmalenco/restaurant/malenco', 'page92>https://guide.michelin.com/en/lazio/cassino/restaurant/evan-s', 'page92>https://guide.michelin.com/en/sicilia/bagheria/restaurant/i-pupi', 'page92>https://guide.michelin.com/en/sardegna/cagliari/restaurant/luigi-pomata', 'page92>https://guide.michelin.com/en/marche/ascoli-piceno/restaurant/caffe-meletti', 'page92>https://guide.michelin.com/en/lombardia/calvisano/restaurant/al-gambero', 'page92>https://guide.michelin.com/en/toscana/anghiari/restaurant/da-alighiero', 'page92>https://guide.michelin.com/en/emilia-romagna/piacenza/restaurant/io-luigi-taglienti', 'page92>https://guide.michelin.com/en/lazio/tarquinia/restaurant/namo-ristobottega', 'page92>https://guide.michelin.com/en/emilia-romagna/fabbrico_1825434/restaurant/claudio-ristorante', 'page92>https://guide.michelin.com/en/toscana/sassetta/restaurant/la-cerreta-osteria', 'page93>https://guide.michelin.com/en/piemonte/toceno_1801599/restaurant/le-vie-del-borgo', 'page93>https://guide.michelin.com/en/toscana/moggiona/restaurant/mater', 'page93>https://guide.michelin.com/en/valle-d-aosta/saint-christophe_1799976/restaurant/l-atelier-26', 'page93>https://guide.michelin.com/en/emilia-romagna/milano-marittima/restaurant/terrazza-bartolini', 'page93>https://guide.michelin.com/en/lombardia/villa-d-alm/restaurant/tenuta-casa-virginia', 'page93>https://guide.michelin.com/en/friuli-venezia-giulia/frisanco_1815770/restaurant/osteria-da-cippi', 'page93>https://guide.michelin.com/en/puglia/carovigno/restaurant/dissapore-di-andrea-catalano', 'page93>https://guide.michelin.com/en/campania/anacapri/restaurant/il-riccio', 'page93>https://guide.michelin.com/en/piemonte/castelletto-sopra-ticino/restaurant/rosso-di-sera', 'page93>https://guide.michelin.com/en/emilia-romagna/ravenna/restaurant/osteria-del-tempo-perso', 'page93>https://guide.michelin.com/en/trentino-alto-adige/bolzano/restaurant/laurin', 'page93>https://guide.michelin.com/en/emilia-romagna/bologna/restaurant/posta', 'page93>https://guide.michelin.com/en/lombardia/bergamo/restaurant/lio-pellegrini', 'page93>https://guide.michelin.com/en/piemonte/biella/restaurant/regallo', 'page93>https://guide.michelin.com/en/piemonte/alba/restaurant/locanda-del-pilone', 'page93>https://guide.michelin.com/en/trentino-alto-adige/corvara-in-badia/restaurant/rifugio-col-alt', 'page93>https://guide.michelin.com/en/veneto/bassano-del-grappa/restaurant/ca-7', 'page93>https://guide.michelin.com/en/valle-d-aosta/brusson/restaurant/laghetto', 'page93>https://guide.michelin.com/en/umbria/citt-della-pieve/restaurant/zafferano-161583', 'page93>https://guide.michelin.com/en/lombardia/brescia/restaurant/castello-malvezzi', 'page94>https://guide.michelin.com/en/toscana/siena/restaurant/particolare-di-siena', 'page94>https://guide.michelin.com/en/veneto/cortina-d-ampezzo/restaurant/baita-fraina', 'page94>https://guide.michelin.com/en/lombardia/busto-arsizio/restaurant/i-5-campanili', 'page94>https://guide.michelin.com/en/emilia-romagna/campogalliano/restaurant/magnagallo', 'page94>https://guide.michelin.com/en/trentino-alto-adige/bressanone/restaurant/vitis', 'page94>https://guide.michelin.com/en/valle-d-aosta/aosta/restaurant/osteria-da-nando', 'page94>https://guide.michelin.com/en/trentino-alto-adige/bressanone/restaurant/elefante', 'page94>https://guide.michelin.com/en/campania/atrani/restaurant/a-paranza', 'page94>https://guide.michelin.com/en/molise/campobasso/restaurant/aciniello', 'page94>https://guide.michelin.com/en/lombardia/bergamo/restaurant/baretto-di-san-vigilio', 'page94>https://guide.michelin.com/en/emilia-romagna/ravenna/restaurant/l-acciuga', 'page94>https://guide.michelin.com/en/puglia/conversano/restaurant/pasha', 'page94>https://guide.michelin.com/en/sicilia/agrigento/restaurant/osteria-expanificio', 'page94>https://guide.michelin.com/en/toscana/bolgheri/restaurant/osteria-magona', 'page94>https://guide.michelin.com/en/calabria/rende/restaurant/agora', 'page94>https://guide.michelin.com/en/emilia-romagna/longiano/restaurant/magnolia', 'page94>https://guide.michelin.com/en/abruzzo/caramanico-terme/restaurant/locanda-del-barone', 'page94>https://guide.michelin.com/en/toscana/arezzo/restaurant/le-chiavi-d-oro', 'page94>https://guide.michelin.com/en/lombardia/torbiato/restaurant/dispensa-pani-e-vini-franciacorta', 'page94>https://guide.michelin.com/en/lombardia/adrara-san-martino/restaurant/ai-burattini', 'page95>https://guide.michelin.com/en/lombardia/calvisano/restaurant/fiamma-cremisi', 'page95>https://guide.michelin.com/en/piemonte/briaglia/restaurant/marsupino', 'page95>https://guide.michelin.com/en/trentino-alto-adige/corvara-in-badia/restaurant/ladinia', 'page95>https://guide.michelin.com/en/toscana/san-donato-in-poggio/restaurant/la-locanda-di-pietracupa', 'page95>https://guide.michelin.com/en/toscana/chiusdino/restaurant/saporium', 'page95>https://guide.michelin.com/en/campania/castellammare-di-stabia/restaurant/piazzetta-milu', 'page95>https://guide.michelin.com/en/emilia-romagna/calestano/restaurant/locanda-mariella', 'page95>https://guide.michelin.com/en/piemonte/alba/restaurant/piazza-duomo', 'page95>https://guide.michelin.com/en/trentino-alto-adige/brez/restaurant/locanda-alpina', 'page95>https://guide.michelin.com/en/veneto/castelfranco-veneto/restaurant/feva', 'page95>https://guide.michelin.com/en/trentino-alto-adige/corvara-in-badia/restaurant/la-stua-de-michil', 'page95>https://guide.michelin.com/en/toscana/san-gimignano/restaurant/da-pode', 'page95>https://guide.michelin.com/en/lombardia/brescia/restaurant/trattoria-rigoletto', 'page95>https://guide.michelin.com/en/lazio/castel-gandolfo/restaurant/antico-ristorante-pagnanelli', 'page95>https://guide.michelin.com/en/lombardia/brescia/restaurant/la-sosta', 'page95>https://guide.michelin.com/en/piemonte/canelli/restaurant/enoteca-di-canelli', 'page95>https://guide.michelin.com/en/piemonte/candia-canavese/restaurant/residenza-del-lago', 'page95>https://guide.michelin.com/en/veneto/caldogno/restaurant/molin-vecio', 'page95>https://guide.michelin.com/en/piemonte/bra/restaurant/battaglino', 'page95>https://guide.michelin.com/en/veneto/chioggia/restaurant/el-gato', 'page96>https://guide.michelin.com/en/sicilia/castelbuono/restaurant/palazzaccio', 'page96>https://guide.michelin.com/en/lazio/gaeta/restaurant/dolia-gaeta', 'page96>https://guide.michelin.com/en/liguria/bordighera/restaurant/romolo-mare', 'page96>https://guide.michelin.com/en/toscana/viareggio/restaurant/da-miro-alla-lanterna', 'page96>https://guide.michelin.com/en/piemonte/bra/restaurant/boccondivino', 'page96>https://guide.michelin.com/en/liguria/albenga/restaurant/pernambucco', 'page96>https://guide.michelin.com/en/liguria/alassio/restaurant/lamberti', 'page96>https://guide.michelin.com/en/lombardia/almenno-san-bartolomeo/restaurant/collina', 'page96>https://guide.michelin.com/en/piemonte/spinetta-marengo/restaurant/le-cicale', 'page96>https://guide.michelin.com/en/lombardia/bellagio/restaurant/mistral126374', 'page96>https://guide.michelin.com/en/veneto/asiago/restaurant/stube-gourmet', 'page96>https://guide.michelin.com/en/liguria/bordighera/restaurant/magiarge-osteria-contemporanea', 'page96>https://guide.michelin.com/en/veneto/castelletto-di-brenzone/restaurant/alla-fassa', 'page96>https://guide.michelin.com/en/emilia-romagna/sala-baganza/restaurant/i-pifferi', 'page96>https://guide.michelin.com/en/lombardia/borgonato/restaurant/due-colombe', 'page96>https://guide.michelin.com/en/lazio/fiumicino/restaurant/il-tino', 'page96>https://guide.michelin.com/en/emilia-romagna/carpaneto-piacentino/restaurant/nido-del-picchio', 'page96>https://guide.michelin.com/en/piemonte/borgomanero/restaurant/pinocchio', 'page96>https://guide.michelin.com/en/piemonte/borghetto-di-borbera/restaurant/il-fiorile', 'page96>https://guide.michelin.com/en/liguria/pieve-ligure_1798688/restaurant/ortica', 'page97>https://guide.michelin.com/en/sicilia/taormina/restaurant/blum-1208129', 'page97>https://guide.michelin.com/en/campania/caserta/restaurant/antica-locanda', 'page97>https://guide.michelin.com/en/trentino-alto-adige/cermes/restaurant/miil', 'page97>https://guide.michelin.com/en/veneto/brenzone-sul-garda_1812115/restaurant/nin', 'page97>https://guide.michelin.com/en/lombardia/milano/restaurant/frades-porto-cervo', 'page97>https://guide.michelin.com/en/piemonte/bra/restaurant/osteria-la-pimpinella', 'page97>https://guide.michelin.com/en/piemonte/moretta_1797713/restaurant/villa-salina', 'page97>https://guide.michelin.com/en/liguria/castelbianco/restaurant/scola', 'page97>https://guide.michelin.com/en/emilia-romagna/castelnovo-di-sotto/restaurant/poli-alla-stazione', 'page97>https://guide.michelin.com/en/veneto/cortina-d-ampezzo/restaurant/baita-pie-tofana', 'page97>https://guide.michelin.com/en/puglia/barletta/restaurant/antica-cucina-1983', 'page97>https://guide.michelin.com/en/lombardia/bergamo/restaurant/villa-elena', 'page97>https://guide.michelin.com/en/emilia-romagna/cesenatico/restaurant/12-ristorante', 'page97>https://guide.michelin.com/en/lazio/carnello/restaurant/mingone', 'page97>https://guide.michelin.com/en/piemonte/alessandria/restaurant/duomo', 'page97>https://guide.michelin.com/en/veneto/asolo/restaurant/locanda-baggio', 'page97>https://guide.michelin.com/en/campania/capri/restaurant/da-tonino', 'page97>https://guide.michelin.com/en/trentino-alto-adige/castelbello/restaurant/kuppelrain', 'page97>https://guide.michelin.com/en/piemonte/calamandrana/restaurant/violetta', 'page97>https://guide.michelin.com/en/puglia/carovigno/restaurant/osteria-casale-ferrovia', 'page98>https://guide.michelin.com/en/campania/napoli/restaurant/george-restaurant', 'page98>https://guide.michelin.com/en/piemonte/stresa/restaurant/villa-pizzini', 'page98>https://guide.michelin.com/en/toscana/prato/restaurant/moi-omakase', 'page98>https://guide.michelin.com/en/campania/vico-equense/restaurant/mima', 'page98>https://guide.michelin.com/en/toscana/castelnuovo-berardenga/restaurant/l-asinello', 'page98>https://guide.michelin.com/en/campania/praiano/restaurant/un-piano-nel-cielo', 'page98>https://guide.michelin.com/en/toscana/moggiona/restaurant/il-cedro', 'page98>https://guide.michelin.com/en/lombardia/cernobbio/restaurant/materia', 'page98>https://guide.michelin.com/en/basilicata/venosa/restaurant/al-baliaggio', 'page98>https://guide.michelin.com/en/lazio/terracina/restaurant/essenza1157118', 'page98>https://guide.michelin.com/en/liguria/san-bartolomeo-al-mare/restaurant/mood-osteria', 'page98>https://guide.michelin.com/en/lazio/roma/restaurant/53-untitled', 'page98>https://guide.michelin.com/en/lombardia/olgiate-olona/restaurant/acqua-1201998', 'page98>https://guide.michelin.com/en/sicilia/isola-vulcano/restaurant/i-tenerumi', 'page98>https://guide.michelin.com/en/campania/salerno/restaurant/suscettibile', 'page98>https://guide.michelin.com/en/lombardia/tavernerio_1809991/restaurant/gnocchetto', 'page98>https://guide.michelin.com/en/lombardia/mariano-comense/restaurant/la-piemontese', 'page98>https://guide.michelin.com/en/liguria/celle-ligure/restaurant/meta-ristorante', 'page98>https://guide.michelin.com/en/sardegna/baia-sardinia/restaurant/capogiro', 'page98>https://guide.michelin.com/en/lazio/roma/restaurant/orma-roma', 'page99>https://guide.michelin.com/en/lazio/roma/restaurant/shiroya', 'page99>https://guide.michelin.com/en/veneto/verona/restaurant/iris-ristorante', 'page99>https://guide.michelin.com/en/trentino-alto-adige/dobbiaco/restaurant/hebbo-wine-deli', 'page99>https://guide.michelin.com/en/emilia-romagna/bologna/restaurant/sotto-l-arco', 'page99>https://guide.michelin.com/en/piemonte/vernante/restaurant/nazionale', 'page99>https://guide.michelin.com/en/sardegna/capoterra/restaurant/sa-cardiga-e-su-schironi', 'page99>https://guide.michelin.com/en/toscana/pisa/restaurant/erbaluigia', 'page99>https://guide.michelin.com/en/trentino-alto-adige/arco/restaurant/locanda-53-supper-club', 'page99>https://guide.michelin.com/en/veneto/asiago/restaurant/osteria-europa', 'page99>https://guide.michelin.com/en/lazio/roma/restaurant/zia', 'page99>https://guide.michelin.com/en/piemonte/monforte-d-alba/restaurant/borgo-sant-anna', 'page99>https://guide.michelin.com/en/toscana/lucca/restaurant/peperosa', 'page99>https://guide.michelin.com/en/trentino-alto-adige/cardano/restaurant/eggentaler', 'page99>https://guide.michelin.com/en/campania/cava-de-tirreni/restaurant/crub', 'page99>https://guide.michelin.com/en/piemonte/borgomanero/restaurant/gu-sta-re-oltrecucina', 'page99>https://guide.michelin.com/en/trentino-alto-adige/pinzolo/restaurant/rendener-alpine-food', 'page99>https://guide.michelin.com/en/liguria/badalucco/restaurant/umami-1211596', 'page99>https://guide.michelin.com/en/piemonte/barbaresco/restaurant/visione-restaurant-and-living', 'page99>https://guide.michelin.com/en/veneto/cortina-d-ampezzo/restaurant/de-len', 'page99>https://guide.michelin.com/en/veneto/vodo-di-cadore/restaurant/acerorosso', 'page100>https://guide.michelin.com/en/abruzzo/pescara/restaurant/cafe-les-paillotes']\n"
     ]
    }
   ],
   "source": [
    "def read_restaurants_list():\n",
    "    with open('restaurants.txt', 'r') as _file:\n",
    "        restaurants_list = _file.read().split('\\n')  # Split the file content into a list of lines\n",
    "\n",
    "    return restaurants_list  # Return the list of restaurant links\n",
    "\n",
    "# Read the list from the file and print it\n",
    "restaurants_list = read_restaurants_list()\n",
    "print(restaurants_list)\n"
   ]
  },
  {
   "cell_type": "markdown",
   "metadata": {},
   "source": [
    "#### 1.2. Crawl Michelin restaurant pages"
   ]
  },
  {
   "cell_type": "markdown",
   "metadata": {},
   "source": [
    "**`download_restaurants_pages`**:  \n",
    "This function downloads the HTML content of restaurant pages from a list of URLs. It organizes the saved pages into directories named after the page number from which the links were extracted. Each restaurant's page is saved as an HTML file using the last part of its URL as the file name."
   ]
  },
  {
   "cell_type": "code",
   "execution_count": 44,
   "metadata": {},
   "outputs": [
    {
     "name": "stderr",
     "output_type": "stream",
     "text": [
      "100%|██████████| 1983/1983 [08:58<00:00,  3.68it/s]\n"
     ]
    }
   ],
   "source": [
    "crawler.download_restaurants_pages(restaurants_list)"
   ]
  },
  {
   "cell_type": "markdown",
   "metadata": {},
   "source": [
    "### 1.3. Parse downloaded pages"
   ]
  },
  {
   "cell_type": "markdown",
   "metadata": {},
   "source": [
    "#### To parse each page we need the following functions provided in crawler.py\n",
    "\n",
    "1. **`extract_title`**: Retrieves the restaurant's name from the HTML content.\n",
    "2. **`extract_address`**: Parses and structures the address, city, postal code, and country from the given details.\n",
    "3. **`extract_details`**: Extracts the price range and cuisine type of the restaurant.\n",
    "4. **`extract_description`**: Retrieves the restaurant's description from the HTML content.\n",
    "5. **`extract_facilities`**: Extracts a list of available facilities or services provided by the restaurant.\n",
    "6. **`extract_cards`**: Extracts the names of accepted credit cards from the HTML content.\n",
    "7. **`extract_phone_number`**: Retrieves the restaurant's phone number.\n",
    "8. **`extract_website`**: Extracts the restaurant's website URL, if available.\n",
    "9. **`process_restaurant_file`**: Processes a single restaurant's HTML file, extracting its attributes and appending them to a dictionary.\n",
    "10. **`process_pages`**: Iterates through directories of restaurant HTML files, extracting their details into a consolidated attributes dictionary."
   ]
  },
  {
   "cell_type": "code",
   "execution_count": 3,
   "metadata": {},
   "outputs": [
    {
     "name": "stderr",
     "output_type": "stream",
     "text": [
      "100%|██████████| 100/100 [04:16<00:00,  2.57s/it]\n"
     ]
    }
   ],
   "source": [
    "pages = os.listdir(pages_base_dir)\n",
    "pages.sort(key=lambda x: int(x[4:]))\n",
    "\n",
    "rest_attr_dict = crawler.process_pages(pages, pages_base_dir)"
   ]
  },
  {
   "cell_type": "code",
   "execution_count": 5,
   "metadata": {},
   "outputs": [
    {
     "data": {
      "text/html": [
       "<div>\n",
       "<style scoped>\n",
       "    .dataframe tbody tr th:only-of-type {\n",
       "        vertical-align: middle;\n",
       "    }\n",
       "\n",
       "    .dataframe tbody tr th {\n",
       "        vertical-align: top;\n",
       "    }\n",
       "\n",
       "    .dataframe thead th {\n",
       "        text-align: right;\n",
       "    }\n",
       "</style>\n",
       "<table border=\"1\" class=\"dataframe\">\n",
       "  <thead>\n",
       "    <tr style=\"text-align: right;\">\n",
       "      <th></th>\n",
       "      <th>restaurantName</th>\n",
       "      <th>address</th>\n",
       "      <th>city</th>\n",
       "      <th>postalCode</th>\n",
       "      <th>country</th>\n",
       "      <th>priceRange</th>\n",
       "      <th>cuisineType</th>\n",
       "      <th>description</th>\n",
       "      <th>facilitiesServices</th>\n",
       "      <th>creditCards</th>\n",
       "      <th>phoneNumber</th>\n",
       "      <th>website</th>\n",
       "    </tr>\n",
       "  </thead>\n",
       "  <tbody>\n",
       "    <tr>\n",
       "      <th>0</th>\n",
       "      <td>La Trattoria Enrico Bartolini</td>\n",
       "      <td>Località Badiola</td>\n",
       "      <td>Castiglione della Pescaia</td>\n",
       "      <td>58043</td>\n",
       "      <td>Italy</td>\n",
       "      <td>€€€€</td>\n",
       "      <td>Mediterranean Cuisine, Grills</td>\n",
       "      <td>After a majestic picture-postcard approach via...</td>\n",
       "      <td>[Air conditioning, Car park, Garden or park, I...</td>\n",
       "      <td>[Amex, Mastercard, Visa]</td>\n",
       "      <td>+39 0564 944322</td>\n",
       "      <td>https://www.enricobartolini.net/ristorante-la-...</td>\n",
       "    </tr>\n",
       "    <tr>\n",
       "      <th>1</th>\n",
       "      <td>Donevandro</td>\n",
       "      <td>via Garibaldi 2</td>\n",
       "      <td>Popoli</td>\n",
       "      <td>65026</td>\n",
       "      <td>Italy</td>\n",
       "      <td>€€</td>\n",
       "      <td>Contemporary, Seasonal Cuisine</td>\n",
       "      <td>Up until a few years ago, the owner-chef at th...</td>\n",
       "      <td>[Air conditioning]</td>\n",
       "      <td>[Mastercard, Visa]</td>\n",
       "      <td>+39 388 887 6858</td>\n",
       "      <td>http://www.donevandroristorante.it</td>\n",
       "    </tr>\n",
       "    <tr>\n",
       "      <th>2</th>\n",
       "      <td>O Me O Il Mare</td>\n",
       "      <td>Via Roma 45/47</td>\n",
       "      <td>Gragnano</td>\n",
       "      <td>80054</td>\n",
       "      <td>Italy</td>\n",
       "      <td>€€€€</td>\n",
       "      <td>Italian Contemporary, Modern Cuisine</td>\n",
       "      <td>Known around the world as the town of pasta, G...</td>\n",
       "      <td>[Air conditioning, Interesting wine list, Whee...</td>\n",
       "      <td>[Amex, Dinersclub, Mastercard, Visa]</td>\n",
       "      <td>+39 081 620 0550</td>\n",
       "      <td>None</td>\n",
       "    </tr>\n",
       "    <tr>\n",
       "      <th>3</th>\n",
       "      <td>Sa Domu Sarda</td>\n",
       "      <td>via Sassari 51</td>\n",
       "      <td>Cagliari</td>\n",
       "      <td>09124</td>\n",
       "      <td>Italy</td>\n",
       "      <td>€€</td>\n",
       "      <td>Sardinian</td>\n",
       "      <td>Despite being an island, Sardinia’s traditiona...</td>\n",
       "      <td>[Air conditioning, Terrace]</td>\n",
       "      <td>[Amex, Mastercard, Visa]</td>\n",
       "      <td>+39 070 653400</td>\n",
       "      <td>https://www.osteriasadomusarda.it/</td>\n",
       "    </tr>\n",
       "    <tr>\n",
       "      <th>4</th>\n",
       "      <td>Ape Vino e Cucina</td>\n",
       "      <td>Piazza Risorgimento 3</td>\n",
       "      <td>Alba</td>\n",
       "      <td>12051</td>\n",
       "      <td>Italy</td>\n",
       "      <td>€€</td>\n",
       "      <td>Piedmontese, Contemporary</td>\n",
       "      <td>This attractive restaurant in the heart of Alb...</td>\n",
       "      <td>[Air conditioning, Terrace, Wheelchair access]</td>\n",
       "      <td>[Amex, Dinersclub, Maestrocard, Mastercard, Visa]</td>\n",
       "      <td>+39 0173 363453</td>\n",
       "      <td>https://www.apewinebar.it/alba/</td>\n",
       "    </tr>\n",
       "  </tbody>\n",
       "</table>\n",
       "</div>"
      ],
      "text/plain": [
       "                  restaurantName                address  \\\n",
       "0  La Trattoria Enrico Bartolini       Località Badiola   \n",
       "1                     Donevandro        via Garibaldi 2   \n",
       "2                 O Me O Il Mare         Via Roma 45/47   \n",
       "3                  Sa Domu Sarda         via Sassari 51   \n",
       "4              Ape Vino e Cucina  Piazza Risorgimento 3   \n",
       "\n",
       "                        city postalCode country priceRange  \\\n",
       "0  Castiglione della Pescaia      58043   Italy       €€€€   \n",
       "1                     Popoli      65026   Italy         €€   \n",
       "2                   Gragnano      80054   Italy       €€€€   \n",
       "3                   Cagliari      09124   Italy         €€   \n",
       "4                       Alba      12051   Italy         €€   \n",
       "\n",
       "                            cuisineType  \\\n",
       "0         Mediterranean Cuisine, Grills   \n",
       "1        Contemporary, Seasonal Cuisine   \n",
       "2  Italian Contemporary, Modern Cuisine   \n",
       "3                             Sardinian   \n",
       "4             Piedmontese, Contemporary   \n",
       "\n",
       "                                         description  \\\n",
       "0  After a majestic picture-postcard approach via...   \n",
       "1  Up until a few years ago, the owner-chef at th...   \n",
       "2  Known around the world as the town of pasta, G...   \n",
       "3  Despite being an island, Sardinia’s traditiona...   \n",
       "4  This attractive restaurant in the heart of Alb...   \n",
       "\n",
       "                                  facilitiesServices  \\\n",
       "0  [Air conditioning, Car park, Garden or park, I...   \n",
       "1                                 [Air conditioning]   \n",
       "2  [Air conditioning, Interesting wine list, Whee...   \n",
       "3                        [Air conditioning, Terrace]   \n",
       "4     [Air conditioning, Terrace, Wheelchair access]   \n",
       "\n",
       "                                         creditCards       phoneNumber  \\\n",
       "0                           [Amex, Mastercard, Visa]   +39 0564 944322   \n",
       "1                                 [Mastercard, Visa]  +39 388 887 6858   \n",
       "2               [Amex, Dinersclub, Mastercard, Visa]  +39 081 620 0550   \n",
       "3                           [Amex, Mastercard, Visa]    +39 070 653400   \n",
       "4  [Amex, Dinersclub, Maestrocard, Mastercard, Visa]   +39 0173 363453   \n",
       "\n",
       "                                             website  \n",
       "0  https://www.enricobartolini.net/ristorante-la-...  \n",
       "1                 http://www.donevandroristorante.it  \n",
       "2                                               None  \n",
       "3                 https://www.osteriasadomusarda.it/  \n",
       "4                    https://www.apewinebar.it/alba/  "
      ]
     },
     "execution_count": 5,
     "metadata": {},
     "output_type": "execute_result"
    }
   ],
   "source": [
    "restaurants_df = pd.DataFrame(rest_attr_dict)\n",
    "restaurants_df.to_csv('restaurants.tsv', sep='\\t')\n",
    "restaurants_df.head(5)"
   ]
  },
  {
   "cell_type": "code",
   "execution_count": 87,
   "metadata": {},
   "outputs": [],
   "source": []
  },
  {
   "cell_type": "markdown",
   "metadata": {},
   "source": [
    "### Part 2 (Search Engine)"
   ]
  },
  {
   "cell_type": "code",
   "execution_count": 1,
   "metadata": {},
   "outputs": [
    {
     "name": "stderr",
     "output_type": "stream",
     "text": [
      "/home/ubuntu/.local/lib/python3.10/site-packages/pandas/core/arrays/masked.py:60: UserWarning: Pandas requires version '1.3.6' or newer of 'bottleneck' (version '1.3.5' currently installed).\n",
      "  from pandas.core import (\n",
      "[nltk_data] Downloading package stopwords to /home/ubuntu/nltk_data...\n",
      "[nltk_data]   Package stopwords is already up-to-date!\n",
      "[nltk_data] Downloading package punkt to /home/ubuntu/nltk_data...\n",
      "[nltk_data]   Package punkt is already up-to-date!\n"
     ]
    }
   ],
   "source": [
    "import search_engine\n",
    "\n",
    "import os\n",
    "import time\n",
    "import crawler\n",
    "import requests \n",
    "import numpy as np\n",
    "import pandas as pd\n",
    "from tqdm import tqdm\n",
    "from bs4 import BeautifulSoup\n",
    "from constants import *"
   ]
  },
  {
   "cell_type": "code",
   "execution_count": 2,
   "metadata": {},
   "outputs": [],
   "source": [
    "restaurants_df = pd.read_csv('restaurants.tsv', sep='\\t', index_col=0)"
   ]
  },
  {
   "cell_type": "markdown",
   "metadata": {},
   "source": [
    "### 2.0. Preprocessing"
   ]
  },
  {
   "cell_type": "markdown",
   "metadata": {},
   "source": [
    "**`clean_text`**:  \n",
    "This function preprocesses text for NLP tasks. It performs the following steps:  \n",
    "\n",
    "1. Converts the input text to lowercase.  \n",
    "2. Removes punctuation from the text.  \n",
    "3. Tokenizes the text into words.  \n",
    "4. Filters out stopwords (commonly used words with little semantic value).  \n",
    "5. Applies stemming to reduce words to their root form.  \n",
    "\n",
    "The function can return either a tokenized list of stemmed words or a cleaned string, depending on the `tokenized` parameter."
   ]
  },
  {
   "cell_type": "code",
   "execution_count": 3,
   "metadata": {},
   "outputs": [
    {
     "name": "stderr",
     "output_type": "stream",
     "text": [
      "100%|██████████| 1982/1982 [00:02<00:00, 907.47it/s]\n"
     ]
    }
   ],
   "source": [
    "tqdm.pandas()\n",
    "restaurants_df['cleaned_description'] = restaurants_df['description'].progress_apply(lambda text: search_engine.clean_text(text))"
   ]
  },
  {
   "cell_type": "markdown",
   "metadata": {},
   "source": [
    "### 2.1 Conjunctive Query"
   ]
  },
  {
   "cell_type": "markdown",
   "metadata": {},
   "source": [
    "#### 2.1.1 Create Our Index!"
   ]
  },
  {
   "cell_type": "markdown",
   "metadata": {},
   "source": [
    "**`create_vocab_indexer`**:  \n",
    "This function generates a vocabulary indexer from a specified column in a DataFrame. It tokenizes the text in the column, collects all unique tokens into a set, and converts the set into a DataFrame with a single column named `'token'`. The resulting DataFrame provides a list of all unique tokens in the text corpus."
   ]
  },
  {
   "cell_type": "code",
   "execution_count": 4,
   "metadata": {},
   "outputs": [],
   "source": [
    "vocab_df = search_engine.create_vocab_indexer(restaurants_df, 'cleaned_description')\n",
    "vocab_df.to_csv('vocabulary.csv')"
   ]
  },
  {
   "cell_type": "markdown",
   "metadata": {},
   "source": [
    "**`create_inverted_indexer`**:  \n",
    "This function builds an inverted index to map tokens from a vocabulary to the indices of restaurants whose descriptions contain those tokens. It iterates through each token in the vocabulary and checks where the token appears in the `'cleaned_description'` column of the restaurants DataFrame. The result is a dictionary where each token index is associated with a list of restaurant indices where the token occurs."
   ]
  },
  {
   "cell_type": "code",
   "execution_count": 5,
   "metadata": {},
   "outputs": [
    {
     "name": "stderr",
     "output_type": "stream",
     "text": [
      "7707it [00:14, 529.22it/s]\n"
     ]
    }
   ],
   "source": [
    "vocab_documents_dict = search_engine.create_inverted_indexer(vocab_df, restaurants_df)"
   ]
  },
  {
   "cell_type": "markdown",
   "metadata": {},
   "source": [
    "#### 2.1.2 Execute the Query"
   ]
  },
  {
   "cell_type": "markdown",
   "metadata": {},
   "source": [
    "**`conjunctive_search`**:  \n",
    "This function performs a conjunctive (AND) search on restaurant descriptions. It takes a query string, cleans and tokenizes it, and finds restaurants whose descriptions contain all the tokens in the query. It uses an inverted index to retrieve matching document indices for each token, intersects these indices to find common matches, and returns details (name, address, description, website) of the matching restaurants."
   ]
  },
  {
   "cell_type": "code",
   "execution_count": 7,
   "metadata": {},
   "outputs": [
    {
     "data": {
      "text/html": [
       "<div>\n",
       "<style scoped>\n",
       "    .dataframe tbody tr th:only-of-type {\n",
       "        vertical-align: middle;\n",
       "    }\n",
       "\n",
       "    .dataframe tbody tr th {\n",
       "        vertical-align: top;\n",
       "    }\n",
       "\n",
       "    .dataframe thead th {\n",
       "        text-align: right;\n",
       "    }\n",
       "</style>\n",
       "<table border=\"1\" class=\"dataframe\">\n",
       "  <thead>\n",
       "    <tr style=\"text-align: right;\">\n",
       "      <th></th>\n",
       "      <th>restaurantName</th>\n",
       "      <th>address</th>\n",
       "      <th>description</th>\n",
       "      <th>website</th>\n",
       "    </tr>\n",
       "  </thead>\n",
       "  <tbody>\n",
       "    <tr>\n",
       "      <th>1153</th>\n",
       "      <td>Ronchi Rò</td>\n",
       "      <td>località Cime di Dolegna 12</td>\n",
       "      <td>Ronchi Rò is an estate-cum-agriturismo surroun...</td>\n",
       "      <td>https://www.ronchiro.it</td>\n",
       "    </tr>\n",
       "    <tr>\n",
       "      <th>898</th>\n",
       "      <td>La Bandiera</td>\n",
       "      <td>contrada Pastini 4</td>\n",
       "      <td>Although it takes a while to reach this restau...</td>\n",
       "      <td>https://www.labandiera.it/</td>\n",
       "    </tr>\n",
       "    <tr>\n",
       "      <th>1544</th>\n",
       "      <td>Babette</td>\n",
       "      <td>via Michelangelo 17</td>\n",
       "      <td>Situated just beyond the centre of Albenga in ...</td>\n",
       "      <td>https://www.ristorantebabette.net/</td>\n",
       "    </tr>\n",
       "    <tr>\n",
       "      <th>1289</th>\n",
       "      <td>Flurin</td>\n",
       "      <td>Laubengasse 2</td>\n",
       "      <td>Flurin occupies an old medieval tower in Glore...</td>\n",
       "      <td>https://www.flurin.it</td>\n",
       "    </tr>\n",
       "    <tr>\n",
       "      <th>12</th>\n",
       "      <td>20Tre</td>\n",
       "      <td>via David Chiossone 20 r</td>\n",
       "      <td>Run by three partners, this contemporary-style...</td>\n",
       "      <td>https://www.ristorante20tregenova.it/</td>\n",
       "    </tr>\n",
       "  </tbody>\n",
       "</table>\n",
       "</div>"
      ],
      "text/plain": [
       "     restaurantName                      address  \\\n",
       "1153      Ronchi Rò  località Cime di Dolegna 12   \n",
       "898     La Bandiera           contrada Pastini 4   \n",
       "1544        Babette          via Michelangelo 17   \n",
       "1289         Flurin                Laubengasse 2   \n",
       "12            20Tre     via David Chiossone 20 r   \n",
       "\n",
       "                                            description  \\\n",
       "1153  Ronchi Rò is an estate-cum-agriturismo surroun...   \n",
       "898   Although it takes a while to reach this restau...   \n",
       "1544  Situated just beyond the centre of Albenga in ...   \n",
       "1289  Flurin occupies an old medieval tower in Glore...   \n",
       "12    Run by three partners, this contemporary-style...   \n",
       "\n",
       "                                    website  \n",
       "1153                https://www.ronchiro.it  \n",
       "898              https://www.labandiera.it/  \n",
       "1544     https://www.ristorantebabette.net/  \n",
       "1289                  https://www.flurin.it  \n",
       "12    https://www.ristorante20tregenova.it/  "
      ]
     },
     "execution_count": 7,
     "metadata": {},
     "output_type": "execute_result"
    }
   ],
   "source": [
    "search_engine.conjuctive_search(\"modern seasonal cuisine\", vocab_df, vocab_documents_dict, restaurants_df).head(5)"
   ]
  },
  {
   "cell_type": "markdown",
   "metadata": {},
   "source": [
    "#### 2.2.2 Execute the Ranked Query"
   ]
  },
  {
   "cell_type": "markdown",
   "metadata": {},
   "source": [
    "**`create_inverted_indexer_with_tfidf`**:  \n",
    "This function extends a traditional inverted index by incorporating TF-IDF (Term Frequency-Inverse Document Frequency) scores for each token in a restaurant dataset. It works as follows:  \n",
    "\n",
    "1. Iterates through each token in the vocabulary.\n",
    "2. Identifies which restaurant descriptions contain the token using regex for exact word matching.\n",
    "3. Calculates the **TF-IDF** score for the token in each matching document:  \n",
    "   - **TF**: Frequency of the token in the document divided by the total number of tokens in the document.  \n",
    "   - **IDF**: Logarithm of the total number of documents divided by the number of documents containing the token.  \n",
    "4. Stores the matching document indices along with their respective TF-IDF scores for each token in a dictionary.  \n",
    "\n",
    "The result is a dictionary where each token is mapped to a list of tuples containing document indices and their corresponding TF-IDF scores."
   ]
  },
  {
   "cell_type": "code",
   "execution_count": 8,
   "metadata": {},
   "outputs": [
    {
     "name": "stderr",
     "output_type": "stream",
     "text": [
      "  0%|          | 0/7707 [00:00<?, ?it/s]/home/ubuntu/TempRec/HW3/search_engine.py:102: FutureWarning: Series.__getitem__ treating keys as positions is deprecated. In a future version, integer keys will always be treated as labels (consistent with DataFrame behavior). To access a value by position, use `ser.iloc[pos]`\n",
      "  vocab = row[0]\n",
      "100%|██████████| 7707/7707 [01:31<00:00, 84.34it/s]\n"
     ]
    }
   ],
   "source": [
    "vocab_documents_with_tfidf = search_engine.create_inverted_indexer_with_tfidf(vocab_df, restaurants_df)"
   ]
  },
  {
   "cell_type": "markdown",
   "metadata": {},
   "source": [
    "**`cosine_similarity`**:  \n",
    "This function calculates the cosine similarity between a given vector and all rows in a matrix. Cosine similarity measures the angle between vectors, providing a score to determine how similar they are, irrespective of their magnitudes.  \n",
    "\n",
    "- It computes the norms (magnitudes) of the vector and each row of the matrix.  \n",
    "- It calculates the dot product of the vector with each matrix row.  \n",
    "- The cosine similarity is obtained by dividing the dot product by the product of the norms.  \n"
   ]
  },
  {
   "cell_type": "markdown",
   "metadata": {},
   "source": [
    "**`rank_search_engine`**\n",
    "\n",
    "This function performs ranked search for a query over a set of restaurant descriptions using TF-IDF and cosine similarity:\n",
    "\n",
    "1. **Query Processing:**  \n",
    "   - The input query is cleaned and tokenized.\n",
    "   - A binary vector representation of the query is created, where each position corresponds to a vocabulary term, and a `1` indicates the term is present in the query.\n",
    "\n",
    "2. **Constructing Document Vectors:**  \n",
    "   - Each restaurant is represented by a vector where each position corresponds to a vocabulary term.\n",
    "   - The TF-IDF scores from `vocab_documents_with_tfidf` are used to populate these vectors for each restaurant.\n",
    "\n",
    "3. **Computing Similarity:**  \n",
    "   - Cosine similarity is calculated between the query vector and all restaurant vectors.\n",
    "   - This determines how closely the query matches each restaurant's description.\n",
    "\n",
    "4. **Ranking Results:**  \n",
    "   - The restaurants are ranked by their similarity scores in descending order.\n",
    "   - The top `k` restaurants are selected based on their scores.\n",
    "\n",
    "5. **Returning Results:**  \n",
    "   - A DataFrame of the top `k` restaurants is returned, including their similarity scores, for display or further processing. \n"
   ]
  },
  {
   "cell_type": "code",
   "execution_count": 10,
   "metadata": {},
   "outputs": [
    {
     "name": "stderr",
     "output_type": "stream",
     "text": [
      "/home/ubuntu/TempRec/HW3/search_engine.py:179: SettingWithCopyWarning: \n",
      "A value is trying to be set on a copy of a slice from a DataFrame.\n",
      "Try using .loc[row_indexer,col_indexer] = value instead\n",
      "\n",
      "See the caveats in the documentation: https://pandas.pydata.org/pandas-docs/stable/user_guide/indexing.html#returning-a-view-versus-a-copy\n",
      "  selected_rests['Similarity Score'] = np.sort(similarity_scores)[::-1][:k]\n"
     ]
    }
   ],
   "source": [
    "ranked_results = search_engine.rank_search_engine(query='modern seasonal cuisine', \n",
    "                                                  vocab_df=vocab_df, \n",
    "                                                  vocab_documents_with_tfidf=vocab_documents_with_tfidf,\n",
    "                                                  restaurants_df=restaurants_df, \n",
    "                                                  k=10)"
   ]
  },
  {
   "cell_type": "markdown",
   "metadata": {},
   "source": [
    "### Part 4 (Visualizing the Most Relevant Restaurants)"
   ]
  },
  {
   "cell_type": "markdown",
   "metadata": {},
   "source": [
    "**`get_coordinates_with_details`**\n",
    "\n",
    "This function retrieves geographic coordinates (latitude and longitude) for a given restaurant by querying its detailed address, including postal code, city, and country. If the full address is unavailable, it falls back to using the city and country. It leverages the `geopy` library's `Nominatim` geocoder to perform the lookup."
   ]
  },
  {
   "cell_type": "markdown",
   "metadata": {},
   "source": [
    "**`enrich_with_coordinates`**\n",
    "\n",
    "This function enriches a restaurant DataFrame by adding latitude and longitude columns. It applies the `get_coordinates_with_details` function to each row to fetch coordinates and filters out rows where coordinates could not be determined."
   ]
  },
  {
   "cell_type": "code",
   "execution_count": 12,
   "metadata": {},
   "outputs": [],
   "source": [
    "from geopy.geocoders import Nominatim\n",
    "\n",
    "geolocator = Nominatim(user_agent=\"restaurant_locator\")\n",
    "\n",
    "def get_coordinates_with_details(row):\n",
    "    \"\"\"Get latitude and longitude using address, postal code, city, and country.\"\"\"\n",
    "    query = f\"{row['address']}, {row['postalCode']}, {row['city']}, {row['country']}\"\n",
    "    location = geolocator.geocode(query)\n",
    "    if location:\n",
    "        return location.latitude, location.longitude\n",
    "    elif location is None:\n",
    "        location = geolocator.geocode(f\"{row['city']}, {row['country']}\")\n",
    "        \n",
    "        if location:\n",
    "            return location.latitude, location.longitude\n",
    "\n",
    "    return None, None\n",
    "\n",
    "def enrich_with_coordinates(restaurants_df):\n",
    "    \"\"\"Add latitude and longitude to the DataFrame.\"\"\"\n",
    "    restaurants_df[['latitude', 'longitude']] = restaurants_df.apply(\n",
    "        lambda row: pd.Series(get_coordinates_with_details(row)), axis=1\n",
    "    )\n",
    "    return restaurants_df.dropna(subset=['latitude', 'longitude'])\n"
   ]
  },
  {
   "cell_type": "code",
   "execution_count": 14,
   "metadata": {},
   "outputs": [
    {
     "name": "stderr",
     "output_type": "stream",
     "text": [
      "/tmp/ipykernel_811801/421933408.py:21: SettingWithCopyWarning: \n",
      "A value is trying to be set on a copy of a slice from a DataFrame.\n",
      "Try using .loc[row_indexer,col_indexer] = value instead\n",
      "\n",
      "See the caveats in the documentation: https://pandas.pydata.org/pandas-docs/stable/user_guide/indexing.html#returning-a-view-versus-a-copy\n",
      "  restaurants_df[['latitude', 'longitude']] = restaurants_df.apply(\n"
     ]
    },
    {
     "data": {
      "text/html": [
       "<div style=\"width:100%;\"><div style=\"position:relative;width:100%;height:0;padding-bottom:60%;\"><span style=\"color:#565656\">Make this Notebook Trusted to load map: File -> Trust Notebook</span><iframe srcdoc=\"&lt;!DOCTYPE html&gt;\n",
       "&lt;html&gt;\n",
       "&lt;head&gt;\n",
       "    \n",
       "    &lt;meta http-equiv=&quot;content-type&quot; content=&quot;text/html; charset=UTF-8&quot; /&gt;\n",
       "    \n",
       "        &lt;script&gt;\n",
       "            L_NO_TOUCH = false;\n",
       "            L_DISABLE_3D = false;\n",
       "        &lt;/script&gt;\n",
       "    \n",
       "    &lt;style&gt;html, body {width: 100%;height: 100%;margin: 0;padding: 0;}&lt;/style&gt;\n",
       "    &lt;style&gt;#map {position:absolute;top:0;bottom:0;right:0;left:0;}&lt;/style&gt;\n",
       "    &lt;script src=&quot;https://cdn.jsdelivr.net/npm/leaflet@1.9.3/dist/leaflet.js&quot;&gt;&lt;/script&gt;\n",
       "    &lt;script src=&quot;https://code.jquery.com/jquery-3.7.1.min.js&quot;&gt;&lt;/script&gt;\n",
       "    &lt;script src=&quot;https://cdn.jsdelivr.net/npm/bootstrap@5.2.2/dist/js/bootstrap.bundle.min.js&quot;&gt;&lt;/script&gt;\n",
       "    &lt;script src=&quot;https://cdnjs.cloudflare.com/ajax/libs/Leaflet.awesome-markers/2.0.2/leaflet.awesome-markers.js&quot;&gt;&lt;/script&gt;\n",
       "    &lt;link rel=&quot;stylesheet&quot; href=&quot;https://cdn.jsdelivr.net/npm/leaflet@1.9.3/dist/leaflet.css&quot;/&gt;\n",
       "    &lt;link rel=&quot;stylesheet&quot; href=&quot;https://cdn.jsdelivr.net/npm/bootstrap@5.2.2/dist/css/bootstrap.min.css&quot;/&gt;\n",
       "    &lt;link rel=&quot;stylesheet&quot; href=&quot;https://netdna.bootstrapcdn.com/bootstrap/3.0.0/css/bootstrap-glyphicons.css&quot;/&gt;\n",
       "    &lt;link rel=&quot;stylesheet&quot; href=&quot;https://cdn.jsdelivr.net/npm/@fortawesome/fontawesome-free@6.2.0/css/all.min.css&quot;/&gt;\n",
       "    &lt;link rel=&quot;stylesheet&quot; href=&quot;https://cdnjs.cloudflare.com/ajax/libs/Leaflet.awesome-markers/2.0.2/leaflet.awesome-markers.css&quot;/&gt;\n",
       "    &lt;link rel=&quot;stylesheet&quot; href=&quot;https://cdn.jsdelivr.net/gh/python-visualization/folium/folium/templates/leaflet.awesome.rotate.min.css&quot;/&gt;\n",
       "    \n",
       "            &lt;meta name=&quot;viewport&quot; content=&quot;width=device-width,\n",
       "                initial-scale=1.0, maximum-scale=1.0, user-scalable=no&quot; /&gt;\n",
       "            &lt;style&gt;\n",
       "                #map_b8e54e45c47e19796c92ad88fcdff6d8 {\n",
       "                    position: relative;\n",
       "                    width: 100.0%;\n",
       "                    height: 100.0%;\n",
       "                    left: 0.0%;\n",
       "                    top: 0.0%;\n",
       "                }\n",
       "                .leaflet-container { font-size: 1rem; }\n",
       "            &lt;/style&gt;\n",
       "        \n",
       "&lt;/head&gt;\n",
       "&lt;body&gt;\n",
       "    \n",
       "    \n",
       "            &lt;div class=&quot;folium-map&quot; id=&quot;map_b8e54e45c47e19796c92ad88fcdff6d8&quot; &gt;&lt;/div&gt;\n",
       "        \n",
       "&lt;/body&gt;\n",
       "&lt;script&gt;\n",
       "    \n",
       "    \n",
       "            var map_b8e54e45c47e19796c92ad88fcdff6d8 = L.map(\n",
       "                &quot;map_b8e54e45c47e19796c92ad88fcdff6d8&quot;,\n",
       "                {\n",
       "                    center: [41.8719, 12.5674],\n",
       "                    crs: L.CRS.EPSG3857,\n",
       "                    zoom: 6,\n",
       "                    zoomControl: true,\n",
       "                    preferCanvas: false,\n",
       "                }\n",
       "            );\n",
       "\n",
       "            \n",
       "\n",
       "        \n",
       "    \n",
       "            var tile_layer_3c57650d7e42427cd1a7083de1f54a3b = L.tileLayer(\n",
       "                &quot;https://tile.openstreetmap.org/{z}/{x}/{y}.png&quot;,\n",
       "                {&quot;attribution&quot;: &quot;\\u0026copy; \\u003ca href=\\&quot;https://www.openstreetmap.org/copyright\\&quot;\\u003eOpenStreetMap\\u003c/a\\u003e contributors&quot;, &quot;detectRetina&quot;: false, &quot;maxNativeZoom&quot;: 19, &quot;maxZoom&quot;: 19, &quot;minZoom&quot;: 0, &quot;noWrap&quot;: false, &quot;opacity&quot;: 1, &quot;subdomains&quot;: &quot;abc&quot;, &quot;tms&quot;: false}\n",
       "            );\n",
       "        \n",
       "    \n",
       "            tile_layer_3c57650d7e42427cd1a7083de1f54a3b.addTo(map_b8e54e45c47e19796c92ad88fcdff6d8);\n",
       "        \n",
       "    \n",
       "            var marker_1c31ab8df59306015641b3d11554df17 = L.marker(\n",
       "                [45.3791667, 9.8995332],\n",
       "                {}\n",
       "            ).addTo(map_b8e54e45c47e19796c92ad88fcdff6d8);\n",
       "        \n",
       "    \n",
       "            var icon_c10ab2f0254e624011234cf145b36dda = L.AwesomeMarkers.icon(\n",
       "                {&quot;extraClasses&quot;: &quot;fa-rotate-0&quot;, &quot;icon&quot;: &quot;cutlery&quot;, &quot;iconColor&quot;: &quot;white&quot;, &quot;markerColor&quot;: &quot;blue&quot;, &quot;prefix&quot;: &quot;glyphicon&quot;}\n",
       "            );\n",
       "            marker_1c31ab8df59306015641b3d11554df17.setIcon(icon_c10ab2f0254e624011234cf145b36dda);\n",
       "        \n",
       "    \n",
       "        var popup_e6cccc92fe6f0d6d41bc2ddd7301212a = L.popup({&quot;maxWidth&quot;: &quot;100%&quot;});\n",
       "\n",
       "        \n",
       "            \n",
       "                var html_209dfe178f2aa71431a9de04c6fadadc = $(`&lt;div id=&quot;html_209dfe178f2aa71431a9de04c6fadadc&quot; style=&quot;width: 100.0%; height: 100.0%;&quot;&gt;         &lt;b&gt;Saur&lt;/b&gt;&lt;br&gt;         via Filippo Turati 8&lt;br&gt;         Barco, Italy&lt;br&gt;         Price Range: €€&lt;br&gt;         Cuisine Type: Italian Contemporary         &lt;/div&gt;`)[0];\n",
       "                popup_e6cccc92fe6f0d6d41bc2ddd7301212a.setContent(html_209dfe178f2aa71431a9de04c6fadadc);\n",
       "            \n",
       "        \n",
       "\n",
       "        marker_1c31ab8df59306015641b3d11554df17.bindPopup(popup_e6cccc92fe6f0d6d41bc2ddd7301212a)\n",
       "        ;\n",
       "\n",
       "        \n",
       "    \n",
       "    \n",
       "            var marker_4799acdb83bd327a3adcce71e4ed5897 = L.marker(\n",
       "                [45.0639545, 7.6848472],\n",
       "                {}\n",
       "            ).addTo(map_b8e54e45c47e19796c92ad88fcdff6d8);\n",
       "        \n",
       "    \n",
       "            var icon_0351729fbc1031fa15a09cc82ee4edbb = L.AwesomeMarkers.icon(\n",
       "                {&quot;extraClasses&quot;: &quot;fa-rotate-0&quot;, &quot;icon&quot;: &quot;cutlery&quot;, &quot;iconColor&quot;: &quot;white&quot;, &quot;markerColor&quot;: &quot;blue&quot;, &quot;prefix&quot;: &quot;glyphicon&quot;}\n",
       "            );\n",
       "            marker_4799acdb83bd327a3adcce71e4ed5897.setIcon(icon_0351729fbc1031fa15a09cc82ee4edbb);\n",
       "        \n",
       "    \n",
       "        var popup_40eebb6795ec34aca4dfc93e4c901a3a = L.popup({&quot;maxWidth&quot;: &quot;100%&quot;});\n",
       "\n",
       "        \n",
       "            \n",
       "                var html_d9554f146735d14441d57083c1fafedd = $(`&lt;div id=&quot;html_d9554f146735d14441d57083c1fafedd&quot; style=&quot;width: 100.0%; height: 100.0%;&quot;&gt;         &lt;b&gt;Razzo&lt;/b&gt;&lt;br&gt;         via Andrea Doria 17/f&lt;br&gt;         Turin, Italy&lt;br&gt;         Price Range: €€&lt;br&gt;         Cuisine Type: Modern Cuisine, Mediterranean Cuisine         &lt;/div&gt;`)[0];\n",
       "                popup_40eebb6795ec34aca4dfc93e4c901a3a.setContent(html_d9554f146735d14441d57083c1fafedd);\n",
       "            \n",
       "        \n",
       "\n",
       "        marker_4799acdb83bd327a3adcce71e4ed5897.bindPopup(popup_40eebb6795ec34aca4dfc93e4c901a3a)\n",
       "        ;\n",
       "\n",
       "        \n",
       "    \n",
       "    \n",
       "            var marker_b9911bee34941b09b434af92b4097e89 = L.marker(\n",
       "                [45.88345010240199, 8.541618227915755],\n",
       "                {}\n",
       "            ).addTo(map_b8e54e45c47e19796c92ad88fcdff6d8);\n",
       "        \n",
       "    \n",
       "            var icon_771490a1f1c8e41e14419b3f42c8827e = L.AwesomeMarkers.icon(\n",
       "                {&quot;extraClasses&quot;: &quot;fa-rotate-0&quot;, &quot;icon&quot;: &quot;cutlery&quot;, &quot;iconColor&quot;: &quot;white&quot;, &quot;markerColor&quot;: &quot;blue&quot;, &quot;prefix&quot;: &quot;glyphicon&quot;}\n",
       "            );\n",
       "            marker_b9911bee34941b09b434af92b4097e89.setIcon(icon_771490a1f1c8e41e14419b3f42c8827e);\n",
       "        \n",
       "    \n",
       "        var popup_71f665283944dcbeb3316fc5524739b9 = L.popup({&quot;maxWidth&quot;: &quot;100%&quot;});\n",
       "\n",
       "        \n",
       "            \n",
       "                var html_74be65d9ec3f14c5e8b9eef2417beab4 = $(`&lt;div id=&quot;html_74be65d9ec3f14c5e8b9eef2417beab4&quot; style=&quot;width: 100.0%; height: 100.0%;&quot;&gt;         &lt;b&gt;La Botte&lt;/b&gt;&lt;br&gt;         via Giuseppe Garibaldi 8&lt;br&gt;         Stresa, Italy&lt;br&gt;         Price Range: €€&lt;br&gt;         Cuisine Type: Modern Cuisine         &lt;/div&gt;`)[0];\n",
       "                popup_71f665283944dcbeb3316fc5524739b9.setContent(html_74be65d9ec3f14c5e8b9eef2417beab4);\n",
       "            \n",
       "        \n",
       "\n",
       "        marker_b9911bee34941b09b434af92b4097e89.bindPopup(popup_71f665283944dcbeb3316fc5524739b9)\n",
       "        ;\n",
       "\n",
       "        \n",
       "    \n",
       "    \n",
       "            var marker_14f53b25a0dbde9835a1a20f80c48ecb = L.marker(\n",
       "                [45.0669366, 7.6977088],\n",
       "                {}\n",
       "            ).addTo(map_b8e54e45c47e19796c92ad88fcdff6d8);\n",
       "        \n",
       "    \n",
       "            var icon_431c856cb725962f8137f2467fc53411 = L.AwesomeMarkers.icon(\n",
       "                {&quot;extraClasses&quot;: &quot;fa-rotate-0&quot;, &quot;icon&quot;: &quot;cutlery&quot;, &quot;iconColor&quot;: &quot;white&quot;, &quot;markerColor&quot;: &quot;blue&quot;, &quot;prefix&quot;: &quot;glyphicon&quot;}\n",
       "            );\n",
       "            marker_14f53b25a0dbde9835a1a20f80c48ecb.setIcon(icon_431c856cb725962f8137f2467fc53411);\n",
       "        \n",
       "    \n",
       "        var popup_817b5e1938fde185ce1cc74d391291a9 = L.popup({&quot;maxWidth&quot;: &quot;100%&quot;});\n",
       "\n",
       "        \n",
       "            \n",
       "                var html_8d7256aad2a26f02f2aac4a25c0f9ef0 = $(`&lt;div id=&quot;html_8d7256aad2a26f02f2aac4a25c0f9ef0&quot; style=&quot;width: 100.0%; height: 100.0%;&quot;&gt;         &lt;b&gt;Piccolo Lord&lt;/b&gt;&lt;br&gt;         corso San Maurizio 69 bis/g&lt;br&gt;         Turin, Italy&lt;br&gt;         Price Range: €€&lt;br&gt;         Cuisine Type: Mediterranean Cuisine, Seasonal Cuisine         &lt;/div&gt;`)[0];\n",
       "                popup_817b5e1938fde185ce1cc74d391291a9.setContent(html_8d7256aad2a26f02f2aac4a25c0f9ef0);\n",
       "            \n",
       "        \n",
       "\n",
       "        marker_14f53b25a0dbde9835a1a20f80c48ecb.bindPopup(popup_817b5e1938fde185ce1cc74d391291a9)\n",
       "        ;\n",
       "\n",
       "        \n",
       "    \n",
       "    \n",
       "            var marker_e9c9ba75768c2d65ba63b2a9532818ae = L.marker(\n",
       "                [45.81063282698768, 8.835311284870095],\n",
       "                {}\n",
       "            ).addTo(map_b8e54e45c47e19796c92ad88fcdff6d8);\n",
       "        \n",
       "    \n",
       "            var icon_28618827139bbfc4690506271d33e8ff = L.AwesomeMarkers.icon(\n",
       "                {&quot;extraClasses&quot;: &quot;fa-rotate-0&quot;, &quot;icon&quot;: &quot;cutlery&quot;, &quot;iconColor&quot;: &quot;white&quot;, &quot;markerColor&quot;: &quot;orange&quot;, &quot;prefix&quot;: &quot;glyphicon&quot;}\n",
       "            );\n",
       "            marker_e9c9ba75768c2d65ba63b2a9532818ae.setIcon(icon_28618827139bbfc4690506271d33e8ff);\n",
       "        \n",
       "    \n",
       "        var popup_1222002fac5b6c9f1e2ddf371eef4b71 = L.popup({&quot;maxWidth&quot;: &quot;100%&quot;});\n",
       "\n",
       "        \n",
       "            \n",
       "                var html_b727ae7a4eea6d2a39035102f0e96471 = $(`&lt;div id=&quot;html_b727ae7a4eea6d2a39035102f0e96471&quot; style=&quot;width: 100.0%; height: 100.0%;&quot;&gt;         &lt;b&gt;Al Vecchio Convento&lt;/b&gt;&lt;br&gt;         viale Borri 348&lt;br&gt;         Varese, Italy&lt;br&gt;         Price Range: €€€&lt;br&gt;         Cuisine Type: Tuscan, Grills         &lt;/div&gt;`)[0];\n",
       "                popup_1222002fac5b6c9f1e2ddf371eef4b71.setContent(html_b727ae7a4eea6d2a39035102f0e96471);\n",
       "            \n",
       "        \n",
       "\n",
       "        marker_e9c9ba75768c2d65ba63b2a9532818ae.bindPopup(popup_1222002fac5b6c9f1e2ddf371eef4b71)\n",
       "        ;\n",
       "\n",
       "        \n",
       "    \n",
       "    \n",
       "            var marker_bcc1714c097fc28836cc40320921336f = L.marker(\n",
       "                [45.730442774249745, 9.725618491324484],\n",
       "                {}\n",
       "            ).addTo(map_b8e54e45c47e19796c92ad88fcdff6d8);\n",
       "        \n",
       "    \n",
       "            var icon_d547918d5943d12da97a9d988d59cd07 = L.AwesomeMarkers.icon(\n",
       "                {&quot;extraClasses&quot;: &quot;fa-rotate-0&quot;, &quot;icon&quot;: &quot;cutlery&quot;, &quot;iconColor&quot;: &quot;white&quot;, &quot;markerColor&quot;: &quot;orange&quot;, &quot;prefix&quot;: &quot;glyphicon&quot;}\n",
       "            );\n",
       "            marker_bcc1714c097fc28836cc40320921336f.setIcon(icon_d547918d5943d12da97a9d988d59cd07);\n",
       "        \n",
       "    \n",
       "        var popup_645ecb27982415ce5ed86b02aa9048e8 = L.popup({&quot;maxWidth&quot;: &quot;100%&quot;});\n",
       "\n",
       "        \n",
       "            \n",
       "                var html_c25d9b9fafaff0dbaaa4347e7bec0d5a = $(`&lt;div id=&quot;html_c25d9b9fafaff0dbaaa4347e7bec0d5a&quot; style=&quot;width: 100.0%; height: 100.0%;&quot;&gt;         &lt;b&gt;RistoFante&lt;/b&gt;&lt;br&gt;         via Mazzini 41&lt;br&gt;         Alzano Lombardo, Italy&lt;br&gt;         Price Range: €€€&lt;br&gt;         Cuisine Type: Seafood         &lt;/div&gt;`)[0];\n",
       "                popup_645ecb27982415ce5ed86b02aa9048e8.setContent(html_c25d9b9fafaff0dbaaa4347e7bec0d5a);\n",
       "            \n",
       "        \n",
       "\n",
       "        marker_bcc1714c097fc28836cc40320921336f.bindPopup(popup_645ecb27982415ce5ed86b02aa9048e8)\n",
       "        ;\n",
       "\n",
       "        \n",
       "    \n",
       "    \n",
       "            var marker_b99759cf186bc09ad08ee3d259fc1e98 = L.marker(\n",
       "                [42.7509418, 13.95777745],\n",
       "                {}\n",
       "            ).addTo(map_b8e54e45c47e19796c92ad88fcdff6d8);\n",
       "        \n",
       "    \n",
       "            var icon_e1370abf488a8fb2098ffc5732c9663a = L.AwesomeMarkers.icon(\n",
       "                {&quot;extraClasses&quot;: &quot;fa-rotate-0&quot;, &quot;icon&quot;: &quot;cutlery&quot;, &quot;iconColor&quot;: &quot;white&quot;, &quot;markerColor&quot;: &quot;orange&quot;, &quot;prefix&quot;: &quot;glyphicon&quot;}\n",
       "            );\n",
       "            marker_b99759cf186bc09ad08ee3d259fc1e98.setIcon(icon_e1370abf488a8fb2098ffc5732c9663a);\n",
       "        \n",
       "    \n",
       "        var popup_14e6414d0b43a30fdee81ad188bce9cd = L.popup({&quot;maxWidth&quot;: &quot;100%&quot;});\n",
       "\n",
       "        \n",
       "            \n",
       "                var html_65ebbc3d2a0033ef31a53759b214bc5d = $(`&lt;div id=&quot;html_65ebbc3d2a0033ef31a53759b214bc5d&quot; style=&quot;width: 100.0%; height: 100.0%;&quot;&gt;         &lt;b&gt;Aprudia&lt;/b&gt;&lt;br&gt;         largo del Forno 16&lt;br&gt;         Giulianova, Italy&lt;br&gt;         Price Range: €€€&lt;br&gt;         Cuisine Type: Farm to table, Modern Cuisine         &lt;/div&gt;`)[0];\n",
       "                popup_14e6414d0b43a30fdee81ad188bce9cd.setContent(html_65ebbc3d2a0033ef31a53759b214bc5d);\n",
       "            \n",
       "        \n",
       "\n",
       "        marker_b99759cf186bc09ad08ee3d259fc1e98.bindPopup(popup_14e6414d0b43a30fdee81ad188bce9cd)\n",
       "        ;\n",
       "\n",
       "        \n",
       "    \n",
       "    \n",
       "            var marker_00eac06002e184646f54e61524779dc7 = L.marker(\n",
       "                [40.6623446, 14.4264683],\n",
       "                {}\n",
       "            ).addTo(map_b8e54e45c47e19796c92ad88fcdff6d8);\n",
       "        \n",
       "    \n",
       "            var icon_4d08a4cef0b616d338807bbe4c85b523 = L.AwesomeMarkers.icon(\n",
       "                {&quot;extraClasses&quot;: &quot;fa-rotate-0&quot;, &quot;icon&quot;: &quot;cutlery&quot;, &quot;iconColor&quot;: &quot;white&quot;, &quot;markerColor&quot;: &quot;blue&quot;, &quot;prefix&quot;: &quot;glyphicon&quot;}\n",
       "            );\n",
       "            marker_00eac06002e184646f54e61524779dc7.setIcon(icon_4d08a4cef0b616d338807bbe4c85b523);\n",
       "        \n",
       "    \n",
       "        var popup_fde8055afb262a7281104e32a69abec3 = L.popup({&quot;maxWidth&quot;: &quot;100%&quot;});\n",
       "\n",
       "        \n",
       "            \n",
       "                var html_959928dae433542236991cc6fb82e926 = $(`&lt;div id=&quot;html_959928dae433542236991cc6fb82e926&quot; style=&quot;width: 100.0%; height: 100.0%;&quot;&gt;         &lt;b&gt;Mima&lt;/b&gt;&lt;br&gt;         via Madonnelle 9&lt;br&gt;         Vico Equense, Italy&lt;br&gt;         Price Range: €€&lt;br&gt;         Cuisine Type: Seasonal Cuisine, Mediterranean Cuisine         &lt;/div&gt;`)[0];\n",
       "                popup_fde8055afb262a7281104e32a69abec3.setContent(html_959928dae433542236991cc6fb82e926);\n",
       "            \n",
       "        \n",
       "\n",
       "        marker_00eac06002e184646f54e61524779dc7.bindPopup(popup_fde8055afb262a7281104e32a69abec3)\n",
       "        ;\n",
       "\n",
       "        \n",
       "    \n",
       "    \n",
       "            var marker_6d3aaf516042edd215d1568a1594debd = L.marker(\n",
       "                [39.6978818, 16.1271277],\n",
       "                {}\n",
       "            ).addTo(map_b8e54e45c47e19796c92ad88fcdff6d8);\n",
       "        \n",
       "    \n",
       "            var icon_a276bdbcd98ee0198c5c9740c831cd89 = L.AwesomeMarkers.icon(\n",
       "                {&quot;extraClasses&quot;: &quot;fa-rotate-0&quot;, &quot;icon&quot;: &quot;cutlery&quot;, &quot;iconColor&quot;: &quot;white&quot;, &quot;markerColor&quot;: &quot;blue&quot;, &quot;prefix&quot;: &quot;glyphicon&quot;}\n",
       "            );\n",
       "            marker_6d3aaf516042edd215d1568a1594debd.setIcon(icon_a276bdbcd98ee0198c5c9740c831cd89);\n",
       "        \n",
       "    \n",
       "        var popup_7e45e8874fe95aebdc3f7de10dd706fe = L.popup({&quot;maxWidth&quot;: &quot;100%&quot;});\n",
       "\n",
       "        \n",
       "            \n",
       "                var html_11dbe9432bab1bb54d2060168256d785 = $(`&lt;div id=&quot;html_11dbe9432bab1bb54d2060168256d785&quot; style=&quot;width: 100.0%; height: 100.0%;&quot;&gt;         &lt;b&gt;Barbieri&lt;/b&gt;&lt;br&gt;         via Italo Barbieri&lt;br&gt;         Altomonte, Italy&lt;br&gt;         Price Range: €€&lt;br&gt;         Cuisine Type: Calabrian, Traditional Cuisine         &lt;/div&gt;`)[0];\n",
       "                popup_7e45e8874fe95aebdc3f7de10dd706fe.setContent(html_11dbe9432bab1bb54d2060168256d785);\n",
       "            \n",
       "        \n",
       "\n",
       "        marker_6d3aaf516042edd215d1568a1594debd.bindPopup(popup_7e45e8874fe95aebdc3f7de10dd706fe)\n",
       "        ;\n",
       "\n",
       "        \n",
       "    \n",
       "&lt;/script&gt;\n",
       "&lt;/html&gt;\" style=\"position:absolute;width:100%;height:100%;left:0;top:0;border:none !important;\" allowfullscreen webkitallowfullscreen mozallowfullscreen></iframe></div></div>"
      ],
      "text/plain": [
       "<folium.folium.Map at 0x7df4c7f72380>"
      ]
     },
     "execution_count": 14,
     "metadata": {},
     "output_type": "execute_result"
    }
   ],
   "source": [
    "import folium\n",
    "\n",
    "def plot_top_restaurants(top_k_restaurants):\n",
    "    \n",
    "    # Initialize a map centered on Italy\n",
    "    italy_map = folium.Map(location=[41.8719, 12.5674], zoom_start=6)\n",
    "    \n",
    "    # Define a color scheme for price ranges\n",
    "    price_color = {\n",
    "        \"€\": \"green\",\n",
    "        \"€€\": \"blue\",\n",
    "        \"€€€\": \"orange\",\n",
    "        \"€€€€\": \"red\"\n",
    "    }\n",
    "    \n",
    "    # Add each restaurant to the map\n",
    "    for _, row in top_k_restaurants.iterrows():\n",
    "        popup_info = f\"\"\"\n",
    "        <b>{row['restaurantName']}</b><br>\n",
    "        {row['address']}<br>\n",
    "        {row['city']}, {row['country']}<br>\n",
    "        Price Range: {row['priceRange']}<br>\n",
    "        Cuisine Type: {row['cuisineType']}\n",
    "        \"\"\"\n",
    "        \n",
    "        folium.Marker(\n",
    "            location=[row['latitude'], row['longitude']],\n",
    "            popup=popup_info,\n",
    "            icon=folium.Icon(color=price_color.get(row['priceRange'], \"gray\"), icon=\"cutlery\"),\n",
    "        ).add_to(italy_map)\n",
    "    \n",
    "    return italy_map\n",
    "\n",
    "enriched_restaurants_df = enrich_with_coordinates(ranked_results)  # Add coordinates to the DataFrame\n",
    "map_result = plot_top_restaurants(enriched_restaurants_df)\n",
    "\n",
    "# Display map in Jupyter notebook\n",
    "map_result\n"
   ]
  },
  {
   "cell_type": "code",
   "execution_count": null,
   "metadata": {},
   "outputs": [],
   "source": []
  }
 ],
 "metadata": {
  "kernelspec": {
   "display_name": "Python (toxi3)",
   "language": "python",
   "name": "toxi3"
  },
  "language_info": {
   "codemirror_mode": {
    "name": "ipython",
    "version": 3
   },
   "file_extension": ".py",
   "mimetype": "text/x-python",
   "name": "python",
   "nbconvert_exporter": "python",
   "pygments_lexer": "ipython3",
   "version": "3.10.12"
  }
 },
 "nbformat": 4,
 "nbformat_minor": 2
}
